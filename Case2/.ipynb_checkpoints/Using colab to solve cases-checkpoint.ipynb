{
 "cells": [
  {
   "cell_type": "markdown",
   "metadata": {
    "colab_type": "text",
    "id": "9FULcGW7OcjF"
   },
   "source": [
    "[How to connect google colab with google drive](https://www.marktechpost.com/2019/06/07/how-to-connect-google-colab-with-google-drive/)"
   ]
  },
  {
   "cell_type": "code",
   "execution_count": 18,
   "metadata": {
    "colab": {
     "base_uri": "https://localhost:8080/",
     "height": 84
    },
    "colab_type": "code",
    "executionInfo": {
     "elapsed": 2108,
     "status": "ok",
     "timestamp": 1581424623606,
     "user": {
      "displayName": "Sakari Lukkarinen",
      "photoUrl": "https://lh3.googleusercontent.com/a-/AAuE7mDeVv4iMhLIH6361I9nnbVTMXyfluQ82N9Jp0H9=s64",
      "userId": "09164317849280611431"
     },
     "user_tz": -120
    },
    "id": "GiayFvpvQFsj",
    "outputId": "a5769ef6-af33-4024-bf44-9d09c10f6662"
   },
   "outputs": [
    {
     "name": "stdout",
     "output_type": "stream",
     "text": [
      "Populating the interactive namespace from numpy and matplotlib\n"
     ]
    },
    {
     "data": {
      "text/html": [
       "<p style=\"color: red;\">\n",
       "The default version of TensorFlow in Colab will soon switch to TensorFlow 2.x.<br>\n",
       "We recommend you <a href=\"https://www.tensorflow.org/guide/migrate\" target=\"_blank\">upgrade</a> now \n",
       "or ensure your notebook will continue to use TensorFlow 1.x via the <code>%tensorflow_version 1.x</code> magic:\n",
       "<a href=\"https://colab.research.google.com/notebooks/tensorflow_version.ipynb\" target=\"_blank\">more info</a>.</p>\n"
      ],
      "text/plain": [
       "<IPython.core.display.HTML object>"
      ]
     },
     "metadata": {
      "tags": []
     },
     "output_type": "display_data"
    }
   ],
   "source": [
    "%pylab inline\n",
    "from tensorflow import keras\n",
    "from tensorflow.keras import layers, models, optimizers\n",
    "from tensorflow.keras.preprocessing.image import ImageDataGenerator\n",
    "\n",
    "from google.colab import drive"
   ]
  },
  {
   "cell_type": "code",
   "execution_count": 6,
   "metadata": {
    "colab": {
     "base_uri": "https://localhost:8080/",
     "height": 131
    },
    "colab_type": "code",
    "executionInfo": {
     "elapsed": 37875,
     "status": "ok",
     "timestamp": 1581424156929,
     "user": {
      "displayName": "Sakari Lukkarinen",
      "photoUrl": "https://lh3.googleusercontent.com/a-/AAuE7mDeVv4iMhLIH6361I9nnbVTMXyfluQ82N9Jp0H9=s64",
      "userId": "09164317849280611431"
     },
     "user_tz": -120
    },
    "id": "IqYNhabgOO5u",
    "outputId": "95852c7a-2fe1-4bf2-df0a-2d4374717e18"
   },
   "outputs": [
    {
     "name": "stdout",
     "output_type": "stream",
     "text": [
      "Go to this URL in a browser: https://accounts.google.com/o/oauth2/auth?client_id=947318989803-6bn6qk8qdgf4n4g3pfee6491hc0brc4i.apps.googleusercontent.com&redirect_uri=urn%3aietf%3awg%3aoauth%3a2.0%3aoob&response_type=code&scope=email%20https%3a%2f%2fwww.googleapis.com%2fauth%2fdocs.test%20https%3a%2f%2fwww.googleapis.com%2fauth%2fdrive%20https%3a%2f%2fwww.googleapis.com%2fauth%2fdrive.photos.readonly%20https%3a%2f%2fwww.googleapis.com%2fauth%2fpeopleapi.readonly\n",
      "\n",
      "Enter your authorization code:\n",
      "··········\n",
      "Mounted at /content/gdrive\n"
     ]
    }
   ],
   "source": [
    "drive.mount('/content/gdrive')"
   ]
  },
  {
   "cell_type": "code",
   "execution_count": 16,
   "metadata": {
    "colab": {
     "base_uri": "https://localhost:8080/",
     "height": 36
    },
    "colab_type": "code",
    "executionInfo": {
     "elapsed": 542,
     "status": "ok",
     "timestamp": 1581424548566,
     "user": {
      "displayName": "Sakari Lukkarinen",
      "photoUrl": "https://lh3.googleusercontent.com/a-/AAuE7mDeVv4iMhLIH6361I9nnbVTMXyfluQ82N9Jp0H9=s64",
      "userId": "09164317849280611431"
     },
     "user_tz": -120
    },
    "id": "PyDg9YR0Nqas",
    "outputId": "5a38b60b-cea3-4a26-fb0d-e96206ae9e47"
   },
   "outputs": [
    {
     "data": {
      "text/plain": [
       "['PNEUMONIA', 'NORMAL', '.DS_Store']"
      ]
     },
     "execution_count": 16,
     "metadata": {
      "tags": []
     },
     "output_type": "execute_result"
    }
   ],
   "source": [
    "import os\n",
    "train_dir = \"/content/gdrive/My Drive/ChestXRay2017/chest_xray/train\"\n",
    "os.listdir(train_dir)\n",
    "# Check all contents\n",
    "#for dirname, _, filenames in os.walk(train_dir):\n",
    "#    for filename in filenames:\n",
    "#        print(os.path.join(dirname, filename))"
   ]
  },
  {
   "cell_type": "code",
   "execution_count": 20,
   "metadata": {
    "colab": {
     "base_uri": "https://localhost:8080/",
     "height": 54
    },
    "colab_type": "code",
    "executionInfo": {
     "elapsed": 740,
     "status": "ok",
     "timestamp": 1581424702815,
     "user": {
      "displayName": "Sakari Lukkarinen",
      "photoUrl": "https://lh3.googleusercontent.com/a-/AAuE7mDeVv4iMhLIH6361I9nnbVTMXyfluQ82N9Jp0H9=s64",
      "userId": "09164317849280611431"
     },
     "user_tz": -120
    },
    "id": "QKPIeHNKN6_g",
    "outputId": "9163eb1c-b919-4824-d02d-3c2a9e026a1d"
   },
   "outputs": [
    {
     "name": "stdout",
     "output_type": "stream",
     "text": [
      "Found 3365 images belonging to 2 classes.\n",
      "Found 1441 images belonging to 2 classes.\n"
     ]
    }
   ],
   "source": [
    "train_datagen = ImageDataGenerator(rescale=1./255, \n",
    "                                   validation_split = 0.3,\n",
    "                                  rotation_range = 60)\n",
    "\n",
    "train_generator = train_datagen.flow_from_directory(\n",
    "    train_dir,\n",
    "    target_size = (150, 150),\n",
    "    batch_size=16,\n",
    "    class_mode='binary',\n",
    "    subset = \"training\")\n",
    "\n",
    "dev_generator = train_datagen.flow_from_directory(\n",
    "    train_dir,\n",
    "    target_size = (150, 150),\n",
    "    batch_size=16,\n",
    "    class_mode='binary',\n",
    "    subset = \"validation\")"
   ]
  },
  {
   "cell_type": "code",
   "execution_count": 22,
   "metadata": {
    "colab": {
     "base_uri": "https://localhost:8080/",
     "height": 654
    },
    "colab_type": "code",
    "executionInfo": {
     "elapsed": 561,
     "status": "ok",
     "timestamp": 1581424736287,
     "user": {
      "displayName": "Sakari Lukkarinen",
      "photoUrl": "https://lh3.googleusercontent.com/a-/AAuE7mDeVv4iMhLIH6361I9nnbVTMXyfluQ82N9Jp0H9=s64",
      "userId": "09164317849280611431"
     },
     "user_tz": -120
    },
    "id": "vyFYhY6yQfGy",
    "outputId": "be78d89f-cdf6-4935-e491-cbd2f1ccc722"
   },
   "outputs": [
    {
     "name": "stdout",
     "output_type": "stream",
     "text": [
      "WARNING:tensorflow:From /usr/local/lib/python3.6/dist-packages/tensorflow_core/python/ops/nn_impl.py:183: where (from tensorflow.python.ops.array_ops) is deprecated and will be removed in a future version.\n",
      "Instructions for updating:\n",
      "Use tf.where in 2.0, which has the same broadcast rule as np.where\n",
      "Model: \"sequential_1\"\n",
      "_________________________________________________________________\n",
      "Layer (type)                 Output Shape              Param #   \n",
      "=================================================================\n",
      "conv2d_4 (Conv2D)            (None, 148, 148, 32)      896       \n",
      "_________________________________________________________________\n",
      "max_pooling2d_4 (MaxPooling2 (None, 74, 74, 32)        0         \n",
      "_________________________________________________________________\n",
      "conv2d_5 (Conv2D)            (None, 72, 72, 32)        9248      \n",
      "_________________________________________________________________\n",
      "max_pooling2d_5 (MaxPooling2 (None, 36, 36, 32)        0         \n",
      "_________________________________________________________________\n",
      "conv2d_6 (Conv2D)            (None, 34, 34, 32)        9248      \n",
      "_________________________________________________________________\n",
      "max_pooling2d_6 (MaxPooling2 (None, 17, 17, 32)        0         \n",
      "_________________________________________________________________\n",
      "conv2d_7 (Conv2D)            (None, 15, 15, 32)        9248      \n",
      "_________________________________________________________________\n",
      "max_pooling2d_7 (MaxPooling2 (None, 7, 7, 32)          0         \n",
      "_________________________________________________________________\n",
      "flatten_1 (Flatten)          (None, 1568)              0         \n",
      "_________________________________________________________________\n",
      "dense_2 (Dense)              (None, 512)               803328    \n",
      "_________________________________________________________________\n",
      "dense_3 (Dense)              (None, 1)                 513       \n",
      "=================================================================\n",
      "Total params: 832,481\n",
      "Trainable params: 832,481\n",
      "Non-trainable params: 0\n",
      "_________________________________________________________________\n"
     ]
    }
   ],
   "source": [
    "model = models.Sequential()\n",
    "model.add(layers.Conv2D(32, (3, 3), activation = 'relu', input_shape = (150, 150, 3)))\n",
    "model.add(layers.MaxPooling2D((2, 2)))\n",
    "model.add(layers.Conv2D(32, (3, 3), activation = 'relu'))\n",
    "model.add(layers.MaxPooling2D((2, 2)))\n",
    "model.add(layers.Conv2D(32, (3, 3), activation = 'relu'))\n",
    "model.add(layers.MaxPooling2D((2, 2)))\n",
    "model.add(layers.Conv2D(32, (3, 3), activation = 'relu'))\n",
    "model.add(layers.MaxPooling2D((2, 2)))\n",
    "model.add(layers.Flatten())\n",
    "model.add(layers.Dense(512, activation = 'relu'))\n",
    "model.add(layers.Dense(1, activation = 'sigmoid'))\n",
    "\n",
    "model.compile(loss = 'binary_crossentropy',\n",
    "              optimizer = optimizers.RMSprop(lr = 1e-4),\n",
    "              metrics = ['acc'])\n",
    "\n",
    "model.summary()"
   ]
  },
  {
   "cell_type": "code",
   "execution_count": 25,
   "metadata": {
    "colab": {
     "base_uri": "https://localhost:8080/",
     "height": 578
    },
    "colab_type": "code",
    "executionInfo": {
     "elapsed": 2270874,
     "status": "ok",
     "timestamp": 1581427815099,
     "user": {
      "displayName": "Sakari Lukkarinen",
      "photoUrl": "https://lh3.googleusercontent.com/a-/AAuE7mDeVv4iMhLIH6361I9nnbVTMXyfluQ82N9Jp0H9=s64",
      "userId": "09164317849280611431"
     },
     "user_tz": -120
    },
    "id": "J2l4bPkUQkBU",
    "outputId": "3658f787-29cc-48bc-9211-377a95da6295"
   },
   "outputs": [
    {
     "name": "stdout",
     "output_type": "stream",
     "text": [
      "Epoch 1/10\n",
      "210/211 [============================>.] - ETA: 3s - loss: 0.5467 - acc: 0.7405Epoch 1/10\n",
      "211/211 [==============================] - 1154s 5s/step - loss: 0.5461 - acc: 0.7412 - val_loss: 0.4459 - val_acc: 0.7356\n",
      "Epoch 2/10\n",
      "210/211 [============================>.] - ETA: 0s - loss: 0.3429 - acc: 0.8540Epoch 1/10\n",
      "211/211 [==============================] - 197s 935ms/step - loss: 0.3420 - acc: 0.8547 - val_loss: 0.2963 - val_acc: 0.8730\n",
      "Epoch 3/10\n",
      "210/211 [============================>.] - ETA: 0s - loss: 0.2748 - acc: 0.8895Epoch 1/10\n",
      "211/211 [==============================] - 196s 929ms/step - loss: 0.2749 - acc: 0.8897 - val_loss: 0.2690 - val_acc: 0.8765\n",
      "Epoch 4/10\n",
      "210/211 [============================>.] - ETA: 0s - loss: 0.2489 - acc: 0.8970Epoch 1/10\n",
      "211/211 [==============================] - 194s 919ms/step - loss: 0.2489 - acc: 0.8969 - val_loss: 0.2573 - val_acc: 0.8751\n",
      "Epoch 5/10\n",
      "210/211 [============================>.] - ETA: 0s - loss: 0.2249 - acc: 0.9059Epoch 1/10\n",
      "211/211 [==============================] - 192s 911ms/step - loss: 0.2243 - acc: 0.9064 - val_loss: 0.3410 - val_acc: 0.8598\n",
      "Epoch 6/10\n",
      "210/211 [============================>.] - ETA: 0s - loss: 0.2119 - acc: 0.9107Epoch 1/10\n",
      "211/211 [==============================] - 191s 904ms/step - loss: 0.2131 - acc: 0.9103 - val_loss: 0.2795 - val_acc: 0.8737\n",
      "Epoch 7/10\n",
      "210/211 [============================>.] - ETA: 0s - loss: 0.1884 - acc: 0.9265Epoch 1/10\n",
      "211/211 [==============================] - 191s 905ms/step - loss: 0.1894 - acc: 0.9260 - val_loss: 0.2404 - val_acc: 0.8848\n",
      "Epoch 8/10\n",
      "210/211 [============================>.] - ETA: 0s - loss: 0.1825 - acc: 0.9262Epoch 1/10\n",
      "211/211 [==============================] - 190s 902ms/step - loss: 0.1819 - acc: 0.9266 - val_loss: 0.2085 - val_acc: 0.9028\n",
      "Epoch 9/10\n",
      "210/211 [============================>.] - ETA: 0s - loss: 0.1793 - acc: 0.9307Epoch 1/10\n",
      "211/211 [==============================] - 189s 897ms/step - loss: 0.1787 - acc: 0.9311 - val_loss: 0.1947 - val_acc: 0.9105\n",
      "Epoch 10/10\n",
      "210/211 [============================>.] - ETA: 0s - loss: 0.1671 - acc: 0.9355Epoch 1/10\n",
      "211/211 [==============================] - 192s 909ms/step - loss: 0.1682 - acc: 0.9352 - val_loss: 0.1947 - val_acc: 0.9223\n"
     ]
    }
   ],
   "source": [
    "history = model.fit_generator(\n",
    "      train_generator,\n",
    "      steps_per_epoch = None, # = 3365//16\n",
    "      verbose = 1,\n",
    "      epochs = 10,\n",
    "      validation_data = dev_generator,\n",
    "      validation_steps = None # = 1441//16\n",
    "      )\n",
    "\n",
    "# Save the model\n",
    "model.save('case_2_run_1.h5')"
   ]
  },
  {
   "cell_type": "code",
   "execution_count": 0,
   "metadata": {
    "colab": {},
    "colab_type": "code",
    "id": "St_A9AjsRPT1"
   },
   "outputs": [],
   "source": []
  }
 ],
 "metadata": {
  "colab": {
   "authorship_tag": "ABX9TyNILlELWJLVR/EelGtvUoAr",
   "name": "Using colab to solve cases.ipynb",
   "provenance": []
  },
  "kernelspec": {
   "display_name": "Python 3",
   "language": "python",
   "name": "python3"
  },
  "language_info": {
   "codemirror_mode": {
    "name": "ipython",
    "version": 3
   },
   "file_extension": ".py",
   "mimetype": "text/x-python",
   "name": "python",
   "nbconvert_exporter": "python",
   "pygments_lexer": "ipython3",
   "version": "3.7.3"
  }
 },
 "nbformat": 4,
 "nbformat_minor": 1
}
