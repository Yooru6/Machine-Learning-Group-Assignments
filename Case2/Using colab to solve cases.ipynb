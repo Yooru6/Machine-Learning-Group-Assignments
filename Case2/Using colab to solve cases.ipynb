{
 "cells": [
  {
   "cell_type": "markdown",
   "metadata": {
    "colab_type": "text",
    "id": "9FULcGW7OcjF"
   },
   "source": [
    "[How to connect google colab with google drive](https://www.marktechpost.com/2019/06/07/how-to-connect-google-colab-with-google-drive/)"
   ]
  },
  {
   "cell_type": "code",
   "execution_count": 3,
   "metadata": {
    "colab": {
     "base_uri": "https://localhost:8080/",
     "height": 84
    },
    "colab_type": "code",
    "executionInfo": {
     "elapsed": 2108,
     "status": "ok",
     "timestamp": 1581424623606,
     "user": {
      "displayName": "Sakari Lukkarinen",
      "photoUrl": "https://lh3.googleusercontent.com/a-/AAuE7mDeVv4iMhLIH6361I9nnbVTMXyfluQ82N9Jp0H9=s64",
      "userId": "09164317849280611431"
     },
     "user_tz": -120
    },
    "id": "GiayFvpvQFsj",
    "outputId": "a5769ef6-af33-4024-bf44-9d09c10f6662"
   },
   "outputs": [
    {
     "name": "stdout",
     "output_type": "stream",
     "text": [
      "Populating the interactive namespace from numpy and matplotlib\n"
     ]
    }
   ],
   "source": [
    "%pylab inline\n",
    "from tensorflow import keras\n",
    "from tensorflow.keras import layers, models, optimizers\n",
    "from tensorflow.keras.preprocessing.image import ImageDataGenerator\n",
    "\n",
    "#from google.colab import drive"
   ]
  },
  {
   "cell_type": "code",
   "execution_count": 6,
   "metadata": {
    "colab": {
     "base_uri": "https://localhost:8080/",
     "height": 131
    },
    "colab_type": "code",
    "executionInfo": {
     "elapsed": 37875,
     "status": "ok",
     "timestamp": 1581424156929,
     "user": {
      "displayName": "Sakari Lukkarinen",
      "photoUrl": "https://lh3.googleusercontent.com/a-/AAuE7mDeVv4iMhLIH6361I9nnbVTMXyfluQ82N9Jp0H9=s64",
      "userId": "09164317849280611431"
     },
     "user_tz": -120
    },
    "id": "IqYNhabgOO5u",
    "outputId": "95852c7a-2fe1-4bf2-df0a-2d4374717e18"
   },
   "outputs": [],
   "source": [
    "#drive.mount('/content/gdrive')"
   ]
  },
  {
   "cell_type": "code",
   "execution_count": 8,
   "metadata": {
    "colab": {
     "base_uri": "https://localhost:8080/",
     "height": 36
    },
    "colab_type": "code",
    "executionInfo": {
     "elapsed": 542,
     "status": "ok",
     "timestamp": 1581424548566,
     "user": {
      "displayName": "Sakari Lukkarinen",
      "photoUrl": "https://lh3.googleusercontent.com/a-/AAuE7mDeVv4iMhLIH6361I9nnbVTMXyfluQ82N9Jp0H9=s64",
      "userId": "09164317849280611431"
     },
     "user_tz": -120
    },
    "id": "PyDg9YR0Nqas",
    "outputId": "5a38b60b-cea3-4a26-fb0d-e96206ae9e47"
   },
   "outputs": [
    {
     "data": {
      "text/plain": [
       "['.DS_Store', 'NORMAL', 'PNEUMONIA']"
      ]
     },
     "execution_count": 8,
     "metadata": {},
     "output_type": "execute_result"
    }
   ],
   "source": [
    "import os\n",
    "train_dir = \"ChestXRay2017/chest_xray/train\"\n",
    "os.listdir(train_dir)\n",
    "# Check all contents\n",
    "#for dirname, _, filenames in os.walk(train_dir):\n",
    "#    for filename in filenames:\n",
    "#        print(os.path.join(dirname, filename))"
   ]
  },
  {
   "cell_type": "code",
   "execution_count": 9,
   "metadata": {
    "colab": {
     "base_uri": "https://localhost:8080/",
     "height": 54
    },
    "colab_type": "code",
    "executionInfo": {
     "elapsed": 740,
     "status": "ok",
     "timestamp": 1581424702815,
     "user": {
      "displayName": "Sakari Lukkarinen",
      "photoUrl": "https://lh3.googleusercontent.com/a-/AAuE7mDeVv4iMhLIH6361I9nnbVTMXyfluQ82N9Jp0H9=s64",
      "userId": "09164317849280611431"
     },
     "user_tz": -120
    },
    "id": "QKPIeHNKN6_g",
    "outputId": "9163eb1c-b919-4824-d02d-3c2a9e026a1d"
   },
   "outputs": [
    {
     "name": "stdout",
     "output_type": "stream",
     "text": [
      "Found 3664 images belonging to 2 classes.\n",
      "Found 1568 images belonging to 2 classes.\n"
     ]
    }
   ],
   "source": [
    "train_datagen = ImageDataGenerator(rescale=1./255, \n",
    "                                   validation_split = 0.3,\n",
    "                                  rotation_range = 60)\n",
    "\n",
    "train_generator = train_datagen.flow_from_directory(\n",
    "    train_dir,\n",
    "    target_size = (150, 150),\n",
    "    batch_size=16,\n",
    "    class_mode='binary',\n",
    "    subset = \"training\")\n",
    "\n",
    "dev_generator = train_datagen.flow_from_directory(\n",
    "    train_dir,\n",
    "    target_size = (150, 150),\n",
    "    batch_size=16,\n",
    "    class_mode='binary',\n",
    "    subset = \"validation\")"
   ]
  },
  {
   "cell_type": "code",
   "execution_count": 10,
   "metadata": {
    "colab": {
     "base_uri": "https://localhost:8080/",
     "height": 654
    },
    "colab_type": "code",
    "executionInfo": {
     "elapsed": 561,
     "status": "ok",
     "timestamp": 1581424736287,
     "user": {
      "displayName": "Sakari Lukkarinen",
      "photoUrl": "https://lh3.googleusercontent.com/a-/AAuE7mDeVv4iMhLIH6361I9nnbVTMXyfluQ82N9Jp0H9=s64",
      "userId": "09164317849280611431"
     },
     "user_tz": -120
    },
    "id": "vyFYhY6yQfGy",
    "outputId": "be78d89f-cdf6-4935-e491-cbd2f1ccc722"
   },
   "outputs": [
    {
     "name": "stdout",
     "output_type": "stream",
     "text": [
      "WARNING:tensorflow:From C:\\ProgramData\\Anaconda3\\lib\\site-packages\\tensorflow\\python\\ops\\init_ops.py:1251: calling VarianceScaling.__init__ (from tensorflow.python.ops.init_ops) with dtype is deprecated and will be removed in a future version.\n",
      "Instructions for updating:\n",
      "Call initializer instance with the dtype argument instead of passing it to the constructor\n",
      "WARNING:tensorflow:From C:\\ProgramData\\Anaconda3\\lib\\site-packages\\tensorflow\\python\\ops\\nn_impl.py:180: add_dispatch_support.<locals>.wrapper (from tensorflow.python.ops.array_ops) is deprecated and will be removed in a future version.\n",
      "Instructions for updating:\n",
      "Use tf.where in 2.0, which has the same broadcast rule as np.where\n",
      "Model: \"sequential\"\n",
      "_________________________________________________________________\n",
      "Layer (type)                 Output Shape              Param #   \n",
      "=================================================================\n",
      "conv2d (Conv2D)              (None, 148, 148, 32)      896       \n",
      "_________________________________________________________________\n",
      "max_pooling2d (MaxPooling2D) (None, 74, 74, 32)        0         \n",
      "_________________________________________________________________\n",
      "conv2d_1 (Conv2D)            (None, 72, 72, 32)        9248      \n",
      "_________________________________________________________________\n",
      "max_pooling2d_1 (MaxPooling2 (None, 36, 36, 32)        0         \n",
      "_________________________________________________________________\n",
      "conv2d_2 (Conv2D)            (None, 34, 34, 32)        9248      \n",
      "_________________________________________________________________\n",
      "max_pooling2d_2 (MaxPooling2 (None, 17, 17, 32)        0         \n",
      "_________________________________________________________________\n",
      "conv2d_3 (Conv2D)            (None, 15, 15, 32)        9248      \n",
      "_________________________________________________________________\n",
      "max_pooling2d_3 (MaxPooling2 (None, 7, 7, 32)          0         \n",
      "_________________________________________________________________\n",
      "flatten (Flatten)            (None, 1568)              0         \n",
      "_________________________________________________________________\n",
      "dense (Dense)                (None, 512)               803328    \n",
      "_________________________________________________________________\n",
      "dense_1 (Dense)              (None, 1)                 513       \n",
      "=================================================================\n",
      "Total params: 832,481\n",
      "Trainable params: 832,481\n",
      "Non-trainable params: 0\n",
      "_________________________________________________________________\n"
     ]
    }
   ],
   "source": [
    "model = models.Sequential()\n",
    "model.add(layers.Conv2D(32, (3, 3), activation = 'relu', input_shape = (150, 150, 3)))\n",
    "model.add(layers.MaxPooling2D((2, 2)))\n",
    "model.add(layers.Conv2D(32, (3, 3), activation = 'relu'))\n",
    "model.add(layers.MaxPooling2D((2, 2)))\n",
    "model.add(layers.Conv2D(32, (3, 3), activation = 'relu'))\n",
    "model.add(layers.MaxPooling2D((2, 2)))\n",
    "model.add(layers.Conv2D(32, (3, 3), activation = 'relu'))\n",
    "model.add(layers.MaxPooling2D((2, 2)))\n",
    "model.add(layers.Flatten())\n",
    "model.add(layers.Dense(512, activation = 'relu'))\n",
    "model.add(layers.Dense(1, activation = 'sigmoid'))\n",
    "\n",
    "model.compile(loss = 'binary_crossentropy',\n",
    "              optimizer = optimizers.RMSprop(lr = 1e-4),\n",
    "              metrics = ['acc'])\n",
    "\n",
    "model.summary()"
   ]
  },
  {
   "cell_type": "code",
   "execution_count": 11,
   "metadata": {
    "colab": {
     "base_uri": "https://localhost:8080/",
     "height": 578
    },
    "colab_type": "code",
    "executionInfo": {
     "elapsed": 2270874,
     "status": "ok",
     "timestamp": 1581427815099,
     "user": {
      "displayName": "Sakari Lukkarinen",
      "photoUrl": "https://lh3.googleusercontent.com/a-/AAuE7mDeVv4iMhLIH6361I9nnbVTMXyfluQ82N9Jp0H9=s64",
      "userId": "09164317849280611431"
     },
     "user_tz": -120
    },
    "id": "J2l4bPkUQkBU",
    "outputId": "3658f787-29cc-48bc-9211-377a95da6295"
   },
   "outputs": [
    {
     "name": "stdout",
     "output_type": "stream",
     "text": [
      "Epoch 1/10\n",
      "229/229 [==============================] - 173s 756ms/step - loss: 0.5316 - acc: 0.7486 - val_loss: 0.4677 - val_acc: 0.7430\n",
      "Epoch 2/10\n",
      "229/229 [==============================] - 182s 793ms/step - loss: 0.3377 - acc: 0.8603 - val_loss: 0.3126 - val_acc: 0.8820\n",
      "Epoch 3/10\n",
      "229/229 [==============================] - 171s 745ms/step - loss: 0.2659 - acc: 0.8911 - val_loss: 0.3481 - val_acc: 0.8533\n",
      "Epoch 4/10\n",
      "229/229 [==============================] - 181s 792ms/step - loss: 0.2293 - acc: 0.9058 - val_loss: 0.2475 - val_acc: 0.8884\n",
      "Epoch 5/10\n",
      "229/229 [==============================] - 194s 845ms/step - loss: 0.2071 - acc: 0.9209 - val_loss: 0.2264 - val_acc: 0.8999\n",
      "Epoch 6/10\n",
      "229/229 [==============================] - 177s 774ms/step - loss: 0.1895 - acc: 0.9192 - val_loss: 0.2091 - val_acc: 0.9133\n",
      "Epoch 7/10\n",
      "229/229 [==============================] - 153s 667ms/step - loss: 0.1775 - acc: 0.9320 - val_loss: 0.2299 - val_acc: 0.8967\n",
      "Epoch 8/10\n",
      "229/229 [==============================] - 160s 698ms/step - loss: 0.1676 - acc: 0.9342 - val_loss: 0.1966 - val_acc: 0.9133\n",
      "Epoch 9/10\n",
      "229/229 [==============================] - 164s 715ms/step - loss: 0.1646 - acc: 0.9356 - val_loss: 0.1836 - val_acc: 0.9247\n",
      "Epoch 10/10\n",
      "229/229 [==============================] - 147s 643ms/step - loss: 0.1538 - acc: 0.9372 - val_loss: 0.1890 - val_acc: 0.9145\n"
     ]
    }
   ],
   "source": [
    "history = model.fit_generator(\n",
    "      train_generator,\n",
    "      steps_per_epoch = None, # = 3365//16\n",
    "      verbose = 1,\n",
    "      epochs = 10,\n",
    "      validation_data = dev_generator,\n",
    "      validation_steps = None # = 1441//16\n",
    "      )\n",
    "\n",
    "# Save the model\n",
    "model.save('case_2_run_1.h5')"
   ]
  },
  {
   "cell_type": "code",
   "execution_count": null,
   "metadata": {
    "colab": {},
    "colab_type": "code",
    "id": "St_A9AjsRPT1"
   },
   "outputs": [],
   "source": []
  }
 ],
 "metadata": {
  "colab": {
   "authorship_tag": "ABX9TyNILlELWJLVR/EelGtvUoAr",
   "name": "Using colab to solve cases.ipynb",
   "provenance": []
  },
  "kernelspec": {
   "display_name": "Python 3",
   "language": "python",
   "name": "python3"
  },
  "language_info": {
   "codemirror_mode": {
    "name": "ipython",
    "version": 3
   },
   "file_extension": ".py",
   "mimetype": "text/x-python",
   "name": "python",
   "nbconvert_exporter": "python",
   "pygments_lexer": "ipython3",
   "version": "3.7.3"
  }
 },
 "nbformat": 4,
 "nbformat_minor": 1
}
