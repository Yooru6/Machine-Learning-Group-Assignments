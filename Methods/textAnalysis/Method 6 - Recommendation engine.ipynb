{
 "cells": [
  {
   "cell_type": "code",
   "execution_count": 1,
   "metadata": {},
   "outputs": [],
   "source": [
    "import pandas as pd\n",
    "import numpy as np\n",
    "from sklearn.linear_model import LogisticRegression\n",
    "from sklearn.preprocessing import StandardScaler\n",
    "from sklearn.metrics import confusion_matrix\n",
    "from sklearn.metrics import classification_report\n",
    "#from sklearn.cross_validation import cross_val_score\n",
    "from sklearn.model_selection import cross_val_score\n",
    "from surprise import SVD\n",
    "from surprise import Dataset\n",
    "from surprise.reader import Reader\n",
    "from surprise.model_selection import cross_validate\n",
    "from sklearn.model_selection import train_test_split\n",
    "from surprise.model_selection.search import GridSearchCV\n",
    "import matplotlib.pyplot as plt"
   ]
  },
  {
   "cell_type": "code",
   "execution_count": 26,
   "metadata": {},
   "outputs": [
    {
     "data": {
      "text/plain": [
       "12294"
      ]
     },
     "execution_count": 26,
     "metadata": {},
     "output_type": "execute_result"
    }
   ],
   "source": [
    "#read the anime file\n",
    "#anime = pd.read_csv('C:\\\\Users\\\\przem\\\\Documents\\\\anime.csv', sep=',')\n",
    "anime = pd.read_csv('anime.csv', sep=',')\n",
    "anime.head(5)\n",
    "len(anime)"
   ]
  },
  {
   "cell_type": "code",
   "execution_count": 27,
   "metadata": {},
   "outputs": [
    {
     "data": {
      "text/html": [
       "<div>\n",
       "<style scoped>\n",
       "    .dataframe tbody tr th:only-of-type {\n",
       "        vertical-align: middle;\n",
       "    }\n",
       "\n",
       "    .dataframe tbody tr th {\n",
       "        vertical-align: top;\n",
       "    }\n",
       "\n",
       "    .dataframe thead th {\n",
       "        text-align: right;\n",
       "    }\n",
       "</style>\n",
       "<table border=\"1\" class=\"dataframe\">\n",
       "  <thead>\n",
       "    <tr style=\"text-align: right;\">\n",
       "      <th></th>\n",
       "      <th>user_id</th>\n",
       "      <th>anime_id</th>\n",
       "      <th>rating</th>\n",
       "    </tr>\n",
       "  </thead>\n",
       "  <tbody>\n",
       "    <tr>\n",
       "      <td>count</td>\n",
       "      <td>7.813737e+06</td>\n",
       "      <td>7.813737e+06</td>\n",
       "      <td>7.813737e+06</td>\n",
       "    </tr>\n",
       "    <tr>\n",
       "      <td>mean</td>\n",
       "      <td>3.672796e+04</td>\n",
       "      <td>8.909072e+03</td>\n",
       "      <td>6.144030e+00</td>\n",
       "    </tr>\n",
       "    <tr>\n",
       "      <td>std</td>\n",
       "      <td>2.099795e+04</td>\n",
       "      <td>8.883950e+03</td>\n",
       "      <td>3.727800e+00</td>\n",
       "    </tr>\n",
       "    <tr>\n",
       "      <td>min</td>\n",
       "      <td>1.000000e+00</td>\n",
       "      <td>1.000000e+00</td>\n",
       "      <td>-1.000000e+00</td>\n",
       "    </tr>\n",
       "    <tr>\n",
       "      <td>25%</td>\n",
       "      <td>1.897400e+04</td>\n",
       "      <td>1.240000e+03</td>\n",
       "      <td>6.000000e+00</td>\n",
       "    </tr>\n",
       "    <tr>\n",
       "      <td>50%</td>\n",
       "      <td>3.679100e+04</td>\n",
       "      <td>6.213000e+03</td>\n",
       "      <td>7.000000e+00</td>\n",
       "    </tr>\n",
       "    <tr>\n",
       "      <td>75%</td>\n",
       "      <td>5.475700e+04</td>\n",
       "      <td>1.409300e+04</td>\n",
       "      <td>9.000000e+00</td>\n",
       "    </tr>\n",
       "    <tr>\n",
       "      <td>max</td>\n",
       "      <td>7.351600e+04</td>\n",
       "      <td>3.451900e+04</td>\n",
       "      <td>1.000000e+01</td>\n",
       "    </tr>\n",
       "  </tbody>\n",
       "</table>\n",
       "</div>"
      ],
      "text/plain": [
       "            user_id      anime_id        rating\n",
       "count  7.813737e+06  7.813737e+06  7.813737e+06\n",
       "mean   3.672796e+04  8.909072e+03  6.144030e+00\n",
       "std    2.099795e+04  8.883950e+03  3.727800e+00\n",
       "min    1.000000e+00  1.000000e+00 -1.000000e+00\n",
       "25%    1.897400e+04  1.240000e+03  6.000000e+00\n",
       "50%    3.679100e+04  6.213000e+03  7.000000e+00\n",
       "75%    5.475700e+04  1.409300e+04  9.000000e+00\n",
       "max    7.351600e+04  3.451900e+04  1.000000e+01"
      ]
     },
     "execution_count": 27,
     "metadata": {},
     "output_type": "execute_result"
    }
   ],
   "source": [
    "#read the rating file\n",
    "#rating = pd.read_csv('C:\\\\Users\\\\przem\\\\Documents\\\\rating.csv', sep=',')\n",
    "rating = pd.read_csv('rating.csv', sep=',')\n",
    "#train and test split\n",
    "train,test = train_test_split(rating,shuffle = True, test_size = 0.2)\n",
    "rating.describe()\n",
    "\n",
    "#len(rating)"
   ]
  },
  {
   "cell_type": "markdown",
   "metadata": {},
   "source": [
    "# Filtering"
   ]
  },
  {
   "cell_type": "code",
   "execution_count": 28,
   "metadata": {},
   "outputs": [],
   "source": [
    "#Filter Data. Return df where column name == vale\n",
    "def FilterByColumnValue(data, columnName, value):\n",
    "    filtered=data.loc[data[columnName].isin(value)]\n",
    "    return filtered\n",
    "\n",
    "#Return df which contains string 'value'\n",
    "def FilterByColumnHas(data, columnName, value):\n",
    "    filtered=data.loc[data[columnName].str.contains(value)]\n",
    "    return filtered"
   ]
  },
  {
   "cell_type": "markdown",
   "metadata": {},
   "source": [
    "### Count and make list of users that have made less than 100 reviews"
   ]
  },
  {
   "cell_type": "code",
   "execution_count": 159,
   "metadata": {},
   "outputs": [],
   "source": [
    "from collections import Counter\n",
    "\n",
    "#counter=Counter()\n",
    "\n",
    "#Count users and sum of their reviews\n",
    "counter=Counter(rating['user_id'])\n",
    "\n",
    "\n",
    "#Filter all reviewers with more than 99 reviews\n",
    "filt={x : counter[x] for x in counter if counter[x] <= 99}\n",
    "reviewers=sorted(filt,key=filt.get,reverse=True)"
   ]
  },
  {
   "cell_type": "markdown",
   "metadata": {},
   "source": [
    "### Filter users:"
   ]
  },
  {
   "cell_type": "code",
   "execution_count": 238,
   "metadata": {},
   "outputs": [
    {
     "name": "stdout",
     "output_type": "stream",
     "text": [
      "201004\n",
      "2348\n"
     ]
    }
   ],
   "source": [
    "#filter all but anime\n",
    "anime_data=filterByColumnValue(anime,'type',['Movie'])\n",
    "#make list of anime_id's in Movies\n",
    "anime_data=anime_data['anime_id'].values\n",
    "\n",
    "#filter rating data with reviwer<99 list\n",
    "rating_x=filterByColumnValue(rating,'user_id',reviewers)\n",
    "\n",
    "#Filter rating data with previously made list of movies\n",
    "rating_x=filterByColumnValue(rating_x,'anime_id',anime_data)\n",
    "\n",
    "#filter all unrated movies\n",
    "rating_x=rating_x[rating_x['rating'] >0]\n",
    "\n",
    "\n",
    "len((rating_x['user_id'].unique()))\n",
    "print(len(rating_x))\n",
    "\n",
    "anime_id=rating_x['anime_id'].values\n",
    "anime_x=filterByColumnValue(anime,'anime_id',anime_id)\n",
    "print(len(anime_data))"
   ]
  },
  {
   "cell_type": "code",
   "execution_count": 82,
   "metadata": {
    "scrolled": true
   },
   "outputs": [
    {
     "data": {
      "text/plain": [
       "833221"
      ]
     },
     "execution_count": 82,
     "metadata": {},
     "output_type": "execute_result"
    }
   ],
   "source": [
    "def OptionalFilter():\n",
    "    #remove all rating < 5\n",
    "    anime_data=anime[anime['rating'] >4.0]\n",
    "\n",
    "    #remove all members < 150k\n",
    "    anime_data=anime_data[anime_data['members'] >1000]\n",
    "\n",
    "    #remove all but movies\n",
    "    anime_data=filterByColumnValue(anime_data,'type',['Movie'])\n",
    "    anime_filterdata=anime_data['anime_id'].values\n",
    "\n",
    "\n",
    "    len(anime_data)\n",
    "\n",
    "    #filter review with anime_filtered\n",
    "    rating_train=filterByColumnValue(rating,'anime_id',anime_filterdata)\n",
    "    rating_train=rating_train[rating_train['rating'] >0]\n",
    "    len(rating_train)\n",
    "    \n",
    "    len(anime_data['genre'].unique())\n",
    "    len(anime_data)\n",
    "\n"
   ]
  },
  {
   "cell_type": "code",
   "execution_count": 83,
   "metadata": {},
   "outputs": [
    {
     "data": {
      "text/plain": [
       "904"
      ]
     },
     "execution_count": 83,
     "metadata": {},
     "output_type": "execute_result"
    }
   ],
   "source": []
  },
  {
   "cell_type": "markdown",
   "metadata": {},
   "source": [
    "# Model 1"
   ]
  },
  {
   "cell_type": "code",
   "execution_count": null,
   "metadata": {},
   "outputs": [
    {
     "name": "stderr",
     "output_type": "stream",
     "text": [
      "[Parallel(n_jobs=1)]: Using backend SequentialBackend with 1 concurrent workers.\n",
      "[Parallel(n_jobs=1)]: Done   1 out of   1 | elapsed: 143.9min remaining:    0.0s\n"
     ]
    }
   ],
   "source": [
    "'''\n",
    "#create reader object\n",
    "reader = Reader(rating_scale = (-1,10))\n",
    "#load the rating into object readable by algorithm\n",
    "data_train = Dataset.load_from_df(train,reader)\n",
    "data_test = Dataset.load_from_df(test,reader)\n",
    "#creating a grid of parameters that I want to be tested\n",
    "#param_grid = {'n_epochs': [5, 10, 20], 'lr_all': [0.002, 0.005, 0.01], 'n_factors': [50,100,150,200], 'biased': [True, False],\n",
    " #             'reg_all': [0.2, 0.4, 0.6], 'init_mean': [0,5,6,6.14,7], 'init_std_dev': [0.1,2,3,3.7,4]}\n",
    "param_grid = {'n_epochs': [5, 10, 20], 'lr_all': [0.002, 0.005, 0.01]}\n",
    "#creating a object which will show RMSE and MAE for all parameters combinations described above\n",
    "gs = GridSearchCV(SVD, param_grid, measures=['rmse', 'mae'], cv=5, joblib_verbose = 5)\n",
    "gs.fit(data_train)\n",
    "\n",
    "# best RMSE score\n",
    "print(gs.best_score['rmse'])\n",
    "\n",
    "# combination of parameters that gave the best RMSE score\n",
    "print(gs.best_params['rmse'])\n",
    "\n",
    "#list all results\n",
    "results_df = pd.DataFrame.from_dict(gs.cv_results)\n",
    "results_df'''"
   ]
  },
  {
   "cell_type": "markdown",
   "metadata": {},
   "source": [
    "## Plot review amounts"
   ]
  },
  {
   "cell_type": "markdown",
   "metadata": {},
   "source": [
    "### Review amount - raw data (all types)"
   ]
  },
  {
   "cell_type": "code",
   "execution_count": 157,
   "metadata": {},
   "outputs": [
    {
     "data": {
      "image/png": "[encoded data removed]",
      "text/plain": [
       "<Figure size 720x720 with 1 Axes>"
      ]
     },
     "metadata": {
      "needs_background": "light"
     },
     "output_type": "display_data"
    },
    {
     "data": {
      "text/plain": [
       "7813737"
      ]
     },
     "execution_count": 157,
     "metadata": {},
     "output_type": "execute_result"
    }
   ],
   "source": [
    "rating.rating.value_counts().plot(kind='bar',figsize=(10,10))\n",
    "plt.show()\n",
    "len(rating)"
   ]
  },
  {
   "cell_type": "markdown",
   "metadata": {},
   "source": [
    "### Review amount filtered"
   ]
  },
  {
   "cell_type": "code",
   "execution_count": 158,
   "metadata": {},
   "outputs": [
    {
     "data": {
      "image/png": "[encoded data removed]",
      "text/plain": [
       "<Figure size 720x720 with 1 Axes>"
      ]
     },
     "metadata": {
      "needs_background": "light"
     },
     "output_type": "display_data"
    },
    {
     "data": {
      "text/plain": [
       "7813737"
      ]
     },
     "execution_count": 158,
     "metadata": {},
     "output_type": "execute_result"
    }
   ],
   "source": [
    "rating_x.rating.value_counts().plot(kind='bar',figsize=(10,10))\n",
    "plt.show()\n",
    "len(rating)"
   ]
  },
  {
   "cell_type": "markdown",
   "metadata": {},
   "source": [
    "### Review amount - train data"
   ]
  },
  {
   "cell_type": "code",
   "execution_count": 266,
   "metadata": {},
   "outputs": [
    {
     "data": {
      "image/png": "[encoded data removed]",
      "text/plain": [
       "<Figure size 720x720 with 1 Axes>"
      ]
     },
     "metadata": {
      "needs_background": "light"
     },
     "output_type": "display_data"
    }
   ],
   "source": [
    "\n",
    "train,test = train_test_split(rating_x,shuffle = True, test_size = 0.5)\n",
    "train.rating.value_counts().plot(kind='bar',figsize=(10,10))\n",
    "plt.show()"
   ]
  },
  {
   "cell_type": "markdown",
   "metadata": {},
   "source": [
    "## Model"
   ]
  },
  {
   "cell_type": "markdown",
   "metadata": {},
   "source": [
    "### Cross validating KNN and SVD algorithms and RMSE & MSE score"
   ]
  },
  {
   "cell_type": "code",
   "execution_count": 171,
   "metadata": {},
   "outputs": [
    {
     "name": "stdout",
     "output_type": "stream",
     "text": [
      "Estimating biases using als...\n",
      "Computing the msd similarity matrix...\n",
      "Done computing similarity matrix.\n",
      "Estimating biases using als...\n",
      "Computing the msd similarity matrix...\n",
      "Done computing similarity matrix.\n",
      "Estimating biases using als...\n",
      "Computing the msd similarity matrix...\n",
      "Done computing similarity matrix.\n",
      "Computing the msd similarity matrix...\n",
      "Done computing similarity matrix.\n",
      "Computing the msd similarity matrix...\n",
      "Done computing similarity matrix.\n",
      "Computing the msd similarity matrix...\n",
      "Done computing similarity matrix.\n",
      "Computing the msd similarity matrix...\n",
      "Done computing similarity matrix.\n",
      "Computing the msd similarity matrix...\n",
      "Done computing similarity matrix.\n",
      "Computing the msd similarity matrix...\n",
      "Done computing similarity matrix.\n",
      "Computing the msd similarity matrix...\n",
      "Done computing similarity matrix.\n",
      "Computing the msd similarity matrix...\n",
      "Done computing similarity matrix.\n",
      "Computing the msd similarity matrix...\n",
      "Done computing similarity matrix.\n"
     ]
    },
    {
     "data": {
      "text/html": [
       "<div>\n",
       "<style scoped>\n",
       "    .dataframe tbody tr th:only-of-type {\n",
       "        vertical-align: middle;\n",
       "    }\n",
       "\n",
       "    .dataframe tbody tr th {\n",
       "        vertical-align: top;\n",
       "    }\n",
       "\n",
       "    .dataframe thead th {\n",
       "        text-align: right;\n",
       "    }\n",
       "</style>\n",
       "<table border=\"1\" class=\"dataframe\">\n",
       "  <thead>\n",
       "    <tr style=\"text-align: right;\">\n",
       "      <th></th>\n",
       "      <th>test_rmse</th>\n",
       "      <th>test_mae</th>\n",
       "      <th>fit_time</th>\n",
       "      <th>test_time</th>\n",
       "    </tr>\n",
       "    <tr>\n",
       "      <th>Algorithm</th>\n",
       "      <th></th>\n",
       "      <th></th>\n",
       "      <th></th>\n",
       "      <th></th>\n",
       "    </tr>\n",
       "  </thead>\n",
       "  <tbody>\n",
       "    <tr>\n",
       "      <td>KNNBaseline</td>\n",
       "      <td>1.329097</td>\n",
       "      <td>1.022736</td>\n",
       "      <td>16.658637</td>\n",
       "      <td>14.311334</td>\n",
       "    </tr>\n",
       "    <tr>\n",
       "      <td>SVD</td>\n",
       "      <td>1.344240</td>\n",
       "      <td>1.050550</td>\n",
       "      <td>3.414896</td>\n",
       "      <td>0.369579</td>\n",
       "    </tr>\n",
       "    <tr>\n",
       "      <td>KNNBasic</td>\n",
       "      <td>1.385550</td>\n",
       "      <td>1.069286</td>\n",
       "      <td>15.578310</td>\n",
       "      <td>12.459650</td>\n",
       "    </tr>\n",
       "    <tr>\n",
       "      <td>KNNWithMeans</td>\n",
       "      <td>1.414626</td>\n",
       "      <td>1.062020</td>\n",
       "      <td>14.771950</td>\n",
       "      <td>12.797450</td>\n",
       "    </tr>\n",
       "    <tr>\n",
       "      <td>KNNWithZScore</td>\n",
       "      <td>1.419823</td>\n",
       "      <td>1.067794</td>\n",
       "      <td>17.373837</td>\n",
       "      <td>13.984204</td>\n",
       "    </tr>\n",
       "  </tbody>\n",
       "</table>\n",
       "</div>"
      ],
      "text/plain": [
       "               test_rmse  test_mae   fit_time  test_time\n",
       "Algorithm                                               \n",
       "KNNBaseline     1.329097  1.022736  16.658637  14.311334\n",
       "SVD             1.344240  1.050550   3.414896   0.369579\n",
       "KNNBasic        1.385550  1.069286  15.578310  12.459650\n",
       "KNNWithMeans    1.414626  1.062020  14.771950  12.797450\n",
       "KNNWithZScore   1.419823  1.067794  17.373837  13.984204"
      ]
     },
     "execution_count": 171,
     "metadata": {},
     "output_type": "execute_result"
    }
   ],
   "source": [
    "from surprise.model_selection.search import GridSearchCV\n",
    "from surprise.model_selection import cross_validate\n",
    "from surprise.prediction_algorithms import knns\n",
    "from surprise import SVDpp, SlopeOne, NMF, CoClustering, NormalPredictor, BaselineOnly\n",
    "reader = Reader(rating_scale=(1, 10))\n",
    "recom_ratings=Dataset.load_from_df(train[['user_id','anime_id','rating']],reader)\n",
    "\n",
    "crossval_results = []\n",
    "\n",
    "# Iterate over all algorithms\n",
    "for algorithm in [ knns.KNNBaseline(), knns.KNNBasic(), knns.KNNWithMeans(), knns.KNNWithZScore(),SVD()]:\n",
    "    \n",
    "    # Perform cross validation\n",
    "    results = cross_validate(algorithm, recom_ratings, measures=['RMSE','mae'], cv=3, verbose=False)\n",
    "    \n",
    "    # Get results & append algorithm name\n",
    "    tmp_results = pd.DataFrame.from_dict(results).mean(axis=0)\n",
    "    tmp_results = tmp_results.append(pd.Series([str(algorithm).split(' ')[0].split('.')[-1]], index=['Algorithm']))\n",
    "    crossval_results.append(tmp_results)\n",
    "\n",
    "pd.DataFrame(crossval_results).set_index('Algorithm').sort_values('test_rmse')"
   ]
  },
  {
   "cell_type": "code",
   "execution_count": 174,
   "metadata": {},
   "outputs": [],
   "source": [
    "#Save model scores to xlxs\n",
    "pd.DataFrame(crossval_results).set_index('Algorithm').sort_values('test_rmse').to_excel('crossvalidation_results.xlsx')"
   ]
  },
  {
   "cell_type": "code",
   "execution_count": 182,
   "metadata": {
    "collapsed": true
   },
   "outputs": [
    {
     "name": "stdout",
     "output_type": "stream",
     "text": [
      "Estimating biases using als...\n",
      "Computing the msd similarity matrix...\n",
      "Done computing similarity matrix.\n"
     ]
    },
    {
     "ename": "TypeError",
     "evalue": "'KNNBaseline' object is not iterable",
     "output_type": "error",
     "traceback": [
      "\u001b[1;31m---------------------------------------------------------------------------\u001b[0m",
      "\u001b[1;31mTypeError\u001b[0m                                 Traceback (most recent call last)",
      "\u001b[1;32m<ipython-input-182-3e174da86a53>\u001b[0m in \u001b[0;36m<module>\u001b[1;34m\u001b[0m\n\u001b[0;32m      4\u001b[0m \u001b[0malgo\u001b[0m \u001b[1;33m=\u001b[0m \u001b[0mknns\u001b[0m\u001b[1;33m.\u001b[0m\u001b[0mKNNBaseline\u001b[0m\u001b[1;33m(\u001b[0m\u001b[1;33m)\u001b[0m\u001b[1;33m\u001b[0m\u001b[1;33m\u001b[0m\u001b[0m\n\u001b[0;32m      5\u001b[0m \u001b[0mpredictions\u001b[0m \u001b[1;33m=\u001b[0m \u001b[0malgo\u001b[0m\u001b[1;33m.\u001b[0m\u001b[0mfit\u001b[0m\u001b[1;33m(\u001b[0m\u001b[0mtrainset\u001b[0m\u001b[1;33m)\u001b[0m\u001b[1;33m\u001b[0m\u001b[1;33m\u001b[0m\u001b[0m\n\u001b[1;32m----> 6\u001b[1;33m \u001b[0maccuracy\u001b[0m\u001b[1;33m.\u001b[0m\u001b[0mrmse\u001b[0m\u001b[1;33m(\u001b[0m\u001b[0mpredictions\u001b[0m\u001b[1;33m)\u001b[0m\u001b[1;33m\u001b[0m\u001b[1;33m\u001b[0m\u001b[0m\n\u001b[0m",
      "\u001b[1;32m~\\Anaconda3\\lib\\site-packages\\surprise\\accuracy.py\u001b[0m in \u001b[0;36mrmse\u001b[1;34m(predictions, verbose)\u001b[0m\n\u001b[0;32m     47\u001b[0m \u001b[1;33m\u001b[0m\u001b[0m\n\u001b[0;32m     48\u001b[0m     mse = np.mean([float((true_r - est)**2)\n\u001b[1;32m---> 49\u001b[1;33m                    for (_, _, true_r, est, _) in predictions])\n\u001b[0m\u001b[0;32m     50\u001b[0m     \u001b[0mrmse_\u001b[0m \u001b[1;33m=\u001b[0m \u001b[0mnp\u001b[0m\u001b[1;33m.\u001b[0m\u001b[0msqrt\u001b[0m\u001b[1;33m(\u001b[0m\u001b[0mmse\u001b[0m\u001b[1;33m)\u001b[0m\u001b[1;33m\u001b[0m\u001b[1;33m\u001b[0m\u001b[0m\n\u001b[0;32m     51\u001b[0m \u001b[1;33m\u001b[0m\u001b[0m\n",
      "\u001b[1;31mTypeError\u001b[0m: 'KNNBaseline' object is not iterable"
     ]
    }
   ],
   "source": [
    "from surprise import accuracy\n",
    "trainset = recom_ratings.build_full_trainset()\n",
    "#Make model\n",
    "algo = knns.KNNBaseline()\n",
    "predictions = algo.fit(trainset)\n",
    "#accuracy.rmse(predictions)\n"
   ]
  },
  {
   "cell_type": "code",
   "execution_count": 192,
   "metadata": {},
   "outputs": [
    {
     "data": {
      "text/plain": [
       "Prediction(uid=1012, iid=5, r_ui=None, est=8.992560810018693, details={'actual_k': 40, 'was_impossible': False})"
      ]
     },
     "execution_count": 192,
     "metadata": {},
     "output_type": "execute_result"
    }
   ],
   "source": [
    "predictions.predict(uid= 1012, iid= 5)"
   ]
  },
  {
   "cell_type": "markdown",
   "metadata": {},
   "source": [
    "## Get recommendations for Samurai Champloo movie"
   ]
  },
  {
   "cell_type": "code",
   "execution_count": 258,
   "metadata": {},
   "outputs": [
    {
     "data": {
      "text/html": [
       "<div>\n",
       "<style scoped>\n",
       "    .dataframe tbody tr th:only-of-type {\n",
       "        vertical-align: middle;\n",
       "    }\n",
       "\n",
       "    .dataframe tbody tr th {\n",
       "        vertical-align: top;\n",
       "    }\n",
       "\n",
       "    .dataframe thead th {\n",
       "        text-align: right;\n",
       "    }\n",
       "</style>\n",
       "<table border=\"1\" class=\"dataframe\">\n",
       "  <thead>\n",
       "    <tr style=\"text-align: right;\">\n",
       "      <th></th>\n",
       "      <th>anime_id</th>\n",
       "      <th>name</th>\n",
       "      <th>genre</th>\n",
       "      <th>type</th>\n",
       "      <th>episodes</th>\n",
       "      <th>rating</th>\n",
       "      <th>members</th>\n",
       "    </tr>\n",
       "  </thead>\n",
       "  <tbody>\n",
       "    <tr>\n",
       "      <td>152</td>\n",
       "      <td>5</td>\n",
       "      <td>Cowboy Bebop: Tengoku no Tobira</td>\n",
       "      <td>Action, Drama, Mystery, Sci-Fi, Space</td>\n",
       "      <td>Movie</td>\n",
       "      <td>1</td>\n",
       "      <td>8.4</td>\n",
       "      <td>137636</td>\n",
       "    </tr>\n",
       "  </tbody>\n",
       "</table>\n",
       "</div>"
      ],
      "text/plain": [
       "     anime_id                             name  \\\n",
       "152         5  Cowboy Bebop: Tengoku no Tobira   \n",
       "\n",
       "                                     genre   type episodes  rating  members  \n",
       "152  Action, Drama, Mystery, Sci-Fi, Space  Movie        1     8.4   137636  "
      ]
     },
     "execution_count": 258,
     "metadata": {},
     "output_type": "execute_result"
    }
   ],
   "source": [
    "#get inner id of samurai champloo movie\n",
    "movieID=5\n",
    "\n",
    "#get inner id of samurai champloo from the model\n",
    "recom_inner_id = algo.trainset.to_inner_iid(movieID)\n",
    "\n",
    "#get top 10 recommendations for the samurai champloo movie\n",
    "recommendation = algo.get_neighbors(recom_inner_id, k=10)\n",
    "\n",
    "#get real ID's of recommended movies from original data\n",
    "recommendation_neighbors = (algo.trainset.to_raw_iid(inner_id)for inner_id in recommendation)\n",
    "\n",
    "#Print info of Samurai Champloo movie\n",
    "filterByColumnValue(anime_x,'anime_id',[movieID])"
   ]
  },
  {
   "cell_type": "code",
   "execution_count": 259,
   "metadata": {
    "scrolled": false
   },
   "outputs": [
    {
     "data": {
      "text/html": [
       "<div>\n",
       "<style scoped>\n",
       "    .dataframe tbody tr th:only-of-type {\n",
       "        vertical-align: middle;\n",
       "    }\n",
       "\n",
       "    .dataframe tbody tr th {\n",
       "        vertical-align: top;\n",
       "    }\n",
       "\n",
       "    .dataframe thead th {\n",
       "        text-align: right;\n",
       "    }\n",
       "</style>\n",
       "<table border=\"1\" class=\"dataframe\">\n",
       "  <thead>\n",
       "    <tr style=\"text-align: right;\">\n",
       "      <th></th>\n",
       "      <th>anime_id</th>\n",
       "      <th>name</th>\n",
       "      <th>genre</th>\n",
       "      <th>type</th>\n",
       "      <th>episodes</th>\n",
       "      <th>rating</th>\n",
       "      <th>members</th>\n",
       "    </tr>\n",
       "  </thead>\n",
       "  <tbody>\n",
       "    <tr>\n",
       "      <td>71</td>\n",
       "      <td>578</td>\n",
       "      <td>Hotaru no Haka</td>\n",
       "      <td>Drama, Historical</td>\n",
       "      <td>Movie</td>\n",
       "      <td>1</td>\n",
       "      <td>8.58</td>\n",
       "      <td>174878</td>\n",
       "    </tr>\n",
       "    <tr>\n",
       "      <td>312</td>\n",
       "      <td>15039</td>\n",
       "      <td>Ano Hi Mita Hana no Namae wo Bokutachi wa Mada...</td>\n",
       "      <td>Drama, Slice of Life, Supernatural</td>\n",
       "      <td>Movie</td>\n",
       "      <td>1</td>\n",
       "      <td>8.19</td>\n",
       "      <td>95241</td>\n",
       "    </tr>\n",
       "    <tr>\n",
       "      <td>609</td>\n",
       "      <td>13117</td>\n",
       "      <td>Hakuouki Movie 1: Kyoto Ranbu</td>\n",
       "      <td>Action, Drama, Historical, Josei, Samurai, Sup...</td>\n",
       "      <td>Movie</td>\n",
       "      <td>1</td>\n",
       "      <td>7.94</td>\n",
       "      <td>12076</td>\n",
       "    </tr>\n",
       "    <tr>\n",
       "      <td>726</td>\n",
       "      <td>570</td>\n",
       "      <td>Jin-Rou</td>\n",
       "      <td>Drama, Military, Police, Psychological, Romance</td>\n",
       "      <td>Movie</td>\n",
       "      <td>1</td>\n",
       "      <td>7.87</td>\n",
       "      <td>62464</td>\n",
       "    </tr>\n",
       "    <tr>\n",
       "      <td>798</td>\n",
       "      <td>33082</td>\n",
       "      <td>Kingsglaive: Final Fantasy XV</td>\n",
       "      <td>Action</td>\n",
       "      <td>Movie</td>\n",
       "      <td>1</td>\n",
       "      <td>7.83</td>\n",
       "      <td>15508</td>\n",
       "    </tr>\n",
       "    <tr>\n",
       "      <td>1014</td>\n",
       "      <td>5204</td>\n",
       "      <td>Kara no Kyoukai 6: Boukyaku Rokuon</td>\n",
       "      <td>Action, Magic, Mystery, Romance, Supernatural,...</td>\n",
       "      <td>Movie</td>\n",
       "      <td>1</td>\n",
       "      <td>7.72</td>\n",
       "      <td>93803</td>\n",
       "    </tr>\n",
       "    <tr>\n",
       "      <td>1902</td>\n",
       "      <td>844</td>\n",
       "      <td>Konjiki no Gash Bell!!: 101 Banme no Mamono</td>\n",
       "      <td>Adventure, Shounen, Supernatural</td>\n",
       "      <td>Movie</td>\n",
       "      <td>1</td>\n",
       "      <td>7.41</td>\n",
       "      <td>4425</td>\n",
       "    </tr>\n",
       "    <tr>\n",
       "      <td>3146</td>\n",
       "      <td>1260</td>\n",
       "      <td>Saint Seiya: Saishuu Seisen no Senshi-tachi</td>\n",
       "      <td>Adventure, Sci-Fi, Shounen</td>\n",
       "      <td>Movie</td>\n",
       "      <td>1</td>\n",
       "      <td>7.07</td>\n",
       "      <td>8217</td>\n",
       "    </tr>\n",
       "    <tr>\n",
       "      <td>3202</td>\n",
       "      <td>502</td>\n",
       "      <td>Dragon Ball Movie 1: Shen Long no Densetsu</td>\n",
       "      <td>Action, Adventure, Comedy, Fantasy, Shounen, S...</td>\n",
       "      <td>Movie</td>\n",
       "      <td>1</td>\n",
       "      <td>7.05</td>\n",
       "      <td>30279</td>\n",
       "    </tr>\n",
       "    <tr>\n",
       "      <td>3289</td>\n",
       "      <td>891</td>\n",
       "      <td>Dragon Ball Movie 2: Majinjou no Nemuri Hime</td>\n",
       "      <td>Action, Adventure, Comedy, Fantasy, Sci-Fi, Sh...</td>\n",
       "      <td>Movie</td>\n",
       "      <td>1</td>\n",
       "      <td>7.03</td>\n",
       "      <td>27194</td>\n",
       "    </tr>\n",
       "  </tbody>\n",
       "</table>\n",
       "</div>"
      ],
      "text/plain": [
       "      anime_id                                               name  \\\n",
       "71         578                                     Hotaru no Haka   \n",
       "312      15039  Ano Hi Mita Hana no Namae wo Bokutachi wa Mada...   \n",
       "609      13117                      Hakuouki Movie 1: Kyoto Ranbu   \n",
       "726        570                                            Jin-Rou   \n",
       "798      33082                      Kingsglaive: Final Fantasy XV   \n",
       "1014      5204                 Kara no Kyoukai 6: Boukyaku Rokuon   \n",
       "1902       844        Konjiki no Gash Bell!!: 101 Banme no Mamono   \n",
       "3146      1260        Saint Seiya: Saishuu Seisen no Senshi-tachi   \n",
       "3202       502         Dragon Ball Movie 1: Shen Long no Densetsu   \n",
       "3289       891       Dragon Ball Movie 2: Majinjou no Nemuri Hime   \n",
       "\n",
       "                                                  genre   type episodes  \\\n",
       "71                                    Drama, Historical  Movie        1   \n",
       "312                  Drama, Slice of Life, Supernatural  Movie        1   \n",
       "609   Action, Drama, Historical, Josei, Samurai, Sup...  Movie        1   \n",
       "726     Drama, Military, Police, Psychological, Romance  Movie        1   \n",
       "798                                              Action  Movie        1   \n",
       "1014  Action, Magic, Mystery, Romance, Supernatural,...  Movie        1   \n",
       "1902                   Adventure, Shounen, Supernatural  Movie        1   \n",
       "3146                         Adventure, Sci-Fi, Shounen  Movie        1   \n",
       "3202  Action, Adventure, Comedy, Fantasy, Shounen, S...  Movie        1   \n",
       "3289  Action, Adventure, Comedy, Fantasy, Sci-Fi, Sh...  Movie        1   \n",
       "\n",
       "      rating  members  \n",
       "71      8.58   174878  \n",
       "312     8.19    95241  \n",
       "609     7.94    12076  \n",
       "726     7.87    62464  \n",
       "798     7.83    15508  \n",
       "1014    7.72    93803  \n",
       "1902    7.41     4425  \n",
       "3146    7.07     8217  \n",
       "3202    7.05    30279  \n",
       "3289    7.03    27194  "
      ]
     },
     "execution_count": 259,
     "metadata": {},
     "output_type": "execute_result"
    }
   ],
   "source": [
    "#Top 10 recommendations for person who watched movie samurai champloo\n",
    "filterByColumnValue(anime_x,'anime_id',recommendation_neighbors)"
   ]
  },
  {
   "cell_type": "code",
   "execution_count": 248,
   "metadata": {},
   "outputs": [],
   "source": [
    "#https://github.com/NicolasHug/Surprise/blob/master/examples/k_nearest_neighbors.py"
   ]
  },
  {
   "cell_type": "markdown",
   "metadata": {},
   "source": [
    "1. What kind of preprocessing is necessary for the ratings dataset?\n",
    "- Filtering data because there is too much to process\n",
    "    - In our case we decided to build recommendation engine for anime movies.\n",
    "    - filtered all users that had made over 100 reviews because we wanted input from diffrent kinds of people and decided buil recommendation system for common people.\n",
    "    - Need run data through reader to be able to parse dataset\n",
    "    - remove unrated information.\n",
    "\n",
    "2. How do the recommendation algorithms (e.g. KNN and SVD) perform with a data set of this magnitude? Do you encounter hardware limitations? If yes, how can you circumvent some of the limitations to be able to carry on with the experiment?\n",
    "    - SVD and KNN algorithms faced problem when we tried run the whole data scikit learn crashed due to the memory errors.\n",
    "        - That is why we proceed filtering steps explained in previous section\n",
    "    - SVD was much faster than KNN (how much)\n",
    "        - It wasnt not far behind KNNBaseline in metrics but because it is X times faster than KNN it might be good option for huge datasets\n",
    "    - Therer were many different KNN algorithms to choose from, but every one of them were much slower that SVD, but KNNBaseline had smallest RMSE so it was most valid choice for accurate model\n",
    "    \n",
    "3. Can you combine the information in the two files in a meaningful way to have the recommender display the titles of the recommended movies?\n",
    "    - Files can be combined easly through the anime_id parameter but it needed couple of tricks to get real id's for movies from model that can see from \"get recommendations...\" part which is above this cell.\n"
   ]
  },
  {
   "cell_type": "code",
   "execution_count": null,
   "metadata": {},
   "outputs": [],
   "source": []
  }
 ],
 "metadata": {
  "kernelspec": {
   "display_name": "Python 3",
   "language": "python",
   "name": "python3"
  },
  "language_info": {
   "codemirror_mode": {
    "name": "ipython",
    "version": 3
   },
   "file_extension": ".py",
   "mimetype": "text/x-python",
   "name": "python",
   "nbconvert_exporter": "python",
   "pygments_lexer": "ipython3",
   "version": "3.7.4"
  }
 },
 "nbformat": 4,
 "nbformat_minor": 2
}
