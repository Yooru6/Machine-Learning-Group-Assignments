{
 "cells": [
  {
   "cell_type": "code",
   "execution_count": 1,
   "metadata": {},
   "outputs": [],
   "source": [
    "import pandas as pd\n",
    "import numpy as np\n",
    "from sklearn.linear_model import LogisticRegression\n",
    "from sklearn.preprocessing import StandardScaler\n",
    "from sklearn.metrics import confusion_matrix\n",
    "from sklearn.metrics import classification_report\n",
    "#from sklearn.cross_validation import cross_val_score\n",
    "from sklearn.model_selection import cross_val_score\n",
    "from surprise import SVD\n",
    "from surprise import Dataset\n",
    "from surprise.reader import Reader\n",
    "from surprise.model_selection import cross_validate\n",
    "from sklearn.model_selection import train_test_split\n",
    "from surprise.model_selection.search import GridSearchCV\n",
    "import matplotlib.pyplot as plt"
   ]
  },
  {
   "cell_type": "code",
   "execution_count": 2,
   "metadata": {},
   "outputs": [
    {
     "data": {
      "text/plain": [
       "12294"
      ]
     },
     "execution_count": 2,
     "metadata": {},
     "output_type": "execute_result"
    }
   ],
   "source": [
    "#read the anime file\n",
    "#anime = pd.read_csv('C:\\\\Users\\\\przem\\\\Documents\\\\anime.csv', sep=',')\n",
    "anime = pd.read_csv('anime.csv', sep=',')\n",
    "anime.head(5)\n",
    "len(anime)"
   ]
  },
  {
   "cell_type": "code",
   "execution_count": 3,
   "metadata": {},
   "outputs": [
    {
     "data": {
      "text/html": [
       "<div>\n",
       "<style scoped>\n",
       "    .dataframe tbody tr th:only-of-type {\n",
       "        vertical-align: middle;\n",
       "    }\n",
       "\n",
       "    .dataframe tbody tr th {\n",
       "        vertical-align: top;\n",
       "    }\n",
       "\n",
       "    .dataframe thead th {\n",
       "        text-align: right;\n",
       "    }\n",
       "</style>\n",
       "<table border=\"1\" class=\"dataframe\">\n",
       "  <thead>\n",
       "    <tr style=\"text-align: right;\">\n",
       "      <th></th>\n",
       "      <th>user_id</th>\n",
       "      <th>anime_id</th>\n",
       "      <th>rating</th>\n",
       "    </tr>\n",
       "  </thead>\n",
       "  <tbody>\n",
       "    <tr>\n",
       "      <td>count</td>\n",
       "      <td>7.813737e+06</td>\n",
       "      <td>7.813737e+06</td>\n",
       "      <td>7.813737e+06</td>\n",
       "    </tr>\n",
       "    <tr>\n",
       "      <td>mean</td>\n",
       "      <td>3.672796e+04</td>\n",
       "      <td>8.909072e+03</td>\n",
       "      <td>6.144030e+00</td>\n",
       "    </tr>\n",
       "    <tr>\n",
       "      <td>std</td>\n",
       "      <td>2.099795e+04</td>\n",
       "      <td>8.883950e+03</td>\n",
       "      <td>3.727800e+00</td>\n",
       "    </tr>\n",
       "    <tr>\n",
       "      <td>min</td>\n",
       "      <td>1.000000e+00</td>\n",
       "      <td>1.000000e+00</td>\n",
       "      <td>-1.000000e+00</td>\n",
       "    </tr>\n",
       "    <tr>\n",
       "      <td>25%</td>\n",
       "      <td>1.897400e+04</td>\n",
       "      <td>1.240000e+03</td>\n",
       "      <td>6.000000e+00</td>\n",
       "    </tr>\n",
       "    <tr>\n",
       "      <td>50%</td>\n",
       "      <td>3.679100e+04</td>\n",
       "      <td>6.213000e+03</td>\n",
       "      <td>7.000000e+00</td>\n",
       "    </tr>\n",
       "    <tr>\n",
       "      <td>75%</td>\n",
       "      <td>5.475700e+04</td>\n",
       "      <td>1.409300e+04</td>\n",
       "      <td>9.000000e+00</td>\n",
       "    </tr>\n",
       "    <tr>\n",
       "      <td>max</td>\n",
       "      <td>7.351600e+04</td>\n",
       "      <td>3.451900e+04</td>\n",
       "      <td>1.000000e+01</td>\n",
       "    </tr>\n",
       "  </tbody>\n",
       "</table>\n",
       "</div>"
      ],
      "text/plain": [
       "            user_id      anime_id        rating\n",
       "count  7.813737e+06  7.813737e+06  7.813737e+06\n",
       "mean   3.672796e+04  8.909072e+03  6.144030e+00\n",
       "std    2.099795e+04  8.883950e+03  3.727800e+00\n",
       "min    1.000000e+00  1.000000e+00 -1.000000e+00\n",
       "25%    1.897400e+04  1.240000e+03  6.000000e+00\n",
       "50%    3.679100e+04  6.213000e+03  7.000000e+00\n",
       "75%    5.475700e+04  1.409300e+04  9.000000e+00\n",
       "max    7.351600e+04  3.451900e+04  1.000000e+01"
      ]
     },
     "execution_count": 3,
     "metadata": {},
     "output_type": "execute_result"
    }
   ],
   "source": [
    "#read the rating file\n",
    "#rating = pd.read_csv('C:\\\\Users\\\\przem\\\\Documents\\\\rating.csv', sep=',')\n",
    "rating = pd.read_csv('rating.csv', sep=',')\n",
    "#train and test split\n",
    "train,test = train_test_split(rating,shuffle = True, test_size = 0.2)\n",
    "rating.describe()\n",
    "\n",
    "#len(rating)"
   ]
  },
  {
   "cell_type": "markdown",
   "metadata": {},
   "source": [
    "# Filtering"
   ]
  },
  {
   "cell_type": "code",
   "execution_count": 4,
   "metadata": {},
   "outputs": [],
   "source": [
    "#Filter Data. Return df where column name == vale\n",
    "def FilterByColumnValue(data, columnName, value):\n",
    "    filtered=data.loc[data[columnName].isin(value)]\n",
    "    return filtered\n",
    "\n",
    "#Return df which contains string 'value'\n",
    "def FilterByColumnHas(data, columnName, value):\n",
    "    filtered=data.loc[data[columnName].str.contains(value)]\n",
    "    return filtered"
   ]
  },
  {
   "cell_type": "markdown",
   "metadata": {},
   "source": [
    "### Count and make list of users that have made less than 100 reviews"
   ]
  },
  {
   "cell_type": "code",
   "execution_count": 5,
   "metadata": {},
   "outputs": [],
   "source": [
    "from collections import Counter\n",
    "\n",
    "#counter=Counter()\n",
    "\n",
    "#Count users and sum of their reviews\n",
    "counter=Counter(rating['user_id'])\n",
    "\n",
    "\n",
    "#Filter all reviewers with more than 99 reviews\n",
    "filt={x : counter[x] for x in counter if counter[x] <= 200}\n",
    "reviewers=sorted(filt,key=filt.get,reverse=True)"
   ]
  },
  {
   "cell_type": "markdown",
   "metadata": {},
   "source": [
    "### Filter users:"
   ]
  },
  {
   "cell_type": "code",
   "execution_count": 6,
   "metadata": {},
   "outputs": [
    {
     "name": "stdout",
     "output_type": "stream",
     "text": [
      "418536\n",
      "2348\n"
     ]
    }
   ],
   "source": [
    "#filter all but anime\n",
    "anime_data=FilterByColumnValue(anime,'type',['Movie'])\n",
    "#make list of anime_id's in Movies\n",
    "anime_data=anime_data['anime_id'].values\n",
    "\n",
    "#filter rating data with reviwer<99 list\n",
    "rating_x=FilterByColumnValue(rating,'user_id',reviewers)\n",
    "\n",
    "#Filter rating data with previously made list of movies\n",
    "rating_x=FilterByColumnValue(rating_x,'anime_id',anime_data)\n",
    "\n",
    "#filter all unrated movies\n",
    "rating_x=rating_x[rating_x['rating'] >0]\n",
    "\n",
    "\n",
    "len((rating_x['user_id'].unique()))\n",
    "print(len(rating_x))\n",
    "\n",
    "anime_id=rating_x['anime_id'].values\n",
    "anime_x=FilterByColumnValue(anime,'anime_id',anime_id)\n",
    "print(len(anime_data))"
   ]
  },
  {
   "cell_type": "code",
   "execution_count": 60,
   "metadata": {
    "scrolled": true
   },
   "outputs": [],
   "source": [
    "def OptionalFilter():\n",
    "    #remove all rating < 5\n",
    "    anime_data=anime[anime['rating'] >4.0]\n",
    "\n",
    "    #remove all members < 150k\n",
    "    anime_data=anime_data[anime_data['members'] >1000]\n",
    "\n",
    "    #remove all but movies\n",
    "    anime_data=filterByColumnValue(anime_data,'type',['Movie'])\n",
    "    anime_filterdata=anime_data['anime_id'].values\n",
    "\n",
    "\n",
    "    len(anime_data)\n",
    "\n",
    "    #filter review with anime_filtered\n",
    "    rating_train=filterByColumnValue(rating,'anime_id',anime_filterdata)\n",
    "    rating_train=rating_train[rating_train['rating'] >0]\n",
    "    len(rating_train)\n",
    "    \n",
    "    len(anime_data['genre'].unique())\n",
    "    len(anime_data)\n",
    "\n"
   ]
  },
  {
   "cell_type": "code",
   "execution_count": null,
   "metadata": {},
   "outputs": [],
   "source": []
  },
  {
   "cell_type": "markdown",
   "metadata": {},
   "source": [
    "# Model 1"
   ]
  },
  {
   "cell_type": "code",
   "execution_count": 61,
   "metadata": {},
   "outputs": [
    {
     "data": {
      "text/plain": [
       "\"\\n#create reader object\\nreader = Reader(rating_scale = (-1,10))\\n#load the rating into object readable by algorithm\\ndata_train = Dataset.load_from_df(train,reader)\\ndata_test = Dataset.load_from_df(test,reader)\\n#creating a grid of parameters that I want to be tested\\n#param_grid = {'n_epochs': [5, 10, 20], 'lr_all': [0.002, 0.005, 0.01], 'n_factors': [50,100,150,200], 'biased': [True, False],\\n #             'reg_all': [0.2, 0.4, 0.6], 'init_mean': [0,5,6,6.14,7], 'init_std_dev': [0.1,2,3,3.7,4]}\\nparam_grid = {'n_epochs': [5, 10, 20], 'lr_all': [0.002, 0.005, 0.01]}\\n#creating a object which will show RMSE and MAE for all parameters combinations described above\\ngs = GridSearchCV(SVD, param_grid, measures=['rmse', 'mae'], cv=5, joblib_verbose = 5)\\ngs.fit(data_train)\\n\\n# best RMSE score\\nprint(gs.best_score['rmse'])\\n\\n# combination of parameters that gave the best RMSE score\\nprint(gs.best_params['rmse'])\\n\\n#list all results\\nresults_df = pd.DataFrame.from_dict(gs.cv_results)\\nresults_df\""
      ]
     },
     "execution_count": 61,
     "metadata": {},
     "output_type": "execute_result"
    }
   ],
   "source": [
    "'''\n",
    "#create reader object\n",
    "reader = Reader(rating_scale = (-1,10))\n",
    "#load the rating into object readable by algorithm\n",
    "data_train = Dataset.load_from_df(train,reader)\n",
    "data_test = Dataset.load_from_df(test,reader)\n",
    "#creating a grid of parameters that I want to be tested\n",
    "#param_grid = {'n_epochs': [5, 10, 20], 'lr_all': [0.002, 0.005, 0.01], 'n_factors': [50,100,150,200], 'biased': [True, False],\n",
    " #             'reg_all': [0.2, 0.4, 0.6], 'init_mean': [0,5,6,6.14,7], 'init_std_dev': [0.1,2,3,3.7,4]}\n",
    "param_grid = {'n_epochs': [5, 10, 20], 'lr_all': [0.002, 0.005, 0.01]}\n",
    "#creating a object which will show RMSE and MAE for all parameters combinations described above\n",
    "gs = GridSearchCV(SVD, param_grid, measures=['rmse', 'mae'], cv=5, joblib_verbose = 5)\n",
    "gs.fit(data_train)\n",
    "\n",
    "# best RMSE score\n",
    "print(gs.best_score['rmse'])\n",
    "\n",
    "# combination of parameters that gave the best RMSE score\n",
    "print(gs.best_params['rmse'])\n",
    "\n",
    "#list all results\n",
    "results_df = pd.DataFrame.from_dict(gs.cv_results)\n",
    "results_df'''"
   ]
  },
  {
   "cell_type": "markdown",
   "metadata": {},
   "source": [
    "## Plot review amounts"
   ]
  },
  {
   "cell_type": "markdown",
   "metadata": {},
   "source": [
    "### Review amount - raw data (all types)"
   ]
  },
  {
   "cell_type": "code",
   "execution_count": 11,
   "metadata": {},
   "outputs": [
    {
     "data": {
      "image/png": "[encoded data removed]",
      "text/plain": [
       "<Figure size 720x720 with 1 Axes>"
      ]
     },
     "metadata": {
      "needs_background": "light"
     },
     "output_type": "display_data"
    },
    {
     "data": {
      "text/plain": [
       "7813737"
      ]
     },
     "execution_count": 11,
     "metadata": {},
     "output_type": "execute_result"
    }
   ],
   "source": [
    "rating.rating.value_counts().plot(kind='bar',figsize=(10,10))\n",
    "plt.show()\n",
    "len(rating)"
   ]
  },
  {
   "cell_type": "markdown",
   "metadata": {},
   "source": [
    "### Review amount filtered"
   ]
  },
  {
   "cell_type": "code",
   "execution_count": 12,
   "metadata": {},
   "outputs": [
    {
     "data": {
      "image/png": "[encoded data removed]",
      "text/plain": [
       "<Figure size 720x720 with 1 Axes>"
      ]
     },
     "metadata": {
      "needs_background": "light"
     },
     "output_type": "display_data"
    },
    {
     "data": {
      "text/plain": [
       "7813737"
      ]
     },
     "execution_count": 12,
     "metadata": {},
     "output_type": "execute_result"
    }
   ],
   "source": [
    "rating_x.rating.value_counts().plot(kind='bar',figsize=(10,10))\n",
    "plt.show()\n",
    "len(rating)"
   ]
  },
  {
   "cell_type": "markdown",
   "metadata": {},
   "source": [
    "### Review amount - train data"
   ]
  },
  {
   "cell_type": "code",
   "execution_count": 7,
   "metadata": {},
   "outputs": [
    {
     "data": {
      "image/png": "[encoded data removed]",
      "text/plain": [
       "<Figure size 720x720 with 1 Axes>"
      ]
     },
     "metadata": {
      "needs_background": "light"
     },
     "output_type": "display_data"
    }
   ],
   "source": [
    "\n",
    "train,test = train_test_split(rating_x,shuffle = True, test_size = 0.1)\n",
    "train.rating.value_counts().plot(kind='bar',figsize=(10,10))\n",
    "plt.show()"
   ]
  },
  {
   "cell_type": "markdown",
   "metadata": {},
   "source": [
    "## Model"
   ]
  },
  {
   "cell_type": "markdown",
   "metadata": {},
   "source": [
    "### Cross validating KNN and SVD algorithms and RMSE & MSE score"
   ]
  },
  {
   "cell_type": "code",
   "execution_count": 9,
   "metadata": {},
   "outputs": [
    {
     "name": "stdout",
     "output_type": "stream",
     "text": [
      "Estimating biases using als...\n",
      "Computing the pearson_baseline similarity matrix...\n",
      "Done computing similarity matrix.\n",
      "Estimating biases using als...\n",
      "Computing the pearson_baseline similarity matrix...\n",
      "Done computing similarity matrix.\n",
      "Estimating biases using als...\n",
      "Computing the pearson_baseline similarity matrix...\n",
      "Done computing similarity matrix.\n",
      "Estimating biases using als...\n",
      "Computing the pearson_baseline similarity matrix...\n",
      "Done computing similarity matrix.\n",
      "Estimating biases using als...\n",
      "Computing the pearson_baseline similarity matrix...\n",
      "Done computing similarity matrix.\n",
      "Estimating biases using als...\n",
      "Computing the pearson_baseline similarity matrix...\n",
      "Done computing similarity matrix.\n",
      "Estimating biases using als...\n",
      "Computing the pearson_baseline similarity matrix...\n",
      "Done computing similarity matrix.\n",
      "Estimating biases using als...\n",
      "Computing the pearson_baseline similarity matrix...\n",
      "Done computing similarity matrix.\n",
      "Estimating biases using als...\n",
      "Computing the pearson_baseline similarity matrix...\n",
      "Done computing similarity matrix.\n",
      "Estimating biases using als...\n",
      "Computing the pearson_baseline similarity matrix...\n",
      "Done computing similarity matrix.\n",
      "Estimating biases using als...\n",
      "Computing the pearson_baseline similarity matrix...\n",
      "Done computing similarity matrix.\n",
      "Estimating biases using als...\n",
      "Computing the pearson_baseline similarity matrix...\n",
      "Done computing similarity matrix.\n"
     ]
    },
    {
     "data": {
      "text/html": [
       "<div>\n",
       "<style scoped>\n",
       "    .dataframe tbody tr th:only-of-type {\n",
       "        vertical-align: middle;\n",
       "    }\n",
       "\n",
       "    .dataframe tbody tr th {\n",
       "        vertical-align: top;\n",
       "    }\n",
       "\n",
       "    .dataframe thead th {\n",
       "        text-align: right;\n",
       "    }\n",
       "</style>\n",
       "<table border=\"1\" class=\"dataframe\">\n",
       "  <thead>\n",
       "    <tr style=\"text-align: right;\">\n",
       "      <th></th>\n",
       "      <th>test_rmse</th>\n",
       "      <th>test_mae</th>\n",
       "      <th>fit_time</th>\n",
       "      <th>test_time</th>\n",
       "    </tr>\n",
       "    <tr>\n",
       "      <th>Algorithm</th>\n",
       "      <th></th>\n",
       "      <th></th>\n",
       "      <th></th>\n",
       "      <th></th>\n",
       "    </tr>\n",
       "  </thead>\n",
       "  <tbody>\n",
       "    <tr>\n",
       "      <td>SVD</td>\n",
       "      <td>1.244319</td>\n",
       "      <td>0.947927</td>\n",
       "      <td>13.743789</td>\n",
       "      <td>0.998259</td>\n",
       "    </tr>\n",
       "    <tr>\n",
       "      <td>KNNBaseline</td>\n",
       "      <td>1.245537</td>\n",
       "      <td>0.905085</td>\n",
       "      <td>1.627665</td>\n",
       "      <td>3.732582</td>\n",
       "    </tr>\n",
       "    <tr>\n",
       "      <td>KNNWithMeans</td>\n",
       "      <td>1.254503</td>\n",
       "      <td>0.912217</td>\n",
       "      <td>1.720928</td>\n",
       "      <td>3.034991</td>\n",
       "    </tr>\n",
       "    <tr>\n",
       "      <td>KNNWithZScore</td>\n",
       "      <td>1.261182</td>\n",
       "      <td>0.915743</td>\n",
       "      <td>1.855850</td>\n",
       "      <td>3.235263</td>\n",
       "    </tr>\n",
       "    <tr>\n",
       "      <td>KNNBasic</td>\n",
       "      <td>1.335605</td>\n",
       "      <td>0.961420</td>\n",
       "      <td>1.633246</td>\n",
       "      <td>2.666646</td>\n",
       "    </tr>\n",
       "  </tbody>\n",
       "</table>\n",
       "</div>"
      ],
      "text/plain": [
       "               test_rmse  test_mae   fit_time  test_time\n",
       "Algorithm                                               \n",
       "SVD             1.244319  0.947927  13.743789   0.998259\n",
       "KNNBaseline     1.245537  0.905085   1.627665   3.732582\n",
       "KNNWithMeans    1.254503  0.912217   1.720928   3.034991\n",
       "KNNWithZScore   1.261182  0.915743   1.855850   3.235263\n",
       "KNNBasic        1.335605  0.961420   1.633246   2.666646"
      ]
     },
     "execution_count": 9,
     "metadata": {},
     "output_type": "execute_result"
    }
   ],
   "source": [
    "from surprise.model_selection.search import GridSearchCV\n",
    "from surprise.model_selection import cross_validate\n",
    "from surprise.prediction_algorithms import knns\n",
    "from surprise import SVDpp, SlopeOne, NMF, CoClustering, NormalPredictor, BaselineOnly\n",
    "reader = Reader(rating_scale=(1, 10))\n",
    "recom_ratings=Dataset.load_from_df(train[['user_id','anime_id','rating']],reader)\n",
    "\n",
    "crossval_results = []\n",
    "sim_options = {'name': 'pearson_baseline', 'user_based': False}\n",
    "# Iterate over all algorithms\n",
    "for algorithm in [ knns.KNNBaseline(sim_options=sim_options), knns.KNNBasic(sim_options=sim_options), knns.KNNWithMeans(sim_options=sim_options), knns.KNNWithZScore(sim_options=sim_options),SVD()]:\n",
    "    \n",
    "    # Perform cross validation\n",
    "    results = cross_validate(algorithm, recom_ratings, measures=['RMSE','mae'], cv=3, verbose=False)\n",
    "    \n",
    "    # Get results & append algorithm name\n",
    "    tmp_results = pd.DataFrame.from_dict(results).mean(axis=0)\n",
    "    tmp_results = tmp_results.append(pd.Series([str(algorithm).split(' ')[0].split('.')[-1]], index=['Algorithm']))\n",
    "    crossval_results.append(tmp_results)\n",
    "\n",
    "pd.DataFrame(crossval_results).set_index('Algorithm').sort_values('test_rmse')"
   ]
  },
  {
   "cell_type": "code",
   "execution_count": 174,
   "metadata": {},
   "outputs": [],
   "source": [
    "#Save model scores to xlxs\n",
    "#pd.DataFrame(crossval_results).set_index('Algorithm').sort_values('test_rmse').to_excel('crossvalidation_results.xlsx')"
   ]
  },
  {
   "cell_type": "code",
   "execution_count": 10,
   "metadata": {},
   "outputs": [
    {
     "name": "stdout",
     "output_type": "stream",
     "text": [
      "Estimating biases using als...\n",
      "Computing the pearson_baseline similarity matrix...\n",
      "Done computing similarity matrix.\n"
     ]
    }
   ],
   "source": [
    "from surprise import accuracy\n",
    "recom_ratings=Dataset.load_from_df(train[['user_id','anime_id','rating']],reader)\n",
    "trainset = recom_ratings.build_full_trainset()\n",
    "#Make model\n",
    "algo = knns.KNNBaseline(sim_options=sim_options)\n",
    "predictions = algo.fit(trainset)\n",
    "#accuracy.rmse(predictions)\n"
   ]
  },
  {
   "cell_type": "code",
   "execution_count": 71,
   "metadata": {},
   "outputs": [
    {
     "data": {
      "text/plain": [
       "Prediction(uid=1012, iid=5, r_ui=None, est=9.862862032385529, details={'actual_k': 5, 'was_impossible': False})"
      ]
     },
     "execution_count": 71,
     "metadata": {},
     "output_type": "execute_result"
    }
   ],
   "source": [
    "predictions.predict(uid= 1012, iid= 5)"
   ]
  },
  {
   "cell_type": "markdown",
   "metadata": {},
   "source": [
    "## Get recommendations for Samurai Champloo movie"
   ]
  },
  {
   "cell_type": "code",
   "execution_count": 11,
   "metadata": {},
   "outputs": [
    {
     "data": {
      "text/html": [
       "<div>\n",
       "<style scoped>\n",
       "    .dataframe tbody tr th:only-of-type {\n",
       "        vertical-align: middle;\n",
       "    }\n",
       "\n",
       "    .dataframe tbody tr th {\n",
       "        vertical-align: top;\n",
       "    }\n",
       "\n",
       "    .dataframe thead th {\n",
       "        text-align: right;\n",
       "    }\n",
       "</style>\n",
       "<table border=\"1\" class=\"dataframe\">\n",
       "  <thead>\n",
       "    <tr style=\"text-align: right;\">\n",
       "      <th></th>\n",
       "      <th>anime_id</th>\n",
       "      <th>name</th>\n",
       "      <th>genre</th>\n",
       "      <th>type</th>\n",
       "      <th>episodes</th>\n",
       "      <th>rating</th>\n",
       "      <th>members</th>\n",
       "    </tr>\n",
       "  </thead>\n",
       "  <tbody>\n",
       "    <tr>\n",
       "      <td>152</td>\n",
       "      <td>5</td>\n",
       "      <td>Cowboy Bebop: Tengoku no Tobira</td>\n",
       "      <td>Action, Drama, Mystery, Sci-Fi, Space</td>\n",
       "      <td>Movie</td>\n",
       "      <td>1</td>\n",
       "      <td>8.4</td>\n",
       "      <td>137636</td>\n",
       "    </tr>\n",
       "  </tbody>\n",
       "</table>\n",
       "</div>"
      ],
      "text/plain": [
       "     anime_id                             name  \\\n",
       "152         5  Cowboy Bebop: Tengoku no Tobira   \n",
       "\n",
       "                                     genre   type episodes  rating  members  \n",
       "152  Action, Drama, Mystery, Sci-Fi, Space  Movie        1     8.4   137636  "
      ]
     },
     "execution_count": 11,
     "metadata": {},
     "output_type": "execute_result"
    }
   ],
   "source": [
    "#get inner id of samurai champloo movie\n",
    "movieID=5\n",
    "\n",
    "#get inner id of samurai champloo from the model\n",
    "recom_inner_id = algo.trainset.to_inner_iid(movieID)\n",
    "\n",
    "#get top 10 recommendations for the samurai champloo movie\n",
    "recommendation = algo.get_neighbors(recom_inner_id, k=10)\n",
    "\n",
    "#get real ID's of recommended movies from original data\n",
    "recommendation_neighbors = (algo.trainset.to_raw_iid(inner_id)for inner_id in recommendation)\n",
    "\n",
    "#Print info of Samurai Champloo movie\n",
    "FilterByColumnValue(anime_x,'anime_id',[movieID])"
   ]
  },
  {
   "cell_type": "code",
   "execution_count": 12,
   "metadata": {
    "scrolled": false
   },
   "outputs": [
    {
     "data": {
      "text/html": [
       "<div>\n",
       "<style scoped>\n",
       "    .dataframe tbody tr th:only-of-type {\n",
       "        vertical-align: middle;\n",
       "    }\n",
       "\n",
       "    .dataframe tbody tr th {\n",
       "        vertical-align: top;\n",
       "    }\n",
       "\n",
       "    .dataframe thead th {\n",
       "        text-align: right;\n",
       "    }\n",
       "</style>\n",
       "<table border=\"1\" class=\"dataframe\">\n",
       "  <thead>\n",
       "    <tr style=\"text-align: right;\">\n",
       "      <th></th>\n",
       "      <th>anime_id</th>\n",
       "      <th>name</th>\n",
       "      <th>genre</th>\n",
       "      <th>type</th>\n",
       "      <th>episodes</th>\n",
       "      <th>rating</th>\n",
       "      <th>members</th>\n",
       "    </tr>\n",
       "  </thead>\n",
       "  <tbody>\n",
       "    <tr>\n",
       "      <td>307</td>\n",
       "      <td>1430</td>\n",
       "      <td>Lupin III: Cagliostro no Shiro</td>\n",
       "      <td>Adventure, Comedy, Shounen</td>\n",
       "      <td>Movie</td>\n",
       "      <td>1</td>\n",
       "      <td>8.20</td>\n",
       "      <td>32732</td>\n",
       "    </tr>\n",
       "    <tr>\n",
       "      <td>358</td>\n",
       "      <td>47</td>\n",
       "      <td>Akira</td>\n",
       "      <td>Action, Adventure, Horror, Military, Sci-Fi, S...</td>\n",
       "      <td>Movie</td>\n",
       "      <td>1</td>\n",
       "      <td>8.15</td>\n",
       "      <td>215897</td>\n",
       "    </tr>\n",
       "    <tr>\n",
       "      <td>441</td>\n",
       "      <td>4106</td>\n",
       "      <td>Trigun: Badlands Rumble</td>\n",
       "      <td>Action, Comedy, Sci-Fi</td>\n",
       "      <td>Movie</td>\n",
       "      <td>1</td>\n",
       "      <td>8.08</td>\n",
       "      <td>68181</td>\n",
       "    </tr>\n",
       "    <tr>\n",
       "      <td>484</td>\n",
       "      <td>793</td>\n",
       "      <td>xxxHOLiC Movie: Manatsu no Yoru no Yume</td>\n",
       "      <td>Comedy, Drama, Mystery, Psychological, Superna...</td>\n",
       "      <td>Movie</td>\n",
       "      <td>1</td>\n",
       "      <td>8.04</td>\n",
       "      <td>41547</td>\n",
       "    </tr>\n",
       "    <tr>\n",
       "      <td>624</td>\n",
       "      <td>468</td>\n",
       "      <td>Ghost in the Shell 2: Innocence</td>\n",
       "      <td>Mecha, Military, Police, Psychological, Sci-Fi</td>\n",
       "      <td>Movie</td>\n",
       "      <td>1</td>\n",
       "      <td>7.93</td>\n",
       "      <td>85714</td>\n",
       "    </tr>\n",
       "    <tr>\n",
       "      <td>728</td>\n",
       "      <td>2175</td>\n",
       "      <td>Kino no Tabi: The Beautiful World - Byouki no ...</td>\n",
       "      <td>Adventure, Drama, Fantasy</td>\n",
       "      <td>Movie</td>\n",
       "      <td>1</td>\n",
       "      <td>7.87</td>\n",
       "      <td>23453</td>\n",
       "    </tr>\n",
       "    <tr>\n",
       "      <td>783</td>\n",
       "      <td>1462</td>\n",
       "      <td>Memories</td>\n",
       "      <td>Drama, Horror, Psychological, Sci-Fi</td>\n",
       "      <td>Movie</td>\n",
       "      <td>3</td>\n",
       "      <td>7.84</td>\n",
       "      <td>38643</td>\n",
       "    </tr>\n",
       "    <tr>\n",
       "      <td>1208</td>\n",
       "      <td>8100</td>\n",
       "      <td>Mardock Scramble: The First Compression</td>\n",
       "      <td>Action, Psychological, Sci-Fi</td>\n",
       "      <td>Movie</td>\n",
       "      <td>1</td>\n",
       "      <td>7.63</td>\n",
       "      <td>40698</td>\n",
       "    </tr>\n",
       "    <tr>\n",
       "      <td>1959</td>\n",
       "      <td>713</td>\n",
       "      <td>Air Movie</td>\n",
       "      <td>Drama, Romance, Supernatural</td>\n",
       "      <td>Movie</td>\n",
       "      <td>1</td>\n",
       "      <td>7.39</td>\n",
       "      <td>44179</td>\n",
       "    </tr>\n",
       "    <tr>\n",
       "      <td>2655</td>\n",
       "      <td>2490</td>\n",
       "      <td>One Piece: Mezase! Kaizoku Yakyuu Ou</td>\n",
       "      <td>Comedy, Fantasy, Shounen, Sports</td>\n",
       "      <td>Movie</td>\n",
       "      <td>1</td>\n",
       "      <td>7.20</td>\n",
       "      <td>20054</td>\n",
       "    </tr>\n",
       "  </tbody>\n",
       "</table>\n",
       "</div>"
      ],
      "text/plain": [
       "      anime_id                                               name  \\\n",
       "307       1430                     Lupin III: Cagliostro no Shiro   \n",
       "358         47                                              Akira   \n",
       "441       4106                            Trigun: Badlands Rumble   \n",
       "484        793            xxxHOLiC Movie: Manatsu no Yoru no Yume   \n",
       "624        468                    Ghost in the Shell 2: Innocence   \n",
       "728       2175  Kino no Tabi: The Beautiful World - Byouki no ...   \n",
       "783       1462                                           Memories   \n",
       "1208      8100            Mardock Scramble: The First Compression   \n",
       "1959       713                                          Air Movie   \n",
       "2655      2490               One Piece: Mezase! Kaizoku Yakyuu Ou   \n",
       "\n",
       "                                                  genre   type episodes  \\\n",
       "307                          Adventure, Comedy, Shounen  Movie        1   \n",
       "358   Action, Adventure, Horror, Military, Sci-Fi, S...  Movie        1   \n",
       "441                              Action, Comedy, Sci-Fi  Movie        1   \n",
       "484   Comedy, Drama, Mystery, Psychological, Superna...  Movie        1   \n",
       "624      Mecha, Military, Police, Psychological, Sci-Fi  Movie        1   \n",
       "728                           Adventure, Drama, Fantasy  Movie        1   \n",
       "783                Drama, Horror, Psychological, Sci-Fi  Movie        3   \n",
       "1208                      Action, Psychological, Sci-Fi  Movie        1   \n",
       "1959                       Drama, Romance, Supernatural  Movie        1   \n",
       "2655                   Comedy, Fantasy, Shounen, Sports  Movie        1   \n",
       "\n",
       "      rating  members  \n",
       "307     8.20    32732  \n",
       "358     8.15   215897  \n",
       "441     8.08    68181  \n",
       "484     8.04    41547  \n",
       "624     7.93    85714  \n",
       "728     7.87    23453  \n",
       "783     7.84    38643  \n",
       "1208    7.63    40698  \n",
       "1959    7.39    44179  \n",
       "2655    7.20    20054  "
      ]
     },
     "execution_count": 12,
     "metadata": {},
     "output_type": "execute_result"
    }
   ],
   "source": [
    "#Top 10 recommendations for person who watched movie samurai champloo\n",
    "FilterByColumnValue(anime_x,'anime_id',recommendation_neighbors)"
   ]
  },
  {
   "cell_type": "markdown",
   "metadata": {},
   "source": [
    "##### https://github.com/NicolasHug/Surprise/blob/master/examples/k_nearest_neighbors.py"
   ]
  },
  {
   "cell_type": "markdown",
   "metadata": {},
   "source": [
    "1. What kind of preprocessing is necessary for the ratings dataset?\n",
    "    - Filtering data because there is too much to process\n",
    "    - In our case we decided to build recommendation engine for anime movies.\n",
    "    - filtered all users that had made over 100 reviews because we wanted input from diffrent kinds of people and decided buil recommendation system for common people.\n",
    "    - Need run data through reader to be able to parse dataset\n",
    "    - remove unrated information.\n",
    "\n",
    "2. How do the recommendation algorithms (e.g. KNN and SVD) perform with a data set of this magnitude? Do you encounter hardware limitations? If yes, how can you circumvent some of the limitations to be able to carry on with the experiment?\n",
    "    - SVD and KNN algorithms faced problem when we tried run the whole data scikit learn crashed due to the memory errors.\n",
    "        - That is why we proceed filtering steps explained in previous section\n",
    "    - SVD was much faster than KNN (how much)\n",
    "        - It wasnt not far behind KNNBaseline in metrics but because it is X times faster than KNN it might be good option for huge datasets\n",
    "    - Therer were many different KNN algorithms to choose from, but every one of them were much slower that SVD, but KNNBaseline had smallest RMSE so it was most valid choice for accurate model\n",
    "    \n",
    "3. Can you combine the information in the two files in a meaningful way to have the recommender display the titles of the recommended movies?\n",
    "    - Files can be combined easly through the anime_id parameter but it needed couple of tricks to get real id's for movies from model that can see from \"get recommendations...\" part which is above this cell.\n"
   ]
  },
  {
   "cell_type": "code",
   "execution_count": null,
   "metadata": {},
   "outputs": [],
   "source": []
  }
 ],
 "metadata": {
  "kernelspec": {
   "display_name": "Python 3",
   "language": "python",
   "name": "python3"
  },
  "language_info": {
   "codemirror_mode": {
    "name": "ipython",
    "version": 3
   },
   "file_extension": ".py",
   "mimetype": "text/x-python",
   "name": "python",
   "nbconvert_exporter": "python",
   "pygments_lexer": "ipython3",
   "version": "3.7.4"
  }
 },
 "nbformat": 4,
 "nbformat_minor": 2
}
