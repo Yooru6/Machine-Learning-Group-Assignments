{
 "cells": [
  {
   "cell_type": "code",
   "execution_count": 1,
   "metadata": {},
   "outputs": [],
   "source": [
    "import pandas as pd\n",
    "import numpy as np\n",
    "from sklearn.linear_model import LogisticRegression\n",
    "from sklearn.preprocessing import StandardScaler\n",
    "from sklearn.metrics import confusion_matrix\n",
    "from sklearn.metrics import classification_report\n",
    "#from sklearn.cross_validation import cross_val_score\n",
    "from sklearn.model_selection import cross_val_score"
   ]
  },
  {
   "cell_type": "code",
   "execution_count": 2,
   "metadata": {},
   "outputs": [
    {
     "name": "stdout",
     "output_type": "stream",
     "text": [
      "   anime_id                                               name  \\\n",
      "0     32281                                     Kimi no Na wa.   \n",
      "1      5114                   Fullmetal Alchemist: Brotherhood   \n",
      "2     28977                                           Gintama°   \n",
      "3      9253                                        Steins;Gate   \n",
      "4      9969                                      Gintama&#039;   \n",
      "5     32935  Haikyuu!!: Karasuno Koukou VS Shiratorizawa Ga...   \n",
      "6     11061                             Hunter x Hunter (2011)   \n",
      "7       820                               Ginga Eiyuu Densetsu   \n",
      "8     15335  Gintama Movie: Kanketsu-hen - Yorozuya yo Eien...   \n",
      "9     15417                           Gintama&#039;: Enchousen   \n",
      "\n",
      "                                               genre   type episodes  rating  \\\n",
      "0               Drama, Romance, School, Supernatural  Movie        1    9.37   \n",
      "1  Action, Adventure, Drama, Fantasy, Magic, Mili...     TV       64    9.26   \n",
      "2  Action, Comedy, Historical, Parody, Samurai, S...     TV       51    9.25   \n",
      "3                                   Sci-Fi, Thriller     TV       24    9.17   \n",
      "4  Action, Comedy, Historical, Parody, Samurai, S...     TV       51    9.16   \n",
      "5             Comedy, Drama, School, Shounen, Sports     TV       10    9.15   \n",
      "6            Action, Adventure, Shounen, Super Power     TV      148    9.13   \n",
      "7                     Drama, Military, Sci-Fi, Space    OVA      110    9.11   \n",
      "8  Action, Comedy, Historical, Parody, Samurai, S...  Movie        1    9.10   \n",
      "9  Action, Comedy, Historical, Parody, Samurai, S...     TV       13    9.11   \n",
      "\n",
      "   members  \n",
      "0   200630  \n",
      "1   793665  \n",
      "2   114262  \n",
      "3   673572  \n",
      "4   151266  \n",
      "5    93351  \n",
      "6   425855  \n",
      "7    80679  \n",
      "8    72534  \n",
      "9    81109  \n",
      "     anime_id  rating\n",
      "47       8074      10\n",
      "81      11617      10\n",
      "83      11757      10\n",
      "101     15451      10\n",
      "153     11771      10\n",
      "156        20       8\n",
      "157       154       6\n",
      "158       170       9\n",
      "159       199      10\n",
      "160       225       9\n"
     ]
    }
   ],
   "source": [
    "# read data (replace with your own path)\n",
    "anime = pd.read_csv('anime.csv', sep=',')\n",
    "rating = pd.read_csv('rating.csv', sep=',')\n",
    "print(anime.head(5))\n",
    "\n",
    "#removing user_id and ratings = -1 (means no rating) from a dataset\n",
    "rating.drop('user_id', axis=1, inplace=True)\n",
    "rating = rating[rating.rating != -1]\n",
    "print(rating.head(5))\n",
    "con = pd.merge(anime,rating, on = 'anime_id', )"
   ]
  },
  {
   "cell_type": "code",
   "execution_count": null,
   "metadata": {},
   "outputs": [],
   "source": []
  }
 ],
 "metadata": {
  "kernelspec": {
   "display_name": "Python 3",
   "language": "python",
   "name": "python3"
  },
  "language_info": {
   "codemirror_mode": {
    "name": "ipython",
    "version": 3
   },
   "file_extension": ".py",
   "mimetype": "text/x-python",
   "name": "python",
   "nbconvert_exporter": "python",
   "pygments_lexer": "ipython3",
   "version": "3.7.3"
  }
 },
 "nbformat": 4,
 "nbformat_minor": 2
}
