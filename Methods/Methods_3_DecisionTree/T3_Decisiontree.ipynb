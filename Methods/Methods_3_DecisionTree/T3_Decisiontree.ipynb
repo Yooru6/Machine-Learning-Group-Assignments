{
 "cells": [
  {
   "cell_type": "code",
   "execution_count": 1,
   "metadata": {},
   "outputs": [],
   "source": [
    "from sklearn import datasets, model_selection, svm, metrics\n",
    "import numpy as np\n",
    "import pandas as pd\n",
    "import threading\n",
    "from sklearn.model_selection import train_test_split\n",
    "from sklearn import tree\n",
    "import matplotlib.pyplot as plt\n",
    "from sklearn import preprocessing as pp"
   ]
  },
  {
   "cell_type": "code",
   "execution_count": 2,
   "metadata": {},
   "outputs": [
    {
     "name": "stdout",
     "output_type": "stream",
     "text": [
      "\n",
      "DESCRIBE DATA:\n",
      "        having_IP_Address    URL_Length  Shortining_Service  having_At_Symbol  \\\n",
      "count       11055.000000  11055.000000        11055.000000      11055.000000   \n",
      "mean            0.313795     -0.633198            0.738761          0.700588   \n",
      "std             0.949534      0.766095            0.673998          0.713598   \n",
      "min            -1.000000     -1.000000           -1.000000         -1.000000   \n",
      "25%            -1.000000     -1.000000            1.000000          1.000000   \n",
      "50%             1.000000     -1.000000            1.000000          1.000000   \n",
      "75%             1.000000     -1.000000            1.000000          1.000000   \n",
      "max             1.000000      1.000000            1.000000          1.000000   \n",
      "\n",
      "       double_slash_redirecting  Prefix_Suffix  having_Sub_Domain  \\\n",
      "count              11055.000000   11055.000000       11055.000000   \n",
      "mean                   0.741474      -0.734962           0.063953   \n",
      "std                    0.671011       0.678139           0.817518   \n",
      "min                   -1.000000      -1.000000          -1.000000   \n",
      "25%                    1.000000      -1.000000          -1.000000   \n",
      "50%                    1.000000      -1.000000           0.000000   \n",
      "75%                    1.000000      -1.000000           1.000000   \n",
      "max                    1.000000       1.000000           1.000000   \n",
      "\n",
      "       SSLfinal_State  Domain_registeration_length       Favicon  ...  \\\n",
      "count    11055.000000                 11055.000000  11055.000000  ...   \n",
      "mean         0.250927                    -0.336771      0.628584  ...   \n",
      "std          0.911892                     0.941629      0.777777  ...   \n",
      "min         -1.000000                    -1.000000     -1.000000  ...   \n",
      "25%         -1.000000                    -1.000000      1.000000  ...   \n",
      "50%          1.000000                    -1.000000      1.000000  ...   \n",
      "75%          1.000000                     1.000000      1.000000  ...   \n",
      "max          1.000000                     1.000000      1.000000  ...   \n",
      "\n",
      "        popUpWindow        Iframe  age_of_domain     DNSRecord   web_traffic  \\\n",
      "count  11055.000000  11055.000000   11055.000000  11055.000000  11055.000000   \n",
      "mean       0.613388      0.816915       0.061239      0.377114      0.287291   \n",
      "std        0.789818      0.576784       0.998168      0.926209      0.827733   \n",
      "min       -1.000000     -1.000000      -1.000000     -1.000000     -1.000000   \n",
      "25%        1.000000      1.000000      -1.000000     -1.000000      0.000000   \n",
      "50%        1.000000      1.000000       1.000000      1.000000      1.000000   \n",
      "75%        1.000000      1.000000       1.000000      1.000000      1.000000   \n",
      "max        1.000000      1.000000       1.000000      1.000000      1.000000   \n",
      "\n",
      "          Page_Rank  Google_Index  Links_pointing_to_page  Statistical_report  \\\n",
      "count  11055.000000  11055.000000            11055.000000        11055.000000   \n",
      "mean      -0.483673      0.721574                0.344007            0.719584   \n",
      "std        0.875289      0.692369                0.569944            0.694437   \n",
      "min       -1.000000     -1.000000               -1.000000           -1.000000   \n",
      "25%       -1.000000      1.000000                0.000000            1.000000   \n",
      "50%       -1.000000      1.000000                0.000000            1.000000   \n",
      "75%        1.000000      1.000000                1.000000            1.000000   \n",
      "max        1.000000      1.000000                1.000000            1.000000   \n",
      "\n",
      "             Result  \n",
      "count  11055.000000  \n",
      "mean       0.113885  \n",
      "std        0.993539  \n",
      "min       -1.000000  \n",
      "25%       -1.000000  \n",
      "50%        1.000000  \n",
      "75%        1.000000  \n",
      "max        1.000000  \n",
      "\n",
      "[8 rows x 31 columns]\n"
     ]
    },
    {
     "name": "stderr",
     "output_type": "stream",
     "text": [
      "C:\\Users\\Yooru\\Anaconda3\\lib\\site-packages\\ipykernel_launcher.py:7: FutureWarning: The 'get_values' method is deprecated and will be removed in a future version. Use '.to_numpy()' or '.array' instead.\n",
      "  import sys\n"
     ]
    },
    {
     "data": {
      "text/plain": [
       "(11055, 31)"
      ]
     },
     "execution_count": 2,
     "metadata": {},
     "output_type": "execute_result"
    }
   ],
   "source": [
    "##Prepare data##\n",
    "\n",
    "filename=r'phishing.csv'\n",
    "data_train=pd.read_csv(filename,index_col=None,na_values='?',sep = ';')\n",
    "\n",
    "data_train=data_train.dropna()\n",
    "colnames = data_train.columns.get_values()\n",
    "\n",
    "print(\"\\nDESCRIBE DATA:\\n\",data_train.describe())\n",
    "data_train.shape"
   ]
  },
  {
   "cell_type": "code",
   "execution_count": 59,
   "metadata": {},
   "outputs": [],
   "source": [
    "from sklearn.tree import DecisionTreeClassifier\n",
    "###MAKE DECISION TREE###\n",
    "\n",
    "#data_train\n",
    "X_all = data_train.drop(['Result'], axis=1)\n",
    "y_all = data_train['Result']\n",
    "\n",
    "test_size=2050\n",
    "train_size=8050\n",
    "\n",
    "X_train, X_test, y_train, y_test = model_selection.train_test_split(X_all, y_all, test_size=test_size, train_size=train_size)"
   ]
  },
  {
   "cell_type": "markdown",
   "metadata": {},
   "source": [
    "### Notes\n",
    "On default settings on tree makes bit unbalanced classification.\n",
    "fine tuned min_samples_split value to 1500.\n",
    "min_samples_leaf value tuning didn't really do nothing special between range 2-100 but if it is increased to 200 balance of the classification gets worse.\n"
   ]
  },
  {
   "cell_type": "code",
   "execution_count": 99,
   "metadata": {},
   "outputs": [
    {
     "name": "stdout",
     "output_type": "stream",
     "text": [
      "accuracy: 0.9121951219512195\n",
      "\n",
      "Predicted   -1     1   All\n",
      "True                      \n",
      "-1         840    80   920\n",
      "1          100  1030  1130\n",
      "All        940  1110  2050 \n",
      "\n",
      "              precision    recall  f1-score   support\n",
      "\n",
      "          -1       0.89      0.91      0.90       920\n",
      "           1       0.93      0.91      0.92      1130\n",
      "\n",
      "    accuracy                           0.91      2050\n",
      "   macro avg       0.91      0.91      0.91      2050\n",
      "weighted avg       0.91      0.91      0.91      2050\n",
      "\n"
     ]
    }
   ],
   "source": [
    "from sklearn.metrics import confusion_matrix \n",
    "from sklearn.metrics import precision_score,confusion_matrix,f1_score,classification_report\n",
    "\n",
    "clf = DecisionTreeClassifier(criterion=\"gini\",\n",
    "                             min_samples_split=1500,\n",
    "                             min_samples_leaf=50,\n",
    "                             splitter='best',\n",
    "                             max_depth=2)\n",
    "clf.fit(X_train, y_train)\n",
    "pre = clf.predict(X_test)\n",
    "\n",
    "accuracy_score = metrics.accuracy_score(y_test, pre)\n",
    "\n",
    "print(\"accuracy:\", accuracy_score)\n",
    "cf_matrix = confusion_matrix(y_test, pre)\n",
    "print()\n",
    "\n",
    "print(pd.crosstab(y_test, pre, rownames=['True'], colnames=['Predicted'], margins=True),\"\\n\")\n",
    "\n",
    "print(classification_report(y_test,pre))"
   ]
  },
  {
   "cell_type": "code",
   "execution_count": 57,
   "metadata": {},
   "outputs": [
    {
     "data": {
      "image/png": "[encoded data removed]",
      "text/plain": [
       "<Figure size 432x288 with 1 Axes>"
      ]
     },
     "metadata": {
      "needs_background": "light"
     },
     "output_type": "display_data"
    }
   ],
   "source": [
    "from sklearn.tree import plot_tree\n",
    "import graphviz\n",
    "plt.figure()\n",
    "plot_tree(clf, filled=True,class_names = ['legitimate','phising'])\n",
    "plt.show()\n",
    "\n",
    "from sklearn.tree import export_graphviz\n",
    "# Export as dot file\n",
    "export_graphviz(clf, out_file='tree.dot', \n",
    "                feature_names = colnames[:30],\n",
    "                class_names = ['legitimate','phising'],\n",
    "                rounded = True, proportion = False, \n",
    "                precision = 2, filled = True)"
   ]
  },
  {
   "cell_type": "code",
   "execution_count": 100,
   "metadata": {
    "scrolled": true
   },
   "outputs": [
    {
     "data": {
      "image/svg+xml": [
       "<?xml version=\"1.0\" encoding=\"UTF-8\" standalone=\"no\"?>\r\n",
       "<!DOCTYPE svg PUBLIC \"-//W3C//DTD SVG 1.1//EN\"\r\n",
       " \"http://www.w3.org/Graphics/SVG/1.1/DTD/svg11.dtd\">\r\n",
       "<!-- Generated by graphviz version 2.38.0 (20140413.2041)\r\n",
       " -->\r\n",
       "<!-- Title: Tree Pages: 1 -->\r\n",
       "<svg width=\"720pt\" height=\"376pt\"\r\n",
       " viewBox=\"0.00 0.00 720.00 375.55\" xmlns=\"http://www.w3.org/2000/svg\" xmlns:xlink=\"http://www.w3.org/1999/xlink\">\r\n",
       "<g id=\"graph0\" class=\"graph\" transform=\"scale(1.19601 1.19601) rotate(0) translate(4 310)\">\r\n",
       "<title>Tree</title>\r\n",
       "<polygon fill=\"white\" stroke=\"none\" points=\"-4,4 -4,-310 598,-310 598,4 -4,4\"/>\r\n",
       "<!-- 0 -->\r\n",
       "<g id=\"node1\" class=\"node\"><title>0</title>\r\n",
       "<path fill=\"#d6ebfa\" stroke=\"black\" d=\"M357.5,-306C357.5,-306 226.5,-306 226.5,-306 220.5,-306 214.5,-300 214.5,-294 214.5,-294 214.5,-235 214.5,-235 214.5,-229 220.5,-223 226.5,-223 226.5,-223 357.5,-223 357.5,-223 363.5,-223 369.5,-229 369.5,-235 369.5,-235 369.5,-294 369.5,-294 369.5,-300 363.5,-306 357.5,-306\"/>\r\n",
       "<text text-anchor=\"middle\" x=\"292\" y=\"-290.8\" font-family=\"Helvetica,sans-Serif\" font-size=\"14.00\">SSLfinal_State &lt;= 0.5</text>\r\n",
       "<text text-anchor=\"middle\" x=\"292\" y=\"-275.8\" font-family=\"Helvetica,sans-Serif\" font-size=\"14.00\">gini = 0.493</text>\r\n",
       "<text text-anchor=\"middle\" x=\"292\" y=\"-260.8\" font-family=\"Helvetica,sans-Serif\" font-size=\"14.00\">samples = 8050</text>\r\n",
       "<text text-anchor=\"middle\" x=\"292\" y=\"-245.8\" font-family=\"Helvetica,sans-Serif\" font-size=\"14.00\">value = [3557, 4493]</text>\r\n",
       "<text text-anchor=\"middle\" x=\"292\" y=\"-230.8\" font-family=\"Helvetica,sans-Serif\" font-size=\"14.00\">class = phising</text>\r\n",
       "</g>\r\n",
       "<!-- 1 -->\r\n",
       "<g id=\"node2\" class=\"node\"><title>1</title>\r\n",
       "<path fill=\"#e89153\" stroke=\"black\" d=\"M271,-187C271,-187 127,-187 127,-187 121,-187 115,-181 115,-175 115,-175 115,-116 115,-116 115,-110 121,-104 127,-104 127,-104 271,-104 271,-104 277,-104 283,-110 283,-116 283,-116 283,-175 283,-175 283,-181 277,-187 271,-187\"/>\r\n",
       "<text text-anchor=\"middle\" x=\"199\" y=\"-171.8\" font-family=\"Helvetica,sans-Serif\" font-size=\"14.00\">URL_of_Anchor &lt;= &#45;0.5</text>\r\n",
       "<text text-anchor=\"middle\" x=\"199\" y=\"-156.8\" font-family=\"Helvetica,sans-Serif\" font-size=\"14.00\">gini = 0.204</text>\r\n",
       "<text text-anchor=\"middle\" x=\"199\" y=\"-141.8\" font-family=\"Helvetica,sans-Serif\" font-size=\"14.00\">samples = 3425</text>\r\n",
       "<text text-anchor=\"middle\" x=\"199\" y=\"-126.8\" font-family=\"Helvetica,sans-Serif\" font-size=\"14.00\">value = [3031, 394]</text>\r\n",
       "<text text-anchor=\"middle\" x=\"199\" y=\"-111.8\" font-family=\"Helvetica,sans-Serif\" font-size=\"14.00\">class = legitimate</text>\r\n",
       "</g>\r\n",
       "<!-- 0&#45;&gt;1 -->\r\n",
       "<g id=\"edge1\" class=\"edge\"><title>0&#45;&gt;1</title>\r\n",
       "<path fill=\"none\" stroke=\"black\" d=\"M259.734,-222.907C252.593,-213.923 244.956,-204.315 237.591,-195.05\"/>\r\n",
       "<polygon fill=\"black\" stroke=\"black\" points=\"240.171,-192.671 231.209,-187.021 234.691,-197.027 240.171,-192.671\"/>\r\n",
       "<text text-anchor=\"middle\" x=\"228.37\" y=\"-208.159\" font-family=\"Helvetica,sans-Serif\" font-size=\"14.00\">True</text>\r\n",
       "</g>\r\n",
       "<!-- 4 -->\r\n",
       "<g id=\"node5\" class=\"node\"><title>4</title>\r\n",
       "<path fill=\"#52aae8\" stroke=\"black\" d=\"M457,-187C457,-187 313,-187 313,-187 307,-187 301,-181 301,-175 301,-175 301,-116 301,-116 301,-110 307,-104 313,-104 313,-104 457,-104 457,-104 463,-104 469,-110 469,-116 469,-116 469,-175 469,-175 469,-181 463,-187 457,-187\"/>\r\n",
       "<text text-anchor=\"middle\" x=\"385\" y=\"-171.8\" font-family=\"Helvetica,sans-Serif\" font-size=\"14.00\">URL_of_Anchor &lt;= &#45;0.5</text>\r\n",
       "<text text-anchor=\"middle\" x=\"385\" y=\"-156.8\" font-family=\"Helvetica,sans-Serif\" font-size=\"14.00\">gini = 0.202</text>\r\n",
       "<text text-anchor=\"middle\" x=\"385\" y=\"-141.8\" font-family=\"Helvetica,sans-Serif\" font-size=\"14.00\">samples = 4625</text>\r\n",
       "<text text-anchor=\"middle\" x=\"385\" y=\"-126.8\" font-family=\"Helvetica,sans-Serif\" font-size=\"14.00\">value = [526, 4099]</text>\r\n",
       "<text text-anchor=\"middle\" x=\"385\" y=\"-111.8\" font-family=\"Helvetica,sans-Serif\" font-size=\"14.00\">class = phising</text>\r\n",
       "</g>\r\n",
       "<!-- 0&#45;&gt;4 -->\r\n",
       "<g id=\"edge4\" class=\"edge\"><title>0&#45;&gt;4</title>\r\n",
       "<path fill=\"none\" stroke=\"black\" d=\"M324.266,-222.907C331.407,-213.923 339.044,-204.315 346.409,-195.05\"/>\r\n",
       "<polygon fill=\"black\" stroke=\"black\" points=\"349.309,-197.027 352.791,-187.021 343.829,-192.671 349.309,-197.027\"/>\r\n",
       "<text text-anchor=\"middle\" x=\"355.63\" y=\"-208.159\" font-family=\"Helvetica,sans-Serif\" font-size=\"14.00\">False</text>\r\n",
       "</g>\r\n",
       "<!-- 2 -->\r\n",
       "<g id=\"node3\" class=\"node\"><title>2</title>\r\n",
       "<path fill=\"#e58139\" stroke=\"black\" d=\"M114,-68C114,-68 12,-68 12,-68 6,-68 0,-62 0,-56 0,-56 0,-12 0,-12 0,-6 6,-0 12,-0 12,-0 114,-0 114,-0 120,-0 126,-6 126,-12 126,-12 126,-56 126,-56 126,-62 120,-68 114,-68\"/>\r\n",
       "<text text-anchor=\"middle\" x=\"63\" y=\"-52.8\" font-family=\"Helvetica,sans-Serif\" font-size=\"14.00\">gini = 0.0</text>\r\n",
       "<text text-anchor=\"middle\" x=\"63\" y=\"-37.8\" font-family=\"Helvetica,sans-Serif\" font-size=\"14.00\">samples = 2156</text>\r\n",
       "<text text-anchor=\"middle\" x=\"63\" y=\"-22.8\" font-family=\"Helvetica,sans-Serif\" font-size=\"14.00\">value = [2156, 0]</text>\r\n",
       "<text text-anchor=\"middle\" x=\"63\" y=\"-7.8\" font-family=\"Helvetica,sans-Serif\" font-size=\"14.00\">class = legitimate</text>\r\n",
       "</g>\r\n",
       "<!-- 1&#45;&gt;2 -->\r\n",
       "<g id=\"edge2\" class=\"edge\"><title>1&#45;&gt;2</title>\r\n",
       "<path fill=\"none\" stroke=\"black\" d=\"M148.359,-103.726C136.577,-94.2406 124.051,-84.1551 112.327,-74.7159\"/>\r\n",
       "<polygon fill=\"black\" stroke=\"black\" points=\"114.343,-71.8448 104.358,-68.2996 109.953,-77.2972 114.343,-71.8448\"/>\r\n",
       "</g>\r\n",
       "<!-- 3 -->\r\n",
       "<g id=\"node4\" class=\"node\"><title>3</title>\r\n",
       "<path fill=\"#f1ba92\" stroke=\"black\" d=\"M262,-68C262,-68 156,-68 156,-68 150,-68 144,-62 144,-56 144,-56 144,-12 144,-12 144,-6 150,-0 156,-0 156,-0 262,-0 262,-0 268,-0 274,-6 274,-12 274,-12 274,-56 274,-56 274,-62 268,-68 262,-68\"/>\r\n",
       "<text text-anchor=\"middle\" x=\"209\" y=\"-52.8\" font-family=\"Helvetica,sans-Serif\" font-size=\"14.00\">gini = 0.428</text>\r\n",
       "<text text-anchor=\"middle\" x=\"209\" y=\"-37.8\" font-family=\"Helvetica,sans-Serif\" font-size=\"14.00\">samples = 1269</text>\r\n",
       "<text text-anchor=\"middle\" x=\"209\" y=\"-22.8\" font-family=\"Helvetica,sans-Serif\" font-size=\"14.00\">value = [875, 394]</text>\r\n",
       "<text text-anchor=\"middle\" x=\"209\" y=\"-7.8\" font-family=\"Helvetica,sans-Serif\" font-size=\"14.00\">class = legitimate</text>\r\n",
       "</g>\r\n",
       "<!-- 1&#45;&gt;3 -->\r\n",
       "<g id=\"edge3\" class=\"edge\"><title>1&#45;&gt;3</title>\r\n",
       "<path fill=\"none\" stroke=\"black\" d=\"M202.724,-103.726C203.482,-95.4263 204.282,-86.6671 205.047,-78.2834\"/>\r\n",
       "<polygon fill=\"black\" stroke=\"black\" points=\"208.535,-78.5765 205.959,-68.2996 201.564,-77.9398 208.535,-78.5765\"/>\r\n",
       "</g>\r\n",
       "<!-- 5 -->\r\n",
       "<g id=\"node6\" class=\"node\"><title>5</title>\r\n",
       "<path fill=\"#e99456\" stroke=\"black\" d=\"M426,-68C426,-68 324,-68 324,-68 318,-68 312,-62 312,-56 312,-56 312,-12 312,-12 312,-6 318,-0 324,-0 324,-0 426,-0 426,-0 432,-0 438,-6 438,-12 438,-12 438,-56 438,-56 438,-62 432,-68 426,-68\"/>\r\n",
       "<text text-anchor=\"middle\" x=\"375\" y=\"-52.8\" font-family=\"Helvetica,sans-Serif\" font-size=\"14.00\">gini = 0.225</text>\r\n",
       "<text text-anchor=\"middle\" x=\"375\" y=\"-37.8\" font-family=\"Helvetica,sans-Serif\" font-size=\"14.00\">samples = 194</text>\r\n",
       "<text text-anchor=\"middle\" x=\"375\" y=\"-22.8\" font-family=\"Helvetica,sans-Serif\" font-size=\"14.00\">value = [169, 25]</text>\r\n",
       "<text text-anchor=\"middle\" x=\"375\" y=\"-7.8\" font-family=\"Helvetica,sans-Serif\" font-size=\"14.00\">class = legitimate</text>\r\n",
       "</g>\r\n",
       "<!-- 4&#45;&gt;5 -->\r\n",
       "<g id=\"edge5\" class=\"edge\"><title>4&#45;&gt;5</title>\r\n",
       "<path fill=\"none\" stroke=\"black\" d=\"M381.276,-103.726C380.518,-95.4263 379.718,-86.6671 378.953,-78.2834\"/>\r\n",
       "<polygon fill=\"black\" stroke=\"black\" points=\"382.436,-77.9398 378.041,-68.2996 375.465,-78.5765 382.436,-77.9398\"/>\r\n",
       "</g>\r\n",
       "<!-- 6 -->\r\n",
       "<g id=\"node7\" class=\"node\"><title>6</title>\r\n",
       "<path fill=\"#4aa6e7\" stroke=\"black\" d=\"M582,-68C582,-68 468,-68 468,-68 462,-68 456,-62 456,-56 456,-56 456,-12 456,-12 456,-6 462,-0 468,-0 468,-0 582,-0 582,-0 588,-0 594,-6 594,-12 594,-12 594,-56 594,-56 594,-62 588,-68 582,-68\"/>\r\n",
       "<text text-anchor=\"middle\" x=\"525\" y=\"-52.8\" font-family=\"Helvetica,sans-Serif\" font-size=\"14.00\">gini = 0.148</text>\r\n",
       "<text text-anchor=\"middle\" x=\"525\" y=\"-37.8\" font-family=\"Helvetica,sans-Serif\" font-size=\"14.00\">samples = 4431</text>\r\n",
       "<text text-anchor=\"middle\" x=\"525\" y=\"-22.8\" font-family=\"Helvetica,sans-Serif\" font-size=\"14.00\">value = [357, 4074]</text>\r\n",
       "<text text-anchor=\"middle\" x=\"525\" y=\"-7.8\" font-family=\"Helvetica,sans-Serif\" font-size=\"14.00\">class = phising</text>\r\n",
       "</g>\r\n",
       "<!-- 4&#45;&gt;6 -->\r\n",
       "<g id=\"edge6\" class=\"edge\"><title>4&#45;&gt;6</title>\r\n",
       "<path fill=\"none\" stroke=\"black\" d=\"M437.131,-103.726C449.259,-94.2406 462.153,-84.1551 474.222,-74.7159\"/>\r\n",
       "<polygon fill=\"black\" stroke=\"black\" points=\"476.705,-77.2173 482.425,-68.2996 472.392,-71.7035 476.705,-77.2173\"/>\r\n",
       "</g>\r\n",
       "</g>\r\n",
       "</svg>\r\n"
      ],
      "text/plain": [
       "<graphviz.files.Source at 0x1ff6158df88>"
      ]
     },
     "execution_count": 100,
     "metadata": {},
     "output_type": "execute_result"
    }
   ],
   "source": [
    "##Edited plot\n",
    "import pydotplus\n",
    "import pydot\n",
    "import graphviz\n",
    "\n",
    "#Without this graphviz executables not found\n",
    "import os\n",
    "os.environ['PATH'] = os.environ['PATH']+';'+os.environ['CONDA_PREFIX']+r\"\\Library\\bin\\graphviz\"\n",
    "\n",
    "tree_data = export_graphviz(clf, feature_names=colnames[:30], out_file=None,class_names = ['legitimate','phising'], filled=True, rounded=True)\n",
    "tree_graph = pydotplus.graph_from_dot_data(tree_data)\n",
    "\n",
    "tree_graph.set_size('\"10,10!\"')\n",
    "tree_graph.write_png('img_treeDot.png')\n",
    "#tree_graph.write_pdf(\"pdf_treeDot.pdf\")  \n",
    "\n",
    "graphviz_graph = graphviz.Source(tree_graph.to_string())\n",
    "graphviz_graph"
   ]
  },
  {
   "cell_type": "code",
   "execution_count": null,
   "metadata": {},
   "outputs": [],
   "source": []
  },
  {
   "cell_type": "code",
   "execution_count": null,
   "metadata": {},
   "outputs": [],
   "source": []
  }
 ],
 "metadata": {
  "kernelspec": {
   "display_name": "Python 3",
   "language": "python",
   "name": "python3"
  },
  "language_info": {
   "codemirror_mode": {
    "name": "ipython",
    "version": 3
   },
   "file_extension": ".py",
   "mimetype": "text/x-python",
   "name": "python",
   "nbconvert_exporter": "python",
   "pygments_lexer": "ipython3",
   "version": "3.7.4"
  }
 },
 "nbformat": 4,
 "nbformat_minor": 2
}
