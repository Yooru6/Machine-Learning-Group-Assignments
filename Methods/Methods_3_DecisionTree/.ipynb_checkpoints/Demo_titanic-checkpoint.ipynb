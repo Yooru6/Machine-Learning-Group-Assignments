{
 "cells": [
  {
   "cell_type": "code",
   "execution_count": 79,
   "metadata": {},
   "outputs": [
    {
     "data": {
      "text/html": [
       "<div>\n",
       "<style scoped>\n",
       "    .dataframe tbody tr th:only-of-type {\n",
       "        vertical-align: middle;\n",
       "    }\n",
       "\n",
       "    .dataframe tbody tr th {\n",
       "        vertical-align: top;\n",
       "    }\n",
       "\n",
       "    .dataframe thead th {\n",
       "        text-align: right;\n",
       "    }\n",
       "</style>\n",
       "<table border=\"1\" class=\"dataframe\">\n",
       "  <thead>\n",
       "    <tr style=\"text-align: right;\">\n",
       "      <th></th>\n",
       "      <th>pclass</th>\n",
       "      <th>sex</th>\n",
       "      <th>age</th>\n",
       "      <th>survived</th>\n",
       "    </tr>\n",
       "  </thead>\n",
       "  <tbody>\n",
       "    <tr>\n",
       "      <th>0</th>\n",
       "      <td>1</td>\n",
       "      <td>female</td>\n",
       "      <td>29.0000</td>\n",
       "      <td>1</td>\n",
       "    </tr>\n",
       "    <tr>\n",
       "      <th>1</th>\n",
       "      <td>1</td>\n",
       "      <td>male</td>\n",
       "      <td>0.9167</td>\n",
       "      <td>1</td>\n",
       "    </tr>\n",
       "    <tr>\n",
       "      <th>2</th>\n",
       "      <td>1</td>\n",
       "      <td>female</td>\n",
       "      <td>2.0000</td>\n",
       "      <td>0</td>\n",
       "    </tr>\n",
       "    <tr>\n",
       "      <th>3</th>\n",
       "      <td>1</td>\n",
       "      <td>male</td>\n",
       "      <td>30.0000</td>\n",
       "      <td>0</td>\n",
       "    </tr>\n",
       "    <tr>\n",
       "      <th>4</th>\n",
       "      <td>1</td>\n",
       "      <td>female</td>\n",
       "      <td>25.0000</td>\n",
       "      <td>0</td>\n",
       "    </tr>\n",
       "    <tr>\n",
       "      <th>5</th>\n",
       "      <td>1</td>\n",
       "      <td>male</td>\n",
       "      <td>48.0000</td>\n",
       "      <td>1</td>\n",
       "    </tr>\n",
       "    <tr>\n",
       "      <th>6</th>\n",
       "      <td>1</td>\n",
       "      <td>female</td>\n",
       "      <td>63.0000</td>\n",
       "      <td>1</td>\n",
       "    </tr>\n",
       "    <tr>\n",
       "      <th>7</th>\n",
       "      <td>1</td>\n",
       "      <td>male</td>\n",
       "      <td>39.0000</td>\n",
       "      <td>0</td>\n",
       "    </tr>\n",
       "    <tr>\n",
       "      <th>8</th>\n",
       "      <td>1</td>\n",
       "      <td>female</td>\n",
       "      <td>53.0000</td>\n",
       "      <td>1</td>\n",
       "    </tr>\n",
       "    <tr>\n",
       "      <th>9</th>\n",
       "      <td>1</td>\n",
       "      <td>male</td>\n",
       "      <td>71.0000</td>\n",
       "      <td>0</td>\n",
       "    </tr>\n",
       "  </tbody>\n",
       "</table>\n",
       "</div>"
      ],
      "text/plain": [
       "   pclass     sex      age  survived\n",
       "0       1  female  29.0000         1\n",
       "1       1    male   0.9167         1\n",
       "2       1  female   2.0000         0\n",
       "3       1    male  30.0000         0\n",
       "4       1  female  25.0000         0\n",
       "5       1    male  48.0000         1\n",
       "6       1  female  63.0000         1\n",
       "7       1    male  39.0000         0\n",
       "8       1  female  53.0000         1\n",
       "9       1    male  71.0000         0"
      ]
     },
     "execution_count": 79,
     "metadata": {},
     "output_type": "execute_result"
    }
   ],
   "source": [
    "import pandas as pd\n",
    "import numpy as np\n",
    "from sklearn import tree\n",
    "import graphviz\n",
    "from sklearn.metrics import confusion_matrix\n",
    "from sklearn.metrics import classification_report\n",
    "from sklearn.cross_validation import cross_val_score\n",
    "from IPython.display import IFrame\n",
    "\n",
    "# Decision tree demo for Titanic data\n",
    "\n",
    "# read data (replace with your own path)\n",
    "df = pd.read_csv('C:\\\\Users\\\\olliv\\\\Documents\\\\cogsys\\\\titanic_v2.csv', sep=';')\n",
    "\n",
    "# drop rows with missing values\n",
    "df.dropna(axis=0, how='any', inplace=True)\n",
    "df.head(10)\n",
    "\n"
   ]
  },
  {
   "cell_type": "code",
   "execution_count": 80,
   "metadata": {},
   "outputs": [
    {
     "data": {
      "text/plain": [
       "pclass         int64\n",
       "sex            int64\n",
       "age          float64\n",
       "survived    category\n",
       "dtype: object"
      ]
     },
     "execution_count": 80,
     "metadata": {},
     "output_type": "execute_result"
    }
   ],
   "source": [
    "# type conversions\n",
    "# Note that DecisionTreeClassifier can't use strings in explanatory variables\n",
    "#df['sex'] = df['sex'].astype(pd.api.types.CategoricalDtype(ordered=False))\n",
    "df['sex'] = df['sex'].replace(['male', 'female'],[1,2])\n",
    "\n",
    "\n",
    "df['survived'] = df['survived'].astype(pd.api.types.CategoricalDtype(ordered=False))\n",
    "df.dtypes"
   ]
  },
  {
   "cell_type": "code",
   "execution_count": 81,
   "metadata": {},
   "outputs": [
    {
     "data": {
      "text/plain": [
       "array(['pclass', 'sex', 'age', 'survived'], dtype=object)"
      ]
     },
     "execution_count": 81,
     "metadata": {},
     "output_type": "execute_result"
    }
   ],
   "source": [
    "# save column headings into a list\n",
    "colnames = df.columns.get_values()\n",
    "colnames"
   ]
  },
  {
   "cell_type": "code",
   "execution_count": 82,
   "metadata": {},
   "outputs": [],
   "source": [
    "# extract explanatory variables into a data frame\n",
    "X = df.loc[:, 'pclass':'age']\n",
    "\n",
    "# extract response variable (class variable) into a series\n",
    "Y = df.loc[:, 'survived']"
   ]
  },
  {
   "cell_type": "code",
   "execution_count": 83,
   "metadata": {},
   "outputs": [
    {
     "data": {
      "text/plain": [
       "DecisionTreeClassifier(class_weight=None, criterion='gini', max_depth=2,\n",
       "            max_features=None, max_leaf_nodes=None,\n",
       "            min_impurity_split=1e-07, min_samples_leaf=1,\n",
       "            min_samples_split=2, min_weight_fraction_leaf=0.0,\n",
       "            presort=False, random_state=None, splitter='best')"
      ]
     },
     "execution_count": 83,
     "metadata": {},
     "output_type": "execute_result"
    }
   ],
   "source": [
    "# decision tree classification\n",
    "classifier = tree.DecisionTreeClassifier(max_depth=2)\n",
    "classifier.fit(X,Y)"
   ]
  },
  {
   "cell_type": "code",
   "execution_count": 84,
   "metadata": {
    "scrolled": true
   },
   "outputs": [
    {
     "data": {
      "text/html": [
       "\n",
       "        <iframe\n",
       "            width=\"900\"\n",
       "            height=\"700\"\n",
       "            src=\"titanic.pdf\"\n",
       "            frameborder=\"0\"\n",
       "            allowfullscreen\n",
       "        ></iframe>\n",
       "        "
      ],
      "text/plain": [
       "<IPython.lib.display.IFrame at 0x19dc395e3c8>"
      ]
     },
     "execution_count": 84,
     "metadata": {},
     "output_type": "execute_result"
    }
   ],
   "source": [
    "# visualize\n",
    "dot_data = tree.export_graphviz(classifier, out_file=None, feature_names=colnames[:3], class_names=['no','yes'])\n",
    "graph = graphviz.Source(dot_data) \n",
    "graph.render(\"titanic\")\n",
    "\n",
    "IFrame(\"titanic.pdf\", width=900, height=700)"
   ]
  },
  {
   "cell_type": "code",
   "execution_count": 85,
   "metadata": {},
   "outputs": [
    {
     "name": "stdout",
     "output_type": "stream",
     "text": [
      "Confusion matrix:\n",
      " [[585  34]\n",
      " [182 245]]\n",
      "Accuracy calculated from the training set = 0.793\n",
      "             precision    recall  f1-score   support\n",
      "\n",
      "         no       0.76      0.95      0.84       619\n",
      "        yes       0.88      0.57      0.69       427\n",
      "\n",
      "avg / total       0.81      0.79      0.78      1046\n",
      "\n"
     ]
    }
   ],
   "source": [
    "# predict\n",
    "Y_pred = classifier.predict(X)\n",
    "\n",
    "# output confusion matrix\n",
    "cm = confusion_matrix(Y, Y_pred)\n",
    "print(\"Confusion matrix:\\n\",cm)\n",
    "\n",
    "accuracy = (cm[0][0]+cm[1][1])/(cm[0][0]+cm[1][1]+cm[0][1]+cm[1][0])\n",
    "print(\"Accuracy calculated from the training set = %.3f\" % (accuracy))\n",
    "\n",
    "print(classification_report(Y, Y_pred, target_names=['no', 'yes']))"
   ]
  },
  {
   "cell_type": "code",
   "execution_count": 86,
   "metadata": {},
   "outputs": [
    {
     "name": "stdout",
     "output_type": "stream",
     "text": [
      "Accuracies from 10 individual folds:\n",
      "[ 0.83809524  0.86666667  0.84761905  0.82857143  0.76190476  0.83809524\n",
      "  0.8         0.59615385  0.52884615  0.61165049]\n",
      "Accuracy calculated using 10-fold cross validation = 0.752\n"
     ]
    }
   ],
   "source": [
    "# cross-validate\n",
    "# number of folds\n",
    "k = 10\n",
    "scores = cross_val_score(estimator=classifier,\n",
    "                        X=X,\n",
    "                        y=Y,\n",
    "                        scoring=\"accuracy\",\n",
    "                        cv=k)\n",
    "print(\"Accuracies from %d individual folds:\" % k)\n",
    "print(scores)\n",
    "print(\"Accuracy calculated using %d-fold cross validation = %.3f\" % (k, scores.mean()))"
   ]
  },
  {
   "cell_type": "code",
   "execution_count": 91,
   "metadata": {},
   "outputs": [
    {
     "name": "stdout",
     "output_type": "stream",
     "text": [
      "min_samples_leaf: 201\n",
      "  Accuracy calculated from the training set = 0.779\n",
      "  Accuracy calculated using 10-fold cross validation = 0.779\n",
      "min_samples_leaf: 181\n",
      "  Accuracy calculated from the training set = 0.779\n",
      "  Accuracy calculated using 10-fold cross validation = 0.779\n",
      "min_samples_leaf: 161\n",
      "  Accuracy calculated from the training set = 0.779\n",
      "  Accuracy calculated using 10-fold cross validation = 0.779\n",
      "min_samples_leaf: 141\n",
      "  Accuracy calculated from the training set = 0.787\n",
      "  Accuracy calculated using 10-fold cross validation = 0.779\n",
      "min_samples_leaf: 121\n",
      "  Accuracy calculated from the training set = 0.787\n",
      "  Accuracy calculated using 10-fold cross validation = 0.779\n",
      "min_samples_leaf: 101\n",
      "  Accuracy calculated from the training set = 0.787\n",
      "  Accuracy calculated using 10-fold cross validation = 0.753\n",
      "min_samples_leaf: 81\n",
      "  Accuracy calculated from the training set = 0.787\n",
      "  Accuracy calculated using 10-fold cross validation = 0.753\n",
      "min_samples_leaf: 61\n",
      "  Accuracy calculated from the training set = 0.791\n",
      "  Accuracy calculated using 10-fold cross validation = 0.769\n",
      "min_samples_leaf: 41\n",
      "  Accuracy calculated from the training set = 0.799\n",
      "  Accuracy calculated using 10-fold cross validation = 0.747\n",
      "min_samples_leaf: 21\n",
      "  Accuracy calculated from the training set = 0.807\n",
      "  Accuracy calculated using 10-fold cross validation = 0.726\n",
      "min_samples_leaf: 1\n",
      "  Accuracy calculated from the training set = 0.862\n",
      "  Accuracy calculated using 10-fold cross validation = 0.756\n"
     ]
    }
   ],
   "source": [
    "# Experiment with min_samples_leaf to find the best model.\n",
    "\n",
    "for leaf in range(201,-1,-20):\n",
    "    print(\"min_samples_leaf: %d\" % leaf)\n",
    "    classifier = tree.DecisionTreeClassifier(min_samples_leaf=leaf)\n",
    "    classifier.fit(X,Y)\n",
    "    Y_pred = classifier.predict(X)\n",
    "    cm = confusion_matrix(Y, Y_pred)\n",
    "    accuracy = (cm[0][0]+cm[1][1])/(cm[0][0]+cm[1][1]+cm[0][1]+cm[1][0])\n",
    "    print(\"  Accuracy calculated from the training set = %.3f\" % (accuracy))\n",
    "    \n",
    "    scores = cross_val_score(estimator=classifier,\n",
    "                        X=X,\n",
    "                        y=Y,\n",
    "                        scoring=\"accuracy\",\n",
    "                        cv=k)\n",
    "    print(\"  Accuracy calculated using %d-fold cross validation = %.3f\" % (k, scores.mean()))\n",
    "    \n",
    "    "
   ]
  }
 ],
 "metadata": {
  "kernelspec": {
   "display_name": "Python 3",
   "language": "python",
   "name": "python3"
  },
  "language_info": {
   "codemirror_mode": {
    "name": "ipython",
    "version": 3
   },
   "file_extension": ".py",
   "mimetype": "text/x-python",
   "name": "python",
   "nbconvert_exporter": "python",
   "pygments_lexer": "ipython3",
   "version": "3.7.0"
  }
 },
 "nbformat": 4,
 "nbformat_minor": 2
}
