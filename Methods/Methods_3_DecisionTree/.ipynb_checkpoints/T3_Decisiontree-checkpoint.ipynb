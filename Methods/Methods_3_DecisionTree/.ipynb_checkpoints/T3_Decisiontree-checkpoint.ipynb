{
 "cells": [
  {
   "cell_type": "code",
   "execution_count": 1,
   "metadata": {},
   "outputs": [],
   "source": [
    "from sklearn import datasets, model_selection, svm, metrics\n",
    "import numpy as np\n",
    "import pandas as pd\n",
    "import threading\n",
    "from sklearn.model_selection import train_test_split\n",
    "from sklearn import tree\n",
    "import matplotlib.pyplot as plt\n",
    "from sklearn import preprocessing as pp"
   ]
  },
  {
   "cell_type": "code",
   "execution_count": 2,
   "metadata": {},
   "outputs": [
    {
     "name": "stdout",
     "output_type": "stream",
     "text": [
      "\n",
      "DESCRIBE DATA:\n",
      "        having_IP_Address    URL_Length  Shortining_Service  having_At_Symbol  \\\n",
      "count       11055.000000  11055.000000        11055.000000      11055.000000   \n",
      "mean            0.313795     -0.633198            0.738761          0.700588   \n",
      "std             0.949534      0.766095            0.673998          0.713598   \n",
      "min            -1.000000     -1.000000           -1.000000         -1.000000   \n",
      "25%            -1.000000     -1.000000            1.000000          1.000000   \n",
      "50%             1.000000     -1.000000            1.000000          1.000000   \n",
      "75%             1.000000     -1.000000            1.000000          1.000000   \n",
      "max             1.000000      1.000000            1.000000          1.000000   \n",
      "\n",
      "       double_slash_redirecting  Prefix_Suffix  having_Sub_Domain  \\\n",
      "count              11055.000000   11055.000000       11055.000000   \n",
      "mean                   0.741474      -0.734962           0.063953   \n",
      "std                    0.671011       0.678139           0.817518   \n",
      "min                   -1.000000      -1.000000          -1.000000   \n",
      "25%                    1.000000      -1.000000          -1.000000   \n",
      "50%                    1.000000      -1.000000           0.000000   \n",
      "75%                    1.000000      -1.000000           1.000000   \n",
      "max                    1.000000       1.000000           1.000000   \n",
      "\n",
      "       SSLfinal_State  Domain_registeration_length       Favicon  ...  \\\n",
      "count    11055.000000                 11055.000000  11055.000000  ...   \n",
      "mean         0.250927                    -0.336771      0.628584  ...   \n",
      "std          0.911892                     0.941629      0.777777  ...   \n",
      "min         -1.000000                    -1.000000     -1.000000  ...   \n",
      "25%         -1.000000                    -1.000000      1.000000  ...   \n",
      "50%          1.000000                    -1.000000      1.000000  ...   \n",
      "75%          1.000000                     1.000000      1.000000  ...   \n",
      "max          1.000000                     1.000000      1.000000  ...   \n",
      "\n",
      "        popUpWindow        Iframe  age_of_domain     DNSRecord   web_traffic  \\\n",
      "count  11055.000000  11055.000000   11055.000000  11055.000000  11055.000000   \n",
      "mean       0.613388      0.816915       0.061239      0.377114      0.287291   \n",
      "std        0.789818      0.576784       0.998168      0.926209      0.827733   \n",
      "min       -1.000000     -1.000000      -1.000000     -1.000000     -1.000000   \n",
      "25%        1.000000      1.000000      -1.000000     -1.000000      0.000000   \n",
      "50%        1.000000      1.000000       1.000000      1.000000      1.000000   \n",
      "75%        1.000000      1.000000       1.000000      1.000000      1.000000   \n",
      "max        1.000000      1.000000       1.000000      1.000000      1.000000   \n",
      "\n",
      "          Page_Rank  Google_Index  Links_pointing_to_page  Statistical_report  \\\n",
      "count  11055.000000  11055.000000            11055.000000        11055.000000   \n",
      "mean      -0.483673      0.721574                0.344007            0.719584   \n",
      "std        0.875289      0.692369                0.569944            0.694437   \n",
      "min       -1.000000     -1.000000               -1.000000           -1.000000   \n",
      "25%       -1.000000      1.000000                0.000000            1.000000   \n",
      "50%       -1.000000      1.000000                0.000000            1.000000   \n",
      "75%        1.000000      1.000000                1.000000            1.000000   \n",
      "max        1.000000      1.000000                1.000000            1.000000   \n",
      "\n",
      "             Result  \n",
      "count  11055.000000  \n",
      "mean       0.113885  \n",
      "std        0.993539  \n",
      "min       -1.000000  \n",
      "25%       -1.000000  \n",
      "50%        1.000000  \n",
      "75%        1.000000  \n",
      "max        1.000000  \n",
      "\n",
      "[8 rows x 31 columns]\n"
     ]
    },
    {
     "name": "stderr",
     "output_type": "stream",
     "text": [
      "C:\\Users\\Yooru\\Anaconda3\\lib\\site-packages\\ipykernel_launcher.py:7: FutureWarning: The 'get_values' method is deprecated and will be removed in a future version. Use '.to_numpy()' or '.array' instead.\n",
      "  import sys\n"
     ]
    },
    {
     "data": {
      "text/plain": [
       "(11055, 31)"
      ]
     },
     "execution_count": 2,
     "metadata": {},
     "output_type": "execute_result"
    }
   ],
   "source": [
    "##Prepare data##\n",
    "\n",
    "filename=r'phishing.csv'\n",
    "data_train=pd.read_csv(filename,index_col=None,na_values='?',sep = ';')\n",
    "\n",
    "data_train=data_train.dropna()\n",
    "colnames = data_train.columns.get_values()\n",
    "\n",
    "print(\"\\nDESCRIBE DATA:\\n\",data_train.describe())\n",
    "data_train.shape"
   ]
  },
  {
   "cell_type": "code",
   "execution_count": 3,
   "metadata": {},
   "outputs": [],
   "source": [
    "from sklearn.tree import DecisionTreeClassifier\n",
    "###MAKE DECISION TREE###\n",
    "\n",
    "#data_train\n",
    "X_all = data_train.drop(['Result'], axis=1)\n",
    "y_all = data_train['Result']\n",
    "\n",
    "test_size=2050\n",
    "train_size=8050\n",
    "\n",
    "X_train, X_test, y_train, y_test = model_selection.train_test_split(X_all, y_all, test_size=test_size, train_size=train_size)"
   ]
  },
  {
   "cell_type": "markdown",
   "metadata": {},
   "source": [
    "### Notes\n",
    "On default settings on tree makes bit unbalanced classification.\n",
    "fine tuned min_samples_split value to 1500.\n",
    "min_samples_leaf value tuning didn't really do nothing special between range 2-100 but if it is increased to 200 balance of the classification gets worse.\n"
   ]
  },
  {
   "cell_type": "code",
   "execution_count": 4,
   "metadata": {},
   "outputs": [
    {
     "name": "stdout",
     "output_type": "stream",
     "text": [
      "accuracy: 0.9102439024390244\n",
      "\n",
      "Predicted   -1     1   All\n",
      "True                      \n",
      "-1         793    73   866\n",
      "1          111  1073  1184\n",
      "All        904  1146  2050 \n",
      "\n",
      "              precision    recall  f1-score   support\n",
      "\n",
      "          -1       0.88      0.92      0.90       866\n",
      "           1       0.94      0.91      0.92      1184\n",
      "\n",
      "    accuracy                           0.91      2050\n",
      "   macro avg       0.91      0.91      0.91      2050\n",
      "weighted avg       0.91      0.91      0.91      2050\n",
      "\n"
     ]
    }
   ],
   "source": [
    "from sklearn.metrics import confusion_matrix \n",
    "from sklearn.metrics import precision_score,confusion_matrix,f1_score,classification_report\n",
    "\n",
    "clf = DecisionTreeClassifier(criterion=\"gini\",\n",
    "                             min_samples_split=1500,\n",
    "                             min_samples_leaf=50,\n",
    "                             splitter='best',\n",
    "                             max_depth=3)\n",
    "clf.fit(X_train, y_train)\n",
    "pre = clf.predict(X_test)\n",
    "\n",
    "accuracy_score = metrics.accuracy_score(y_test, pre)\n",
    "\n",
    "print(\"accuracy:\", accuracy_score)\n",
    "cf_matrix = confusion_matrix(y_test, pre)\n",
    "print()\n",
    "\n",
    "print(pd.crosstab(y_test, pre, rownames=['True'], colnames=['Predicted'], margins=True),\"\\n\")\n",
    "\n",
    "print(classification_report(y_test,pre))"
   ]
  },
  {
   "cell_type": "code",
   "execution_count": 5,
   "metadata": {
    "scrolled": true
   },
   "outputs": [
    {
     "data": {
      "image/png": "[encoded data removed]",
      "text/plain": [
       "<Figure size 432x288 with 1 Axes>"
      ]
     },
     "metadata": {
      "needs_background": "light"
     },
     "output_type": "display_data"
    }
   ],
   "source": [
    "from sklearn.tree import plot_tree\n",
    "#import graphviz\n",
    "plt.figure()\n",
    "plot_tree(clf, filled=True,class_names = ['legitimate','phising'])\n",
    "plt.show()\n",
    "\n",
    "from sklearn.tree import export_graphviz\n",
    "# Export as dot file\n",
    "export_graphviz(clf, out_file='tree.dot', \n",
    "                feature_names = colnames[:30],\n",
    "                class_names = ['legalise','phising'],\n",
    "                rounded = True, proportion = False, \n",
    "                precision = 2, filled = True)"
   ]
  },
  {
   "cell_type": "code",
   "execution_count": 9,
   "metadata": {},
   "outputs": [
    {
     "data": {
      "image/svg+xml": [
       "<?xml version=\"1.0\" encoding=\"UTF-8\" standalone=\"no\"?>\r\n",
       "<!DOCTYPE svg PUBLIC \"-//W3C//DTD SVG 1.1//EN\"\r\n",
       " \"http://www.w3.org/Graphics/SVG/1.1/DTD/svg11.dtd\">\r\n",
       "<!-- Generated by graphviz version 2.38.0 (20140413.2041)\r\n",
       " -->\r\n",
       "<!-- Title: Tree Pages: 1 -->\r\n",
       "<svg width=\"720pt\" height=\"463pt\"\r\n",
       " viewBox=\"0.00 0.00 720.00 463.24\" xmlns=\"http://www.w3.org/2000/svg\" xmlns:xlink=\"http://www.w3.org/1999/xlink\">\r\n",
       "<g id=\"graph0\" class=\"graph\" transform=\"scale(1.06984 1.06984) rotate(0) translate(4 429)\">\r\n",
       "<title>Tree</title>\r\n",
       "<polygon fill=\"white\" stroke=\"none\" points=\"-4,4 -4,-429 669,-429 669,4 -4,4\"/>\r\n",
       "<!-- 0 -->\r\n",
       "<g id=\"node1\" class=\"node\"><title>0</title>\r\n",
       "<path fill=\"#d9ecfa\" stroke=\"black\" d=\"M352.5,-425C352.5,-425 221.5,-425 221.5,-425 215.5,-425 209.5,-419 209.5,-413 209.5,-413 209.5,-354 209.5,-354 209.5,-348 215.5,-342 221.5,-342 221.5,-342 352.5,-342 352.5,-342 358.5,-342 364.5,-348 364.5,-354 364.5,-354 364.5,-413 364.5,-413 364.5,-419 358.5,-425 352.5,-425\"/>\r\n",
       "<text text-anchor=\"middle\" x=\"287\" y=\"-409.8\" font-family=\"Helvetica,sans-Serif\" font-size=\"14.00\">SSLfinal_State &lt;= 0.5</text>\r\n",
       "<text text-anchor=\"middle\" x=\"287\" y=\"-394.8\" font-family=\"Helvetica,sans-Serif\" font-size=\"14.00\">gini = 0.494</text>\r\n",
       "<text text-anchor=\"middle\" x=\"287\" y=\"-379.8\" font-family=\"Helvetica,sans-Serif\" font-size=\"14.00\">samples = 8050</text>\r\n",
       "<text text-anchor=\"middle\" x=\"287\" y=\"-364.8\" font-family=\"Helvetica,sans-Serif\" font-size=\"14.00\">value = [3598, 4452]</text>\r\n",
       "<text text-anchor=\"middle\" x=\"287\" y=\"-349.8\" font-family=\"Helvetica,sans-Serif\" font-size=\"14.00\">class = phising</text>\r\n",
       "</g>\r\n",
       "<!-- 1 -->\r\n",
       "<g id=\"node2\" class=\"node\"><title>1</title>\r\n",
       "<path fill=\"#e89051\" stroke=\"black\" d=\"M266,-306C266,-306 122,-306 122,-306 116,-306 110,-300 110,-294 110,-294 110,-235 110,-235 110,-229 116,-223 122,-223 122,-223 266,-223 266,-223 272,-223 278,-229 278,-235 278,-235 278,-294 278,-294 278,-300 272,-306 266,-306\"/>\r\n",
       "<text text-anchor=\"middle\" x=\"194\" y=\"-290.8\" font-family=\"Helvetica,sans-Serif\" font-size=\"14.00\">URL_of_Anchor &lt;= &#45;0.5</text>\r\n",
       "<text text-anchor=\"middle\" x=\"194\" y=\"-275.8\" font-family=\"Helvetica,sans-Serif\" font-size=\"14.00\">gini = 0.192</text>\r\n",
       "<text text-anchor=\"middle\" x=\"194\" y=\"-260.8\" font-family=\"Helvetica,sans-Serif\" font-size=\"14.00\">samples = 3459</text>\r\n",
       "<text text-anchor=\"middle\" x=\"194\" y=\"-245.8\" font-family=\"Helvetica,sans-Serif\" font-size=\"14.00\">value = [3087, 372]</text>\r\n",
       "<text text-anchor=\"middle\" x=\"194\" y=\"-230.8\" font-family=\"Helvetica,sans-Serif\" font-size=\"14.00\">class = legalise</text>\r\n",
       "</g>\r\n",
       "<!-- 0&#45;&gt;1 -->\r\n",
       "<g id=\"edge1\" class=\"edge\"><title>0&#45;&gt;1</title>\r\n",
       "<path fill=\"none\" stroke=\"black\" d=\"M254.734,-341.907C247.593,-332.923 239.956,-323.315 232.591,-314.05\"/>\r\n",
       "<polygon fill=\"black\" stroke=\"black\" points=\"235.171,-311.671 226.209,-306.021 229.691,-316.027 235.171,-311.671\"/>\r\n",
       "<text text-anchor=\"middle\" x=\"223.37\" y=\"-327.159\" font-family=\"Helvetica,sans-Serif\" font-size=\"14.00\">True</text>\r\n",
       "</g>\r\n",
       "<!-- 4 -->\r\n",
       "<g id=\"node5\" class=\"node\"><title>4</title>\r\n",
       "<path fill=\"#52a9e8\" stroke=\"black\" d=\"M452,-306C452,-306 308,-306 308,-306 302,-306 296,-300 296,-294 296,-294 296,-235 296,-235 296,-229 302,-223 308,-223 308,-223 452,-223 452,-223 458,-223 464,-229 464,-235 464,-235 464,-294 464,-294 464,-300 458,-306 452,-306\"/>\r\n",
       "<text text-anchor=\"middle\" x=\"380\" y=\"-290.8\" font-family=\"Helvetica,sans-Serif\" font-size=\"14.00\">URL_of_Anchor &lt;= &#45;0.5</text>\r\n",
       "<text text-anchor=\"middle\" x=\"380\" y=\"-275.8\" font-family=\"Helvetica,sans-Serif\" font-size=\"14.00\">gini = 0.198</text>\r\n",
       "<text text-anchor=\"middle\" x=\"380\" y=\"-260.8\" font-family=\"Helvetica,sans-Serif\" font-size=\"14.00\">samples = 4591</text>\r\n",
       "<text text-anchor=\"middle\" x=\"380\" y=\"-245.8\" font-family=\"Helvetica,sans-Serif\" font-size=\"14.00\">value = [511, 4080]</text>\r\n",
       "<text text-anchor=\"middle\" x=\"380\" y=\"-230.8\" font-family=\"Helvetica,sans-Serif\" font-size=\"14.00\">class = phising</text>\r\n",
       "</g>\r\n",
       "<!-- 0&#45;&gt;4 -->\r\n",
       "<g id=\"edge4\" class=\"edge\"><title>0&#45;&gt;4</title>\r\n",
       "<path fill=\"none\" stroke=\"black\" d=\"M319.266,-341.907C326.407,-332.923 334.044,-323.315 341.409,-314.05\"/>\r\n",
       "<polygon fill=\"black\" stroke=\"black\" points=\"344.309,-316.027 347.791,-306.021 338.829,-311.671 344.309,-316.027\"/>\r\n",
       "<text text-anchor=\"middle\" x=\"350.63\" y=\"-327.159\" font-family=\"Helvetica,sans-Serif\" font-size=\"14.00\">False</text>\r\n",
       "</g>\r\n",
       "<!-- 2 -->\r\n",
       "<g id=\"node3\" class=\"node\"><title>2</title>\r\n",
       "<path fill=\"#e58139\" stroke=\"black\" d=\"M110,-179.5C110,-179.5 12,-179.5 12,-179.5 6,-179.5 7.10543e-015,-173.5 7.10543e-015,-167.5 7.10543e-015,-167.5 7.10543e-015,-123.5 7.10543e-015,-123.5 7.10543e-015,-117.5 6,-111.5 12,-111.5 12,-111.5 110,-111.5 110,-111.5 116,-111.5 122,-117.5 122,-123.5 122,-123.5 122,-167.5 122,-167.5 122,-173.5 116,-179.5 110,-179.5\"/>\r\n",
       "<text text-anchor=\"middle\" x=\"61\" y=\"-164.3\" font-family=\"Helvetica,sans-Serif\" font-size=\"14.00\">gini = 0.0</text>\r\n",
       "<text text-anchor=\"middle\" x=\"61\" y=\"-149.3\" font-family=\"Helvetica,sans-Serif\" font-size=\"14.00\">samples = 2215</text>\r\n",
       "<text text-anchor=\"middle\" x=\"61\" y=\"-134.3\" font-family=\"Helvetica,sans-Serif\" font-size=\"14.00\">value = [2215, 0]</text>\r\n",
       "<text text-anchor=\"middle\" x=\"61\" y=\"-119.3\" font-family=\"Helvetica,sans-Serif\" font-size=\"14.00\">class = legalise</text>\r\n",
       "</g>\r\n",
       "<!-- 1&#45;&gt;2 -->\r\n",
       "<g id=\"edge2\" class=\"edge\"><title>1&#45;&gt;2</title>\r\n",
       "<path fill=\"none\" stroke=\"black\" d=\"M147.856,-222.907C134.435,-211.101 119.789,-198.217 106.413,-186.45\"/>\r\n",
       "<polygon fill=\"black\" stroke=\"black\" points=\"108.523,-183.644 98.7026,-179.667 103.899,-188.9 108.523,-183.644\"/>\r\n",
       "</g>\r\n",
       "<!-- 3 -->\r\n",
       "<g id=\"node4\" class=\"node\"><title>3</title>\r\n",
       "<path fill=\"#f0b78d\" stroke=\"black\" d=\"M258,-179.5C258,-179.5 152,-179.5 152,-179.5 146,-179.5 140,-173.5 140,-167.5 140,-167.5 140,-123.5 140,-123.5 140,-117.5 146,-111.5 152,-111.5 152,-111.5 258,-111.5 258,-111.5 264,-111.5 270,-117.5 270,-123.5 270,-123.5 270,-167.5 270,-167.5 270,-173.5 264,-179.5 258,-179.5\"/>\r\n",
       "<text text-anchor=\"middle\" x=\"205\" y=\"-164.3\" font-family=\"Helvetica,sans-Serif\" font-size=\"14.00\">gini = 0.419</text>\r\n",
       "<text text-anchor=\"middle\" x=\"205\" y=\"-149.3\" font-family=\"Helvetica,sans-Serif\" font-size=\"14.00\">samples = 1244</text>\r\n",
       "<text text-anchor=\"middle\" x=\"205\" y=\"-134.3\" font-family=\"Helvetica,sans-Serif\" font-size=\"14.00\">value = [872, 372]</text>\r\n",
       "<text text-anchor=\"middle\" x=\"205\" y=\"-119.3\" font-family=\"Helvetica,sans-Serif\" font-size=\"14.00\">class = legalise</text>\r\n",
       "</g>\r\n",
       "<!-- 1&#45;&gt;3 -->\r\n",
       "<g id=\"edge3\" class=\"edge\"><title>1&#45;&gt;3</title>\r\n",
       "<path fill=\"none\" stroke=\"black\" d=\"M197.816,-222.907C198.823,-212.204 199.912,-200.615 200.931,-189.776\"/>\r\n",
       "<polygon fill=\"black\" stroke=\"black\" points=\"204.43,-189.951 201.882,-179.667 197.461,-189.295 204.43,-189.951\"/>\r\n",
       "</g>\r\n",
       "<!-- 5 -->\r\n",
       "<g id=\"node6\" class=\"node\"><title>5</title>\r\n",
       "<path fill=\"#ea9a60\" stroke=\"black\" d=\"M419,-179.5C419,-179.5 321,-179.5 321,-179.5 315,-179.5 309,-173.5 309,-167.5 309,-167.5 309,-123.5 309,-123.5 309,-117.5 315,-111.5 321,-111.5 321,-111.5 419,-111.5 419,-111.5 425,-111.5 431,-117.5 431,-123.5 431,-123.5 431,-167.5 431,-167.5 431,-173.5 425,-179.5 419,-179.5\"/>\r\n",
       "<text text-anchor=\"middle\" x=\"370\" y=\"-164.3\" font-family=\"Helvetica,sans-Serif\" font-size=\"14.00\">gini = 0.274</text>\r\n",
       "<text text-anchor=\"middle\" x=\"370\" y=\"-149.3\" font-family=\"Helvetica,sans-Serif\" font-size=\"14.00\">samples = 183</text>\r\n",
       "<text text-anchor=\"middle\" x=\"370\" y=\"-134.3\" font-family=\"Helvetica,sans-Serif\" font-size=\"14.00\">value = [153, 30]</text>\r\n",
       "<text text-anchor=\"middle\" x=\"370\" y=\"-119.3\" font-family=\"Helvetica,sans-Serif\" font-size=\"14.00\">class = legalise</text>\r\n",
       "</g>\r\n",
       "<!-- 4&#45;&gt;5 -->\r\n",
       "<g id=\"edge5\" class=\"edge\"><title>4&#45;&gt;5</title>\r\n",
       "<path fill=\"none\" stroke=\"black\" d=\"M376.531,-222.907C375.616,-212.204 374.625,-200.615 373.699,-189.776\"/>\r\n",
       "<polygon fill=\"black\" stroke=\"black\" points=\"377.174,-189.333 372.835,-179.667 370.199,-189.929 377.174,-189.333\"/>\r\n",
       "</g>\r\n",
       "<!-- 6 -->\r\n",
       "<g id=\"node7\" class=\"node\"><title>6</title>\r\n",
       "<path fill=\"#4ba6e7\" stroke=\"black\" d=\"M575,-187C575,-187 461,-187 461,-187 455,-187 449,-181 449,-175 449,-175 449,-116 449,-116 449,-110 455,-104 461,-104 461,-104 575,-104 575,-104 581,-104 587,-110 587,-116 587,-116 587,-175 587,-175 587,-181 581,-187 575,-187\"/>\r\n",
       "<text text-anchor=\"middle\" x=\"518\" y=\"-171.8\" font-family=\"Helvetica,sans-Serif\" font-size=\"14.00\">web_traffic &lt;= 0.5</text>\r\n",
       "<text text-anchor=\"middle\" x=\"518\" y=\"-156.8\" font-family=\"Helvetica,sans-Serif\" font-size=\"14.00\">gini = 0.149</text>\r\n",
       "<text text-anchor=\"middle\" x=\"518\" y=\"-141.8\" font-family=\"Helvetica,sans-Serif\" font-size=\"14.00\">samples = 4408</text>\r\n",
       "<text text-anchor=\"middle\" x=\"518\" y=\"-126.8\" font-family=\"Helvetica,sans-Serif\" font-size=\"14.00\">value = [358, 4050]</text>\r\n",
       "<text text-anchor=\"middle\" x=\"518\" y=\"-111.8\" font-family=\"Helvetica,sans-Serif\" font-size=\"14.00\">class = phising</text>\r\n",
       "</g>\r\n",
       "<!-- 4&#45;&gt;6 -->\r\n",
       "<g id=\"edge6\" class=\"edge\"><title>4&#45;&gt;6</title>\r\n",
       "<path fill=\"none\" stroke=\"black\" d=\"M427.878,-222.907C439.011,-213.469 450.954,-203.343 462.388,-193.649\"/>\r\n",
       "<polygon fill=\"black\" stroke=\"black\" points=\"464.842,-196.157 470.206,-187.021 460.315,-190.818 464.842,-196.157\"/>\r\n",
       "</g>\r\n",
       "<!-- 7 -->\r\n",
       "<g id=\"node8\" class=\"node\"><title>7</title>\r\n",
       "<path fill=\"#61b1ea\" stroke=\"black\" d=\"M497,-68C497,-68 383,-68 383,-68 377,-68 371,-62 371,-56 371,-56 371,-12 371,-12 371,-6 377,-0 383,-0 383,-0 497,-0 497,-0 503,-0 509,-6 509,-12 509,-12 509,-56 509,-56 509,-62 503,-68 497,-68\"/>\r\n",
       "<text text-anchor=\"middle\" x=\"440\" y=\"-52.8\" font-family=\"Helvetica,sans-Serif\" font-size=\"14.00\">gini = 0.281</text>\r\n",
       "<text text-anchor=\"middle\" x=\"440\" y=\"-37.8\" font-family=\"Helvetica,sans-Serif\" font-size=\"14.00\">samples = 1442</text>\r\n",
       "<text text-anchor=\"middle\" x=\"440\" y=\"-22.8\" font-family=\"Helvetica,sans-Serif\" font-size=\"14.00\">value = [244, 1198]</text>\r\n",
       "<text text-anchor=\"middle\" x=\"440\" y=\"-7.8\" font-family=\"Helvetica,sans-Serif\" font-size=\"14.00\">class = phising</text>\r\n",
       "</g>\r\n",
       "<!-- 6&#45;&gt;7 -->\r\n",
       "<g id=\"edge7\" class=\"edge\"><title>6&#45;&gt;7</title>\r\n",
       "<path fill=\"none\" stroke=\"black\" d=\"M488.956,-103.726C482.654,-94.879 475.98,-85.51 469.654,-76.6303\"/>\r\n",
       "<polygon fill=\"black\" stroke=\"black\" points=\"472.373,-74.4138 463.72,-68.2996 466.671,-78.4751 472.373,-74.4138\"/>\r\n",
       "</g>\r\n",
       "<!-- 8 -->\r\n",
       "<g id=\"node9\" class=\"node\"><title>8</title>\r\n",
       "<path fill=\"#41a1e6\" stroke=\"black\" d=\"M653,-68C653,-68 539,-68 539,-68 533,-68 527,-62 527,-56 527,-56 527,-12 527,-12 527,-6 533,-0 539,-0 539,-0 653,-0 653,-0 659,-0 665,-6 665,-12 665,-12 665,-56 665,-56 665,-62 659,-68 653,-68\"/>\r\n",
       "<text text-anchor=\"middle\" x=\"596\" y=\"-52.8\" font-family=\"Helvetica,sans-Serif\" font-size=\"14.00\">gini = 0.074</text>\r\n",
       "<text text-anchor=\"middle\" x=\"596\" y=\"-37.8\" font-family=\"Helvetica,sans-Serif\" font-size=\"14.00\">samples = 2966</text>\r\n",
       "<text text-anchor=\"middle\" x=\"596\" y=\"-22.8\" font-family=\"Helvetica,sans-Serif\" font-size=\"14.00\">value = [114, 2852]</text>\r\n",
       "<text text-anchor=\"middle\" x=\"596\" y=\"-7.8\" font-family=\"Helvetica,sans-Serif\" font-size=\"14.00\">class = phising</text>\r\n",
       "</g>\r\n",
       "<!-- 6&#45;&gt;8 -->\r\n",
       "<g id=\"edge8\" class=\"edge\"><title>6&#45;&gt;8</title>\r\n",
       "<path fill=\"none\" stroke=\"black\" d=\"M547.044,-103.726C553.346,-94.879 560.02,-85.51 566.346,-76.6303\"/>\r\n",
       "<polygon fill=\"black\" stroke=\"black\" points=\"569.329,-78.4751 572.28,-68.2996 563.627,-74.4138 569.329,-78.4751\"/>\r\n",
       "</g>\r\n",
       "</g>\r\n",
       "</svg>\r\n"
      ],
      "text/plain": [
       "<graphviz.files.Source at 0x1f36e23cec8>"
      ]
     },
     "execution_count": 9,
     "metadata": {},
     "output_type": "execute_result"
    }
   ],
   "source": [
    "##Edited plot\n",
    "import pydotplus\n",
    "import pydot\n",
    "import graphviz\n",
    "\n",
    "tree_data = export_graphviz(clf, feature_names=colnames[:30], out_file=None,class_names = ['legalise','phising'], filled=True, rounded=True)\n",
    "\n",
    "tree_graph = pydotplus.graph_from_dot_data(tree_data)\n",
    "\n",
    "tree_graph.set_size('\"10,10!\"')\n",
    "#tree_graph.write_png('tree.png')\n",
    "\n",
    "graphviz_graph = graphviz.Source(tree_graph.to_string())\n",
    "graphviz_graph"
   ]
  },
  {
   "cell_type": "code",
   "execution_count": null,
   "metadata": {},
   "outputs": [],
   "source": []
  },
  {
   "cell_type": "code",
   "execution_count": null,
   "metadata": {},
   "outputs": [],
   "source": []
  }
 ],
 "metadata": {
  "kernelspec": {
   "display_name": "Python 3",
   "language": "python",
   "name": "python3"
  },
  "language_info": {
   "codemirror_mode": {
    "name": "ipython",
    "version": 3
   },
   "file_extension": ".py",
   "mimetype": "text/x-python",
   "name": "python",
   "nbconvert_exporter": "python",
   "pygments_lexer": "ipython3",
   "version": "3.7.4"
  }
 },
 "nbformat": 4,
 "nbformat_minor": 2
}
