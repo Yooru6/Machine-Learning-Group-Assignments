{
 "cells": [
  {
   "cell_type": "code",
   "execution_count": 1,
   "metadata": {},
   "outputs": [],
   "source": [
    "from sklearn import datasets, model_selection, svm, metrics\n",
    "import numpy as np\n",
    "import pandas as pd\n",
    "import threading\n",
    "from sklearn.model_selection import train_test_split\n",
    "from sklearn import tree\n",
    "import matplotlib.pyplot as plt\n",
    "from sklearn import preprocessing as pp"
   ]
  },
  {
   "cell_type": "code",
   "execution_count": 2,
   "metadata": {},
   "outputs": [
    {
     "name": "stdout",
     "output_type": "stream",
     "text": [
      "\n",
      "DESCRIBE DATA:\n",
      "        having_IP_Address    URL_Length  Shortining_Service  having_At_Symbol  \\\n",
      "count       11055.000000  11055.000000        11055.000000      11055.000000   \n",
      "mean            0.313795     -0.633198            0.738761          0.700588   \n",
      "std             0.949534      0.766095            0.673998          0.713598   \n",
      "min            -1.000000     -1.000000           -1.000000         -1.000000   \n",
      "25%            -1.000000     -1.000000            1.000000          1.000000   \n",
      "50%             1.000000     -1.000000            1.000000          1.000000   \n",
      "75%             1.000000     -1.000000            1.000000          1.000000   \n",
      "max             1.000000      1.000000            1.000000          1.000000   \n",
      "\n",
      "       double_slash_redirecting  Prefix_Suffix  having_Sub_Domain  \\\n",
      "count              11055.000000   11055.000000       11055.000000   \n",
      "mean                   0.741474      -0.734962           0.063953   \n",
      "std                    0.671011       0.678139           0.817518   \n",
      "min                   -1.000000      -1.000000          -1.000000   \n",
      "25%                    1.000000      -1.000000          -1.000000   \n",
      "50%                    1.000000      -1.000000           0.000000   \n",
      "75%                    1.000000      -1.000000           1.000000   \n",
      "max                    1.000000       1.000000           1.000000   \n",
      "\n",
      "       SSLfinal_State  Domain_registeration_length       Favicon  ...  \\\n",
      "count    11055.000000                 11055.000000  11055.000000  ...   \n",
      "mean         0.250927                    -0.336771      0.628584  ...   \n",
      "std          0.911892                     0.941629      0.777777  ...   \n",
      "min         -1.000000                    -1.000000     -1.000000  ...   \n",
      "25%         -1.000000                    -1.000000      1.000000  ...   \n",
      "50%          1.000000                    -1.000000      1.000000  ...   \n",
      "75%          1.000000                     1.000000      1.000000  ...   \n",
      "max          1.000000                     1.000000      1.000000  ...   \n",
      "\n",
      "        popUpWindow        Iframe  age_of_domain     DNSRecord   web_traffic  \\\n",
      "count  11055.000000  11055.000000   11055.000000  11055.000000  11055.000000   \n",
      "mean       0.613388      0.816915       0.061239      0.377114      0.287291   \n",
      "std        0.789818      0.576784       0.998168      0.926209      0.827733   \n",
      "min       -1.000000     -1.000000      -1.000000     -1.000000     -1.000000   \n",
      "25%        1.000000      1.000000      -1.000000     -1.000000      0.000000   \n",
      "50%        1.000000      1.000000       1.000000      1.000000      1.000000   \n",
      "75%        1.000000      1.000000       1.000000      1.000000      1.000000   \n",
      "max        1.000000      1.000000       1.000000      1.000000      1.000000   \n",
      "\n",
      "          Page_Rank  Google_Index  Links_pointing_to_page  Statistical_report  \\\n",
      "count  11055.000000  11055.000000            11055.000000        11055.000000   \n",
      "mean      -0.483673      0.721574                0.344007            0.719584   \n",
      "std        0.875289      0.692369                0.569944            0.694437   \n",
      "min       -1.000000     -1.000000               -1.000000           -1.000000   \n",
      "25%       -1.000000      1.000000                0.000000            1.000000   \n",
      "50%       -1.000000      1.000000                0.000000            1.000000   \n",
      "75%        1.000000      1.000000                1.000000            1.000000   \n",
      "max        1.000000      1.000000                1.000000            1.000000   \n",
      "\n",
      "             Result  \n",
      "count  11055.000000  \n",
      "mean       0.113885  \n",
      "std        0.993539  \n",
      "min       -1.000000  \n",
      "25%       -1.000000  \n",
      "50%        1.000000  \n",
      "75%        1.000000  \n",
      "max        1.000000  \n",
      "\n",
      "[8 rows x 31 columns]\n"
     ]
    }
   ],
   "source": [
    "##Prepare data##\n",
    "\n",
    "filename=r'phishing.csv'\n",
    "data_train=pd.read_csv(filename,index_col=None,na_values='?',sep = ';')\n",
    "\n",
    "data_train=data_train.dropna()\n",
    "colnames = data_train.columns.get_values()\n",
    "\n",
    "\n",
    "print(\"\\nDESCRIBE DATA:\\n\",data_train.describe())"
   ]
  },
  {
   "cell_type": "code",
   "execution_count": null,
   "metadata": {},
   "outputs": [],
   "source": []
  },
  {
   "cell_type": "code",
   "execution_count": 3,
   "metadata": {},
   "outputs": [
    {
     "name": "stdout",
     "output_type": "stream",
     "text": [
      "(1106, 30)\n",
      "accuracy: 0.903254972875226\n"
     ]
    }
   ],
   "source": [
    "from sklearn.tree import DecisionTreeClassifier\n",
    "###MAKE DECISION TREE###\n",
    "\n",
    "\n",
    "X_all = data_train.drop(['Result'], axis=1)#data_train\n",
    "#print(X_all)\n",
    "y_all = data_train['Result']\n",
    "#print(y_all.head())\n",
    "\n",
    "\n",
    "test_size=0.1\n",
    "train_size=5000\n",
    "\n",
    "X_train, X_test, y_train, y_test = model_selection.train_test_split(X_all, y_all, test_size=test_size, train_size=train_size)\n",
    "\n",
    "print(X_test.shape)\n",
    "\n",
    "####\n",
    "clf = DecisionTreeClassifier(criterion=\"gini\",\n",
    "                             min_samples_split=100,\n",
    "                             splitter='best',\n",
    "                             max_depth=3)\n",
    "clf.fit(X_train, y_train)\n",
    "\n",
    "\n",
    "pre = clf.predict(X_test)\n",
    "\n",
    "\n",
    "accuracy_score = metrics.accuracy_score(y_test, pre)\n",
    "\n",
    "print(\"accuracy:\", accuracy_score)"
   ]
  },
  {
   "cell_type": "code",
   "execution_count": 20,
   "metadata": {
    "scrolled": true
   },
   "outputs": [
    {
     "data": {
      "image/png": "[encoded data removed]",
      "text/plain": [
       "<Figure size 432x288 with 1 Axes>"
      ]
     },
     "metadata": {
      "needs_background": "light"
     },
     "output_type": "display_data"
    }
   ],
   "source": [
    "#from sklearn.preprocessing import StandardScaler\n",
    "#scaler = StandardScaler()\n",
    "#df_scaled = pd.DataFrame(scaler.fit_transform(data_train))\n",
    "#print(df_scaled)\n",
    "\n",
    "\n",
    "plt.figure()\n",
    "plot_tree(clf, filled=True)\n",
    "plt.show()\n",
    "\n",
    "from sklearn.tree import export_graphviz\n",
    "# Export as dot file\n",
    "export_graphviz(clf, out_file='tree.dot', \n",
    "                feature_names = colnames[:30],\n",
    "                class_names = colnames[30],\n",
    "                rounded = True, proportion = False, \n",
    "                precision = 2, filled = True)\n",
    "\n",
    "\n",
    "\n",
    "\n",
    "#xgb.plot_tree(clf, num_trees=2)\n",
    "#fig = matplotlib.pyplot.gcf()\n",
    "#fig.set_size_inches(150, 100)\n",
    "#fig.savefig('tree.png')\n",
    "#plt.show()"
   ]
  },
  {
   "cell_type": "code",
   "execution_count": null,
   "metadata": {},
   "outputs": [],
   "source": [
    "from yellowbrick.features import Rank2D\n",
    "\n",
    "#df_scaled = pd.DataFrame(df_scaled, columns=colnames)\n",
    "#print (df_scaled)\n",
    "#df_scaled.columns=colnames\n",
    "#print(df_scaled)\n",
    "\n",
    "visualizer = Rank2D(algorithm=\"pearson\")\n",
    "visualizer.fit_transform(data_train)# or df_scaled\n",
    "visualizer.show()"
   ]
  },
  {
   "cell_type": "code",
   "execution_count": null,
   "metadata": {},
   "outputs": [],
   "source": []
  }
 ],
 "metadata": {
  "kernelspec": {
   "display_name": "Python 3",
   "language": "python",
   "name": "python3"
  },
  "language_info": {
   "codemirror_mode": {
    "name": "ipython",
    "version": 3
   },
   "file_extension": ".py",
   "mimetype": "text/x-python",
   "name": "python",
   "nbconvert_exporter": "python",
   "pygments_lexer": "ipython3",
   "version": "3.7.3"
  }
 },
 "nbformat": 4,
 "nbformat_minor": 2
}
