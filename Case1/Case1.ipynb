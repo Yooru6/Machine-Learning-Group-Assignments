{
 "cells": [
  {
   "cell_type": "markdown",
   "metadata": {},
   "source": [
    "# Case 1. Heart Disease Classification\n",
    "\n",
    "#### Joonas Lehikoinen, Przemyslaw Zuchmanski\n",
    "##### 31.01.2020\n",
    "### Helsinki Metropolia University of Applied Sciences"
   ]
  },
  {
   "cell_type": "markdown",
   "metadata": {},
   "source": [
    "The main object is to created and train a dense neural network to predict the presence of heart disease on the base of heart disease cleveland data downloaded from the site: https://archive.ics.uci.edu/ml/machine-learning-databases/heart-disease/ .<br><br><br><br>"
   ]
  },
  {
   "cell_type": "markdown",
   "metadata": {},
   "source": [
    "## Data\n",
    "The data contains values of various health factors usefull in detecting heart diseases. There are 13 factors described in 13 coluns. 14th column describes if the patint sufers from heart disease. The number of records is 303. Missing values (detected in 6 raws) were replaced with 0. "
   ]
  },
  {
   "cell_type": "code",
   "execution_count": 1,
   "metadata": {},
   "outputs": [
    {
     "name": "stdout",
     "output_type": "stream",
     "text": [
      "Populating the interactive namespace from numpy and matplotlib\n"
     ]
    }
   ],
   "source": [
    "%pylab inline\n",
    "import pandas as pd\n",
    "import numpy\n",
    "from sklearn import preprocessing\n",
    "import tensorflow as tf\n",
    "from sklearn.model_selection import train_test_split\n",
    "\n",
    "\n",
    "#names of columns\n",
    "names = [\"age\",\"sex\",\"cp\",\"trestbps\",\"chol\",\"fbs\",\"restecg\",\n",
    "                            \"thalach\",\"examg\",\"oldpeak\",\"slope\",\"ca\",\"thal\",\"num\"]\n",
    "                   \n",
    "#reading data and giving names for columns, detecting NaN valuess\n",
    "df = pd.read_csv(\"processed.cleveland.data\", \n",
    "                 names=names,\n",
    "                     header=None, \n",
    "                     index_col = None, \n",
    "                     na_values = '?')\n",
    "\n",
    "#replacing NaN values with 0\n",
    "df = df.replace(numpy.NaN,0)"
   ]
  },
  {
   "cell_type": "markdown",
   "metadata": {},
   "source": [
    "Basic statistics are as follows"
   ]
  },
  {
   "cell_type": "code",
   "execution_count": 2,
   "metadata": {},
   "outputs": [
    {
     "name": "stdout",
     "output_type": "stream",
     "text": [
      "shape of data set:  (303, 14)\n"
     ]
    },
    {
     "data": {
      "text/html": [
       "<div>\n",
       "<style scoped>\n",
       "    .dataframe tbody tr th:only-of-type {\n",
       "        vertical-align: middle;\n",
       "    }\n",
       "\n",
       "    .dataframe tbody tr th {\n",
       "        vertical-align: top;\n",
       "    }\n",
       "\n",
       "    .dataframe thead th {\n",
       "        text-align: right;\n",
       "    }\n",
       "</style>\n",
       "<table border=\"1\" class=\"dataframe\">\n",
       "  <thead>\n",
       "    <tr style=\"text-align: right;\">\n",
       "      <th></th>\n",
       "      <th>age</th>\n",
       "      <th>sex</th>\n",
       "      <th>cp</th>\n",
       "      <th>trestbps</th>\n",
       "      <th>chol</th>\n",
       "      <th>fbs</th>\n",
       "      <th>restecg</th>\n",
       "      <th>thalach</th>\n",
       "      <th>examg</th>\n",
       "      <th>oldpeak</th>\n",
       "      <th>slope</th>\n",
       "      <th>ca</th>\n",
       "      <th>thal</th>\n",
       "      <th>num</th>\n",
       "    </tr>\n",
       "  </thead>\n",
       "  <tbody>\n",
       "    <tr>\n",
       "      <td>count</td>\n",
       "      <td>303.000000</td>\n",
       "      <td>303.000000</td>\n",
       "      <td>303.000000</td>\n",
       "      <td>303.000000</td>\n",
       "      <td>303.000000</td>\n",
       "      <td>303.000000</td>\n",
       "      <td>303.000000</td>\n",
       "      <td>303.000000</td>\n",
       "      <td>303.000000</td>\n",
       "      <td>303.000000</td>\n",
       "      <td>303.000000</td>\n",
       "      <td>303.000000</td>\n",
       "      <td>303.000000</td>\n",
       "      <td>303.000000</td>\n",
       "    </tr>\n",
       "    <tr>\n",
       "      <td>mean</td>\n",
       "      <td>54.438944</td>\n",
       "      <td>0.679868</td>\n",
       "      <td>3.158416</td>\n",
       "      <td>131.689769</td>\n",
       "      <td>246.693069</td>\n",
       "      <td>0.148515</td>\n",
       "      <td>0.990099</td>\n",
       "      <td>149.607261</td>\n",
       "      <td>0.326733</td>\n",
       "      <td>1.039604</td>\n",
       "      <td>1.600660</td>\n",
       "      <td>0.663366</td>\n",
       "      <td>4.702970</td>\n",
       "      <td>0.937294</td>\n",
       "    </tr>\n",
       "    <tr>\n",
       "      <td>std</td>\n",
       "      <td>9.038662</td>\n",
       "      <td>0.467299</td>\n",
       "      <td>0.960126</td>\n",
       "      <td>17.599748</td>\n",
       "      <td>51.776918</td>\n",
       "      <td>0.356198</td>\n",
       "      <td>0.994971</td>\n",
       "      <td>22.875003</td>\n",
       "      <td>0.469794</td>\n",
       "      <td>1.161075</td>\n",
       "      <td>0.616226</td>\n",
       "      <td>0.934375</td>\n",
       "      <td>1.971038</td>\n",
       "      <td>1.228536</td>\n",
       "    </tr>\n",
       "    <tr>\n",
       "      <td>min</td>\n",
       "      <td>29.000000</td>\n",
       "      <td>0.000000</td>\n",
       "      <td>1.000000</td>\n",
       "      <td>94.000000</td>\n",
       "      <td>126.000000</td>\n",
       "      <td>0.000000</td>\n",
       "      <td>0.000000</td>\n",
       "      <td>71.000000</td>\n",
       "      <td>0.000000</td>\n",
       "      <td>0.000000</td>\n",
       "      <td>1.000000</td>\n",
       "      <td>0.000000</td>\n",
       "      <td>0.000000</td>\n",
       "      <td>0.000000</td>\n",
       "    </tr>\n",
       "    <tr>\n",
       "      <td>25%</td>\n",
       "      <td>48.000000</td>\n",
       "      <td>0.000000</td>\n",
       "      <td>3.000000</td>\n",
       "      <td>120.000000</td>\n",
       "      <td>211.000000</td>\n",
       "      <td>0.000000</td>\n",
       "      <td>0.000000</td>\n",
       "      <td>133.500000</td>\n",
       "      <td>0.000000</td>\n",
       "      <td>0.000000</td>\n",
       "      <td>1.000000</td>\n",
       "      <td>0.000000</td>\n",
       "      <td>3.000000</td>\n",
       "      <td>0.000000</td>\n",
       "    </tr>\n",
       "    <tr>\n",
       "      <td>50%</td>\n",
       "      <td>56.000000</td>\n",
       "      <td>1.000000</td>\n",
       "      <td>3.000000</td>\n",
       "      <td>130.000000</td>\n",
       "      <td>241.000000</td>\n",
       "      <td>0.000000</td>\n",
       "      <td>1.000000</td>\n",
       "      <td>153.000000</td>\n",
       "      <td>0.000000</td>\n",
       "      <td>0.800000</td>\n",
       "      <td>2.000000</td>\n",
       "      <td>0.000000</td>\n",
       "      <td>3.000000</td>\n",
       "      <td>0.000000</td>\n",
       "    </tr>\n",
       "    <tr>\n",
       "      <td>75%</td>\n",
       "      <td>61.000000</td>\n",
       "      <td>1.000000</td>\n",
       "      <td>4.000000</td>\n",
       "      <td>140.000000</td>\n",
       "      <td>275.000000</td>\n",
       "      <td>0.000000</td>\n",
       "      <td>2.000000</td>\n",
       "      <td>166.000000</td>\n",
       "      <td>1.000000</td>\n",
       "      <td>1.600000</td>\n",
       "      <td>2.000000</td>\n",
       "      <td>1.000000</td>\n",
       "      <td>7.000000</td>\n",
       "      <td>2.000000</td>\n",
       "    </tr>\n",
       "    <tr>\n",
       "      <td>max</td>\n",
       "      <td>77.000000</td>\n",
       "      <td>1.000000</td>\n",
       "      <td>4.000000</td>\n",
       "      <td>200.000000</td>\n",
       "      <td>564.000000</td>\n",
       "      <td>1.000000</td>\n",
       "      <td>2.000000</td>\n",
       "      <td>202.000000</td>\n",
       "      <td>1.000000</td>\n",
       "      <td>6.200000</td>\n",
       "      <td>3.000000</td>\n",
       "      <td>3.000000</td>\n",
       "      <td>7.000000</td>\n",
       "      <td>4.000000</td>\n",
       "    </tr>\n",
       "  </tbody>\n",
       "</table>\n",
       "</div>"
      ],
      "text/plain": [
       "              age         sex          cp    trestbps        chol         fbs  \\\n",
       "count  303.000000  303.000000  303.000000  303.000000  303.000000  303.000000   \n",
       "mean    54.438944    0.679868    3.158416  131.689769  246.693069    0.148515   \n",
       "std      9.038662    0.467299    0.960126   17.599748   51.776918    0.356198   \n",
       "min     29.000000    0.000000    1.000000   94.000000  126.000000    0.000000   \n",
       "25%     48.000000    0.000000    3.000000  120.000000  211.000000    0.000000   \n",
       "50%     56.000000    1.000000    3.000000  130.000000  241.000000    0.000000   \n",
       "75%     61.000000    1.000000    4.000000  140.000000  275.000000    0.000000   \n",
       "max     77.000000    1.000000    4.000000  200.000000  564.000000    1.000000   \n",
       "\n",
       "          restecg     thalach       examg     oldpeak       slope          ca  \\\n",
       "count  303.000000  303.000000  303.000000  303.000000  303.000000  303.000000   \n",
       "mean     0.990099  149.607261    0.326733    1.039604    1.600660    0.663366   \n",
       "std      0.994971   22.875003    0.469794    1.161075    0.616226    0.934375   \n",
       "min      0.000000   71.000000    0.000000    0.000000    1.000000    0.000000   \n",
       "25%      0.000000  133.500000    0.000000    0.000000    1.000000    0.000000   \n",
       "50%      1.000000  153.000000    0.000000    0.800000    2.000000    0.000000   \n",
       "75%      2.000000  166.000000    1.000000    1.600000    2.000000    1.000000   \n",
       "max      2.000000  202.000000    1.000000    6.200000    3.000000    3.000000   \n",
       "\n",
       "             thal         num  \n",
       "count  303.000000  303.000000  \n",
       "mean     4.702970    0.937294  \n",
       "std      1.971038    1.228536  \n",
       "min      0.000000    0.000000  \n",
       "25%      3.000000    0.000000  \n",
       "50%      3.000000    0.000000  \n",
       "75%      7.000000    2.000000  \n",
       "max      7.000000    4.000000  "
      ]
     },
     "execution_count": 2,
     "metadata": {},
     "output_type": "execute_result"
    }
   ],
   "source": [
    "print('shape of data set: ', df.shape)\n",
    "df.describe()"
   ]
  },
  {
   "cell_type": "markdown",
   "metadata": {},
   "source": [
    "Division data into two subsets: <br>\n",
    "data - all health factors <br>\n",
    "labels - indicate if the person is rather sick (1) or healthy (0)"
   ]
  },
  {
   "cell_type": "code",
   "execution_count": 3,
   "metadata": {},
   "outputs": [],
   "source": [
    "#dividing set to data and labels\n",
    "data = df.drop(['num'], axis=1)\n",
    "#converting labels to binary atribute\n",
    "label = 1.0*(df['num'] >0)"
   ]
  },
  {
   "cell_type": "markdown",
   "metadata": {},
   "source": [
    "## Models and training\n",
    "Dividing data. For training and validating we use 80% of samples. Remains 20% we will use for testing."
   ]
  },
  {
   "cell_type": "code",
   "execution_count": 4,
   "metadata": {},
   "outputs": [],
   "source": [
    "train_data, test_data, train_labels, test_labels = train_test_split(\n",
    "                    data,\n",
    "                    label,\n",
    "                    test_size = 0.2,\n",
    "                    random_state = 39,\n",
    "                    shuffle = True)\n",
    "\n",
    "mean = train_data.mean(axis=0)\n",
    "train_data -= mean\n",
    "std = train_data.std(axis=0)\n",
    "train_data /= std\n",
    "test_data -= mean\n",
    "test_data /= std\n"
   ]
  },
  {
   "cell_type": "markdown",
   "metadata": {},
   "source": [
    "### Functions\n",
    "in order to makes testing and showing the resuts easier we made functions\n",
    "\n",
    "###### defineModel\n",
    "Defining a the model. We use 20% of remaining data for validation. <br>\n",
    "Function is build in such a way that it enables changes the main parameters such as number of layers, size of layers, activation list, regulizer, number of dropouts and optimizer when calling. <br>\n",
    "Funcion also prints setup for easier testing."
   ]
  },
  {
   "cell_type": "code",
   "execution_count": 5,
   "metadata": {},
   "outputs": [],
   "source": [
    "from tensorflow.keras.models import Sequential\n",
    "from tensorflow.keras.layers import LSTM, Activation, Flatten, Dropout, Dense, Embedding, TimeDistributed\n",
    "from tensorflow.keras.callbacks import ModelCheckpoint\n",
    "#from tensorflow.keras.utils import np_utils\n",
    "from tensorflow.keras import regularizers\n",
    "\n",
    "model=None\n",
    "history = model\n",
    "\n",
    "def defineModel(layers_num,neurons_list,activation_list,regualizer_list,dropout_num,optimizer_str):\n",
    "    \n",
    "    #Define use of global model parameter \n",
    "    global model\n",
    "    model=None\n",
    "    model = Sequential()\n",
    "    \n",
    "    #Define parameters\n",
    "    LSTM_layer_num=3\n",
    "    layer_size = neurons_list    \n",
    "    activation_list=activation_list #softmax, tanh, sigmoid, linear    \n",
    "    dropout=dropout_num\n",
    "    model = Sequential()\n",
    "    regularizer_list = regualizer_list\n",
    "    \n",
    "    #Compile parameters\n",
    "    optimizer_par= optimizer_str #\"adam\", RMSprop\n",
    "    metrics_par = \"accuracy\"\n",
    "    loss_par=\"binary_crossentropy\"\n",
    "    \n",
    "\n",
    "    # Define layers and parameters, printing for easier testing \n",
    "    \n",
    "    print('''\n",
    "        ********** NEURAL NETWORK STRUCTURE **********''')\n",
    "    model.add(Dense(layer_size[0],name=\"input\", input_shape =(13,),activation=activation_list[0],kernel_regularizer=regularizers.l2(regularizer_list[0])))\n",
    "    model.add(Dropout(dropout))\n",
    "    print(f'''\n",
    "        Layer1 - neurons: {layer_size[0]}, activation: {activation_list[0]}, regularizer: L2({regularizer_list[0]})\n",
    "        Dropout - {dropout}''')\n",
    "    \n",
    "    \n",
    "    if (layers_num>=2):\n",
    "        model.add(Dense(layer_size[1],name=\"dense1\", activation=activation_list[1],kernel_regularizer=regularizers.l2(regularizer_list[1])))\n",
    "        model.add(Dropout(dropout))\n",
    "        print(f'''\n",
    "        Layer2 - neurons: {layer_size[1]}, activation: {activation_list[1]}, regularizer: L2({regularizer_list[1]})\n",
    "        Dropout - {dropout}''')\n",
    "        \n",
    "        if (layers_num==3):\n",
    "            \n",
    "            model.add(Dense(layer_size[2],name=\"dense2\", activation=activation_list[2],kernel_regularizer=regularizers.l2(regularizer_list[2])))\n",
    "            model.add(Dropout(dropout))\n",
    "            print(f'''\n",
    "        Layer3 - neurons: {layer_size[1]}, activation: {activation_list[2]}, regularizer: L2({regularizer_list[2]})\n",
    "        Dropout - {dropout})''')\n",
    "    \n",
    "    model.add(Dense(1,activation = \"sigmoid\",name=\"output\"))\n",
    "    \n",
    "    #Compile model\n",
    "    model.compile(loss = loss_par, optimizer = optimizer_par, metrics=[metrics_par])\n",
    "          \n",
    "          \n",
    "    print(f'''\n",
    "        Dense(output) - neurons: 1, activation: sigmoid)\\n\n",
    "        Optimizer: {optimizer_par}''')\n",
    "    #print models layer information\n",
    "    #model.summary()  "
   ]
  },
  {
   "cell_type": "markdown",
   "metadata": {},
   "source": [
    "#### fitModel\n",
    "Fitting model and storing data for testing.<br> \n",
    "Function is build in such a way that it enables changes the main parameters such as num of epochs and batch size.<br>\n",
    "Each time the function is called check point with loss is saved in external file."
   ]
  },
  {
   "cell_type": "code",
   "execution_count": 6,
   "metadata": {},
   "outputs": [],
   "source": [
    "def fitModel(num_epo,batch):\n",
    "    global model\n",
    "    \n",
    "    print(f'''\n",
    "        Batch-size: {batch}\n",
    "        epochs: {num_epo})\n",
    "    ''')\n",
    "    \n",
    "    #Define callbacks and checkpoint (saves best model out of epochs based on monitored alue)\n",
    "    checkpoint_name = 'DiseaseModel'\n",
    "    checkpoint = ModelCheckpoint(checkpoint_name, monitor='loss', verbose = 0, save_best_only = True, mode ='min')#,patience=3\n",
    "    callbacks_list = [checkpoint]  \n",
    "    \n",
    "      \n",
    "    \n",
    "    #Define parameters and Fit the model :\n",
    "    global history\n",
    "    model_params = {'epochs': num_epo,\n",
    "                    'batch_size': batch,\n",
    "                    'callbacks': callbacks_list,\n",
    "                    'verbose': 0,\n",
    "                    'validation_split': 0.20,\n",
    "                    'shuffle': True,\n",
    "                    'initial_epoch': 1,\n",
    "                    'steps_per_epoch': None,\n",
    "                    'validation_steps': None}\n",
    "\n",
    "    \n",
    "    history=model.fit(train_data.values,\n",
    "    train_labels.values,\n",
    "    epochs = model_params['epochs'],\n",
    "    batch_size = model_params['batch_size'],\n",
    "    callbacks= model_params['callbacks'],\n",
    "    verbose = model_params['verbose'],\n",
    "    validation_split = model_params['validation_split'],   \n",
    "                     )"
   ]
  },
  {
   "cell_type": "markdown",
   "metadata": {},
   "source": [
    "#### plot\n",
    "Plotting loss and accuracy vs time presented in epochs"
   ]
  },
  {
   "cell_type": "code",
   "execution_count": 7,
   "metadata": {},
   "outputs": [],
   "source": [
    "def plot():\n",
    "    # Plot the loss score and mean absolute error for both training and validation setss\n",
    "    \n",
    "\n",
    "    #collecting data from history\n",
    "    loss = history.history['loss']\n",
    "    val_loss = history.history['val_loss']\n",
    "    mae = history.history['acc']\n",
    "    val_mae = history.history['val_acc']\n",
    "    \n",
    "    #Cut first points of graph\n",
    "    short_loss = loss[2:]\n",
    "    short_val_loss = val_loss[2:]\n",
    "    \n",
    "\n",
    "    #defining time axis\n",
    "    time = range(1,len(loss)+1)\n",
    "\n",
    "    #ploting loss vs Epochs\n",
    "    #loss of validation set is red\n",
    "    plt.plot(range(1,len(short_loss)+1), short_loss, 'b-')\n",
    "    #plt.plot(time, loss, 'b-')\n",
    "    plt.plot(range(1,len(short_val_loss)+1), short_val_loss, 'r-')\n",
    "    #plt.plot(time, val_loss, 'r-')\n",
    "    plt.xlabel('Epochs')\n",
    "    plt.ylabel('Loss')\n",
    "    plt.show()\n",
    "\n",
    "    #ploting accuracy vs Epochs\n",
    "    #accuracy of validation set is red\n",
    "    \n",
    "    #plt.plot(range(1,len(short_loss)+1), short_mae, 'b-')\n",
    "    plt.plot(time, mae, 'b-')\n",
    "    #plt.plot(range(1,len(short_val_loss)+1), short_val_mae, 'r-')\n",
    "    plt.plot(time, val_mae, 'r-')\n",
    "    plt.xlabel('Epochs')\n",
    "    plt.ylabel('ACC')\n",
    "    plt.show()"
   ]
  },
  {
   "cell_type": "markdown",
   "metadata": {},
   "source": [
    "#### evaluate\n",
    "Evaluate model and print results. Additionally the function returs the uotput of evaluation"
   ]
  },
  {
   "cell_type": "code",
   "execution_count": 8,
   "metadata": {
    "scrolled": true
   },
   "outputs": [],
   "source": [
    "def evaluate():\n",
    "    score = model.evaluate(test_data.values, test_labels.values)\n",
    "    \n",
    "    print(f'''\\n\n",
    "*************  TEST RESULT  ******************\n",
    "    \\nLoss: {score[0]}\\nAccuracy: {score[1]*100}\\n\n",
    "***********************************************''')\n",
    "    \n",
    "    #return score"
   ]
  },
  {
   "cell_type": "markdown",
   "metadata": {},
   "source": [
    "#### loadWeights\n",
    "Load previously saved model from computer"
   ]
  },
  {
   "cell_type": "code",
   "execution_count": 9,
   "metadata": {},
   "outputs": [],
   "source": [
    "def loadWeights(weightFile):\n",
    "    weights_file = weightFile # weights file path\n",
    "    model.load_weights(weights_file)\n",
    "    model.compile(loss = 'mse', optimizer = 'adam',metrics=['mae'])"
   ]
  },
  {
   "cell_type": "markdown",
   "metadata": {},
   "source": [
    "## Results"
   ]
  },
  {
   "cell_type": "markdown",
   "metadata": {},
   "source": [
    "##### Main tried combinations\n",
    "Different kind of neural networks were tried on data sets and here is some findings from different models.\n",
    "Parameters for each network can be found above graphs.\n",
    "\n"
   ]
  },
  {
   "cell_type": "markdown",
   "metadata": {},
   "source": [
    "### 13 neurons 1-3 layers.\n",
    "\n",
    "1 Layer: model seemed to perform quite well till ~40-50 epochs with training and validaiting set.\n",
    "Testing set proofed this claim to be true. \n",
    "\n",
    "\n",
    "##### Test results:\n",
    "\n",
    "40 epochs:\n",
    "    \n",
    "Loss: 0.3444248721247814\n",
    "Accuracy: 91.80327653884888\n",
    "\n",
    "\n",
    "\n",
    "2 layers:\n",
    "most of the time performed well till 120~epochs after that slight over fitting could be noticed.\n"
   ]
  },
  {
   "cell_type": "code",
   "execution_count": 31,
   "metadata": {},
   "outputs": [
    {
     "name": "stdout",
     "output_type": "stream",
     "text": [
      "\n",
      "        ********** NEURAL NETWORK STRUCTURE **********\n",
      "\n",
      "        Layer1 - neurons: 13, activation: relu, regularizer: L2(0.005)\n",
      "        Dropout - 0.1\n",
      "\n",
      "        Dense(output) - neurons: 1, activation: sigmoid)\n",
      "\n",
      "        Optimizer: adam\n",
      "\n",
      "        Batch-size: 4\n",
      "        epochs: 40)\n",
      "    \n"
     ]
    },
    {
     "data": {
      "image/png": "[encoded data removed]",
      "text/plain": [
       "<Figure size 432x288 with 1 Axes>"
      ]
     },
     "metadata": {
      "needs_background": "light"
     },
     "output_type": "display_data"
    },
    {
     "data": {
      "image/png": "[encoded data removed]",
      "text/plain": [
       "<Figure size 432x288 with 1 Axes>"
      ]
     },
     "metadata": {
      "needs_background": "light"
     },
     "output_type": "display_data"
    },
    {
     "name": "stdout",
     "output_type": "stream",
     "text": [
      "61/61 [==============================] - 0s 81us/sample - loss: 0.3611 - acc: 0.8852\n",
      "\n",
      "\n",
      "*************  TEST RESULT  ******************\n",
      "    \n",
      "Loss: 0.36109327097408106\n",
      "Accuracy: 88.52459192276001\n",
      "\n",
      "***********************************************\n"
     ]
    }
   ],
   "source": [
    "#makeModel(layers_num, neurons_list[num], activation_list[str], regualzer_list[num], dropout_num, optimizer_str)\n",
    "defineModel(1,[13],[\"relu\"],[0.005],0.1,\"adam\")\n",
    "\n",
    "#fitModel(epochs_num,batch_num)\n",
    "fitModel(40,4)\n",
    "plot()\n",
    "\n",
    "#Evaluate\n",
    "evaluate()"
   ]
  },
  {
   "cell_type": "code",
   "execution_count": 29,
   "metadata": {},
   "outputs": [
    {
     "name": "stdout",
     "output_type": "stream",
     "text": [
      "\n",
      "        ********** NEURAL NETWORK STRUCTURE **********\n",
      "\n",
      "        Layer1 - neurons: 13, activation: relu, regularizer: L2(0.005)\n",
      "        Dropout - 0.1\n",
      "\n",
      "        Layer2 - neurons: 13, activation: relu, regularizer: L2(0.05)\n",
      "        Dropout - 0.1\n",
      "\n",
      "        Dense(output) - neurons: 1, activation: sigmoid)\n",
      "\n",
      "        Optimizer: adam\n",
      "\n",
      "        Batch-size: 4\n",
      "        epochs: 120)\n",
      "    \n"
     ]
    },
    {
     "data": {
      "image/png": "[encoded data removed]",
      "text/plain": [
       "<Figure size 432x288 with 1 Axes>"
      ]
     },
     "metadata": {
      "needs_background": "light"
     },
     "output_type": "display_data"
    },
    {
     "data": {
      "image/png": "[encoded data removed]",
      "text/plain": [
       "<Figure size 432x288 with 1 Axes>"
      ]
     },
     "metadata": {
      "needs_background": "light"
     },
     "output_type": "display_data"
    },
    {
     "name": "stdout",
     "output_type": "stream",
     "text": [
      "61/61 [==============================] - 0s 49us/sample - loss: 0.3802 - acc: 0.9016\n",
      "\n",
      "\n",
      "*************  TEST RESULT  ******************\n",
      "    \n",
      "Loss: 0.38018937579921036\n",
      "Accuracy: 90.16393423080444\n",
      "\n",
      "***********************************************\n"
     ]
    }
   ],
   "source": [
    "#makeModel(layers_num, neurons_list[num], activation_list[str], regualzer_list[num], dropout_num, optimizer_str)\n",
    "defineModel(2,[13,13],[\"relu\",\"relu\"],[0.005,0.05],0.1,\"adam\")\n",
    "\n",
    "#fitModel(epochs_num,batch_num)\n",
    "fitModel(120,4)\n",
    "plot()\n",
    "\n",
    "#Evaluate\n",
    "evaluate()"
   ]
  },
  {
   "cell_type": "code",
   "execution_count": 34,
   "metadata": {},
   "outputs": [
    {
     "name": "stdout",
     "output_type": "stream",
     "text": [
      "\n",
      "        ********** NEURAL NETWORK STRUCTURE **********\n",
      "\n",
      "        Layer1 - neurons: 13, activation: relu, regularizer: L2(0.005)\n",
      "        Dropout - 0.1\n",
      "\n",
      "        Layer2 - neurons: 13, activation: relu, regularizer: L2(0.05)\n",
      "        Dropout - 0.1\n",
      "\n",
      "        Layer3 - neurons: 13, activation: relu, regularizer: L2(0.005)\n",
      "        Dropout - 0.1)\n",
      "\n",
      "        Dense(output) - neurons: 1, activation: sigmoid)\n",
      "\n",
      "        Optimizer: adam\n",
      "\n",
      "        Batch-size: 4\n",
      "        epochs: 150)\n",
      "    \n"
     ]
    },
    {
     "data": {
      "image/png": "[encoded data removed]",
      "text/plain": [
       "<Figure size 432x288 with 1 Axes>"
      ]
     },
     "metadata": {
      "needs_background": "light"
     },
     "output_type": "display_data"
    },
    {
     "data": {
      "image/png": "[encoded data removed]",
      "text/plain": [
       "<Figure size 432x288 with 1 Axes>"
      ]
     },
     "metadata": {
      "needs_background": "light"
     },
     "output_type": "display_data"
    },
    {
     "name": "stdout",
     "output_type": "stream",
     "text": [
      "61/61 [==============================] - 0s 98us/sample - loss: 0.5307 - acc: 0.8525\n",
      "\n",
      "\n",
      "*************  TEST RESULT  ******************\n",
      "    \n",
      "Loss: 0.5307473510992332\n",
      "Accuracy: 85.24590134620667\n",
      "\n",
      "***********************************************\n"
     ]
    }
   ],
   "source": [
    "#makeModel(layers_num, neurons_list[num], activation_list[str], regualzer_list[num], dropout_num, optimizer_str)\n",
    "defineModel(3,[13,13,13],[\"relu\",\"relu\",\"relu\"],[0.005,0.05,0.005],0.1,\"adam\")\n",
    "\n",
    "#fitModel(epochs_num,batch_num)\n",
    "fitModel(150,4)\n",
    "plot()\n",
    "\n",
    "#Evaluate\n",
    "evaluate()"
   ]
  },
  {
   "cell_type": "markdown",
   "metadata": {},
   "source": [
    "### 400 neurons 1 layer:\n",
    "\n",
    "When we used 400 neurons on each layers:\n",
    "\n",
    "1 layer model: seemed to performed very poorly when we looked on graph. It started to overfit after 15 epochs so we tried to finetune the model by dropping the epochs to 15. Results were quite suprising because now model performed better than any model before on testing set.\n",
    "\n",
    "150 epochs:\n",
    "Loss: 0.5629275245744674\n",
    "Accuracy: 78.68852615356445\n",
    "\n",
    "15 epochs:\n",
    "Loss: 0.37276301374200915\n",
    "Accuracy: 93.44262480735779\n"
   ]
  },
  {
   "cell_type": "code",
   "execution_count": 13,
   "metadata": {},
   "outputs": [
    {
     "name": "stdout",
     "output_type": "stream",
     "text": [
      "\n",
      "        ********** NEURAL NETWORK STRUCTURE **********\n",
      "\n",
      "        Layer1 - neurons: 400, activation: relu, regularizer: L2(0.005)\n",
      "        Dropout - 0.1\n",
      "\n",
      "        Dense(output) - neurons: 1, activation: sigmoid)\n",
      "\n",
      "        Optimizer: adam\n",
      "\n",
      "        Batch-size: 4\n",
      "        epochs: 100)\n",
      "    \n"
     ]
    },
    {
     "data": {
      "image/png": "[encoded data removed]",
      "text/plain": [
       "<Figure size 432x288 with 1 Axes>"
      ]
     },
     "metadata": {
      "needs_background": "light"
     },
     "output_type": "display_data"
    },
    {
     "data": {
      "image/png": "[encoded data removed]",
      "text/plain": [
       "<Figure size 432x288 with 1 Axes>"
      ]
     },
     "metadata": {
      "needs_background": "light"
     },
     "output_type": "display_data"
    },
    {
     "name": "stdout",
     "output_type": "stream",
     "text": [
      "61/61 [==============================] - 0s 147us/sample - loss: 0.5622 - acc: 0.7705\n",
      "\n",
      "\n",
      "*************  TEST RESULT  ******************\n",
      "    \n",
      "Loss: 0.5622253212772432\n",
      "Accuracy: 77.04917788505554\n",
      "\n",
      "***********************************************\n"
     ]
    }
   ],
   "source": [
    "#makeModel(layers_num, neurons_list[num], activation_list[str], regualzer_list[num], dropout_num, optimizer_str)\n",
    "defineModel(1,[400],[\"relu\"],[0.005],0.1,\"adam\")\n",
    "\n",
    "#fitModel(epochs_num,batch_num)\n",
    "fitModel(100,4)\n",
    "plot()\n",
    "\n",
    "#Evaluate\n",
    "evaluate()"
   ]
  },
  {
   "cell_type": "code",
   "execution_count": 35,
   "metadata": {},
   "outputs": [
    {
     "name": "stdout",
     "output_type": "stream",
     "text": [
      "\n",
      "        ********** NEURAL NETWORK STRUCTURE **********\n",
      "\n",
      "        Layer1 - neurons: 400, activation: relu, regularizer: L2(0.005)\n",
      "        Dropout - 0.1\n",
      "\n",
      "        Dense(output) - neurons: 1, activation: sigmoid)\n",
      "\n",
      "        Optimizer: adam\n",
      "\n",
      "        Batch-size: 4\n",
      "        epochs: 15)\n",
      "    \n"
     ]
    },
    {
     "data": {
      "image/png": "[encoded data removed]",
      "text/plain": [
       "<Figure size 432x288 with 1 Axes>"
      ]
     },
     "metadata": {
      "needs_background": "light"
     },
     "output_type": "display_data"
    },
    {
     "data": {
      "image/png": "[encoded data removed]",
      "text/plain": [
       "<Figure size 432x288 with 1 Axes>"
      ]
     },
     "metadata": {
      "needs_background": "light"
     },
     "output_type": "display_data"
    },
    {
     "name": "stdout",
     "output_type": "stream",
     "text": [
      "61/61 [==============================] - 0s 98us/sample - loss: 0.3668 - acc: 0.9180\n",
      "\n",
      "\n",
      "*************  TEST RESULT  ******************\n",
      "    \n",
      "Loss: 0.36678795589775337\n",
      "Accuracy: 91.80327653884888\n",
      "\n",
      "***********************************************\n"
     ]
    }
   ],
   "source": [
    "#makeModel(layers_num, neurons_list[num], activation_list[str], regualzer_list[num], dropout_num, optimizer_str)\n",
    "defineModel(1,[400],[\"relu\"],[0.005],0.1,\"adam\")\n",
    "\n",
    "#fitModel(epochs_num,batch_num)\n",
    "fitModel(15,4)\n",
    "plot()\n",
    "\n",
    "#Evaluate\n",
    "evaluate()"
   ]
  },
  {
   "cell_type": "code",
   "execution_count": null,
   "metadata": {},
   "outputs": [],
   "source": []
  },
  {
   "cell_type": "markdown",
   "metadata": {},
   "source": [
    "#### Additional results with different parameter:"
   ]
  },
  {
   "cell_type": "markdown",
   "metadata": {},
   "source": [
    "## 1:    \n",
    "    \n",
    "    ***********************************************************************************\n",
    "    Layers: \n",
    " \n",
    "    Dense1 - neurons: 68, activation: relu, regularizer: L2(0.1)\n",
    "\n",
    "    Dropout - 0.4\n",
    "\n",
    "    Dense2 - neurons: 68, activation: relu, regularizer: L2(0.1)\n",
    "\n",
    "    Dropout - 0.4\n",
    "\n",
    "    Dense(output) - neurons: 1)\n",
    "    \n",
    "    Optimizer:adam\n",
    "    \n",
    "    Batch-size: 10\n",
    "    epochs: 250\n",
    "    ***********************************************************************************  \n",
    "    \n",
    "    Result:\n",
    "    \n",
    "    Loss: 0.42949211988292757\n",
    "    Accuracy: 91.80327653884888\n"
   ]
  },
  {
   "cell_type": "markdown",
   "metadata": {},
   "source": [
    "## 2:    \n",
    "    ***********************************************************************************\n",
    "    Layers: \n",
    " \n",
    "    Dense1 - neurons: 68, activation: relu, regularizer: L2(0.1)\n",
    "\n",
    "    Dropout - 0.4\n",
    "\n",
    "    Dense2 - neurons: 68, activation: relu, regularizer: L2(0.1)\n",
    "\n",
    "    Dropout - 0.4\n",
    "\n",
    "    Dense(output) - neurons: 1)\n",
    "    \n",
    "    Optimizer:adam\n",
    "    \n",
    "    Batch-size:4\n",
    "    epochs: 250\n",
    "    ***********************************************************************************\n",
    "    \n",
    "    Result:\n",
    "\n",
    "    Loss: 0.3861997435327436\n",
    "    Accuracy: 91.80327653884888"
   ]
  },
  {
   "cell_type": "markdown",
   "metadata": {},
   "source": [
    "## 3:\n",
    "    \n",
    "    ***********************************************************************************\n",
    "    Layers: \n",
    " \n",
    "    Dense1 - neurons: 84, activation: relu, regularizer: L2(0.05)\n",
    "\n",
    "    Dropout - 0.4\n",
    "\n",
    "    Dense2 - neurons: 84, activation: relu, regularizer: L2(0.1)\n",
    "\n",
    "    Dropout - 0.4\n",
    "\n",
    "    Dense(output) - neurons: 1)\n",
    "    \n",
    "    Optimizer: adam\n",
    "    \n",
    "    Batch-size: 4\n",
    "    epochs: 115\n",
    "    ***********************************************************************************\n",
    "    \n",
    "    \n",
    "    TEST RESULT:\n",
    "    \n",
    "    Loss: 0.40598516874626034\n",
    "    Accuracy: 86.8852436542511\n",
    "\n",
    "    ***********************************************\n",
    "    "
   ]
  },
  {
   "cell_type": "markdown",
   "metadata": {},
   "source": [
    "## 4:\n",
    "    \n",
    "    ***********************************************************************************\n",
    "    Layers: \n",
    " \n",
    "    Dense1 - neurons: 84, activation: relu, regularizer: L2(0.05)\n",
    "\n",
    "    Dropout - 0.4\n",
    "\n",
    "    Dense2 - neurons: 84, activation: relu, regularizer: L2(0.1)\n",
    "\n",
    "    Dropout - 0.4\n",
    "\n",
    "    Dense(output) - neurons: 1)\n",
    "    \n",
    "    Optimizer: adam\n",
    "    \n",
    "    Batch-size: 4\n",
    "    epochs: 65\n",
    "    ***********************************************************************************\n",
    "    \n",
    "    *************  TEST RESULT  ******************\n",
    "    \n",
    "    Loss: 0.406089111429746\n",
    "    Accuracy: 90.16393423080444\n",
    "\n",
    "    ***********************************************"
   ]
  },
  {
   "cell_type": "markdown",
   "metadata": {},
   "source": [
    "## 5:\n",
    "\n",
    "    ***********************************************************************************\n",
    "    Layers: \n",
    " \n",
    "    Dense1 - neurons: 84, activation: relu, regularizer: L2(0.05)\n",
    "\n",
    "    Dropout - 0.4\n",
    "\n",
    "    Dense2 - neurons: 84, activation: relu, regularizer: L2(0.1)\n",
    "\n",
    "    Dropout - 0.4\n",
    "\n",
    "    Dense(output) - neurons: 1)\n",
    "    \n",
    "    Optimizer: adam\n",
    "    \n",
    "    Batch-size: 4\n",
    "    epochs: 10\n",
    "    ***********************************************************************************\n",
    "    \n",
    "    *************  TEST RESULT  ******************\n",
    "    \n",
    "    Loss: 0.5175350904464722\n",
    "    Accuracy: 90.16393423080444\n",
    "\n",
    "    ***********************************************"
   ]
  },
  {
   "cell_type": "markdown",
   "metadata": {},
   "source": [
    "## 6:\n",
    "\n",
    "    ***********************************************************************************\n",
    "    Layers: \n",
    " \n",
    "    Dense1 - neurons: 16, activation: relu, regularizer: L2(0.05)\n",
    "\n",
    "    Dropout - 0.4\n",
    "\n",
    "    Dense2 - neurons: 16, activation: relu, regularizer: L2(0.1)\n",
    "\n",
    "    Dropout - 0.4\n",
    "\n",
    "    Dense(output) - neurons: 1)\n",
    "    \n",
    "    Optimizer: adam\n",
    "    \n",
    "    Batch-size: 4\n",
    "    epochs: 150\n",
    "    ***********************************************************************************\n",
    "    \n",
    "    *************  TEST RESULT  ******************\n",
    "    \n",
    "    Loss: 0.39709243178367615\n",
    "    Accuracy: 90.16393423080444\n",
    "\n",
    "    ***********************************************"
   ]
  },
  {
   "cell_type": "markdown",
   "metadata": {},
   "source": [
    "## 7:\n",
    "\n",
    "    ***********************************************************************************\n",
    "    Layers: \n",
    " \n",
    "    Dense1 - neurons: 16, activation: relu, regularizer: L2(0.05)\n",
    "\n",
    "    Dropout - 0.2\n",
    "\n",
    "    Dense2 - neurons: 16, activation: relu, regularizer: L2(0.1)\n",
    "\n",
    "    Dropout - 0.2\n",
    "\n",
    "    Dense(output) - neurons: 1)\n",
    "    \n",
    "    Optimizer: adam\n",
    "    \n",
    "    Batch-size: 4\n",
    "    epochs: 200\n",
    "    ***********************************************************************************\n",
    "    \n",
    "    *************  TEST RESULT  ******************\n",
    "    \n",
    "    Loss: 0.3838785530113783\n",
    "    Accuracy: 90.16393423080444\n",
    "    \n",
    "    ***********************************************"
   ]
  },
  {
   "cell_type": "markdown",
   "metadata": {},
   "source": [
    "## 8:\n",
    "    ***********************************************************************************\n",
    "    Layers: \n",
    " \n",
    "    Dense1 - neurons: 16, activation: relu, regularizer: L2(0.05)\n",
    "\n",
    "    Dropout - 0.4\n",
    "\n",
    "    Dense2 - neurons: 8, activation: relu, regularizer: L2(0.1)\n",
    "\n",
    "    Dropout - 0.4\n",
    "\n",
    "    Dense(output) - neurons: 1, activation: sigmoint)\n",
    "    \n",
    "    Optimizer: adam\n",
    "    \n",
    "    Batch-size: 4\n",
    "    epochs: 500\n",
    "    ***********************************************************************************\n",
    "    \n",
    "    *************  TEST RESULT  ******************\n",
    "\n",
    "    Loss: 0.39709243178367615\n",
    "    Accuracy: 90.16393423080444\n",
    "\n",
    "    ***********************************************"
   ]
  },
  {
   "cell_type": "markdown",
   "metadata": {},
   "source": [
    "## 9:\n",
    "\n",
    "    ***********************************************************************************\n",
    "    Layers: \n",
    " \n",
    "    Dense1 - neurons: 13, activation: relu, regularizer: L2(0.005)\n",
    "\n",
    "    Dropout - 0.2\n",
    "\n",
    "    Dense2 - neurons: 5, activation: relu, regularizer: L2(0.005)\n",
    "\n",
    "    Dropout - 0.2\n",
    "    \n",
    "    Dense2 - neurons: 5, activation: relu, regularizer: L2(0.005)\n",
    "\n",
    "    Dropout - 0.2\n",
    "\n",
    "\n",
    "    Dense(output) - neurons: 1)\n",
    "    \n",
    "    Optimizer: adam\n",
    "    \n",
    "    Batch-size: 4\n",
    "    epochs: 100\n",
    "    ***********************************************************************************\n",
    "    \n",
    "    *************  TEST RESULT  ******************\n",
    "    \n",
    "    Loss: 0.3525885934712457\n",
    "    Accuracy: 85.24590134620667\n",
    "\n",
    "    ***********************************************"
   ]
  },
  {
   "cell_type": "markdown",
   "metadata": {},
   "source": [
    "## 10\n",
    "\n",
    "    ***********************************************************************************\n",
    "    Layers: \n",
    " \n",
    "    Dense1 - neurons: 13, activation: relu, regularizer: L2(0.005)\n",
    "\n",
    "    Dropout - 0.2\n",
    "\n",
    "    Dense2 - neurons: 13, activation: relu, regularizer: L2(0.05)\n",
    "\n",
    "    Dropout - 0.2\n",
    "\n",
    "    Dense(output) - neurons: 1)\n",
    "    \n",
    "    Optimizer: adam\n",
    "    \n",
    "    Batch-size: 4\n",
    "    epochs: 150\n",
    "    ***********************************************************************************\n",
    "    \n",
    "    *************  TEST RESULT  ******************\n",
    "    \n",
    "    Loss: 0.3697339247484676\n",
    "    Accuracy: 88.52459192276001\n",
    "\n",
    "    ***********************************************"
   ]
  },
  {
   "cell_type": "markdown",
   "metadata": {},
   "source": [
    "## 11\n",
    "\n",
    "    ***********************************************************************************\n",
    "    Layers: \n",
    " \n",
    "    Dense1 - neurons: 13, activation: relu, regularizer: L2(0.005)\n",
    "\n",
    "    Dropout - 0.1\n",
    "\n",
    "    Dense2 - neurons: 9, activation: relu, regularizer: L2(0.005)\n",
    "\n",
    "    Dropout - 0.1\n",
    "\n",
    "    Dense(output) - neurons: 1, activation: sigmoid)\n",
    "    \n",
    "    Optimizer: adam\n",
    "    \n",
    "    Batch-size: 2\n",
    "    epochs: 50\n",
    "    ***********************************************************************************\n",
    "    \n",
    "    *************  TEST RESULT  ******************\n",
    "    \n",
    "    Loss: 0.35020713337132187\n",
    "    Accuracy: 90.16393423080444\n",
    "\n",
    "    ***********************************************"
   ]
  }
 ],
 "metadata": {
  "kernelspec": {
   "display_name": "Python 3",
   "language": "python",
   "name": "python3"
  },
  "language_info": {
   "codemirror_mode": {
    "name": "ipython",
    "version": 3
   },
   "file_extension": ".py",
   "mimetype": "text/x-python",
   "name": "python",
   "nbconvert_exporter": "python",
   "pygments_lexer": "ipython3",
   "version": "3.7.4"
  }
 },
 "nbformat": 4,
 "nbformat_minor": 2
}
